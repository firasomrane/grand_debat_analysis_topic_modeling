{
 "cells": [
  {
   "cell_type": "markdown",
   "metadata": {},
   "source": [
    "\n",
    "<center> <h1> <font color='blue'> Notebook 3 : Topic Modeling </font> </h1>  <h2> Group 4 </h2> </center>"
   ]
  },
  {
   "cell_type": "markdown",
   "metadata": {},
   "source": [
    "### About this notebook"
   ]
  },
  {
   "cell_type": "markdown",
   "metadata": {},
   "source": [
    "In this notebook we have built topic modeling and here are the steps :\n",
    "\n",
    "    1-Prepare data already cleaned and grouped\n",
    "    \n",
    "    2-LDA Model with different data: \n",
    "    For visualization we have used the pyLDAvis tool which gives good interactive illustration.\n",
    "    \n",
    "    In this part we have build topic models for different data and data columns:\n",
    "    \n",
    "       - Topic Modeling with Title column\n",
    "              -Build Model with non grouped data\n",
    "              -Build Model with lemm data\n",
    "       - Topic Modeling For Problems column\n",
    "       - Topic Modeling For Problems response column\n",
    "       - Topic modeling for grouped not lemmatized problems\n",
    "       - Topic modeling for grouped lemmatized problems\n",
    "       \n",
    "       - Finding the optimal number of topics for LDA with the grouped and limmatized data\n",
    "       - Finding the dominant topic in each sentence\n",
    "       \n",
    "       - Topic distribution across documents\n",
    "      \n",
    "     3- Topic Coherence\n",
    "       "
   ]
  },
  {
   "cell_type": "markdown",
   "metadata": {
    "colab_type": "text",
    "id": "jY-FCV7CAVpZ"
   },
   "source": [
    "### Import libraries"
   ]
  },
  {
   "cell_type": "code",
   "execution_count": 1,
   "metadata": {
    "colab": {
     "base_uri": "https://localhost:8080/",
     "height": 87
    },
    "colab_type": "code",
    "id": "3eYRIqeIW-p_",
    "outputId": "491abaaf-a1b5-4433-ce11-b3ad57c5cd39"
   },
   "outputs": [
    {
     "name": "stdout",
     "output_type": "stream",
     "text": [
      "[nltk_data] Downloading package stopwords to\n",
      "[nltk_data]     /Users/siwarabbes/nltk_data...\n",
      "[nltk_data]   Package stopwords is already up-to-date!\n",
      "[nltk_data] Downloading package punkt to\n",
      "[nltk_data]     /Users/siwarabbes/nltk_data...\n",
      "[nltk_data]   Package punkt is already up-to-date!\n"
     ]
    }
   ],
   "source": [
    "import pandas as pd\n",
    "import numpy as np\n",
    "import nltk\n",
    "from pprint import pprint\n",
    "import pickle\n",
    "\n",
    "\n",
    "nltk.download('stopwords')\n",
    "nltk.download('punkt')\n",
    "from nltk.corpus import stopwords\n",
    "from nltk.tokenize import  word_tokenize\n",
    "\n",
    "\n",
    "# Gensim\n",
    "import gensim\n",
    "import gensim.corpora as corpora\n",
    "from gensim.utils import simple_preprocess\n",
    "from gensim.models import CoherenceModel\n",
    "from gensim.models.phrases import Phrases, Phraser\n",
    "from gensim.models import LsiModel\n",
    "from gensim.models import CoherenceModel,HdpModel\n",
    "\n",
    "\n",
    "# spacy for lemmatization\n",
    "import spacy\n",
    "\n",
    "\n",
    "# Plotting tools\n",
    "import pyLDAvis\n",
    "import pyLDAvis.gensim \n",
    "import pyLDAvis.sklearn\n",
    "import matplotlib.pyplot as plt\n",
    "%matplotlib inline\n",
    "\n",
    "from sklearn.decomposition import LatentDirichletAllocation\n",
    "from sklearn.feature_extraction.text import CountVectorizer\n",
    "pyLDAvis.enable_notebook()\n",
    "\n",
    "# Enable logging for gensim - optional\n",
    "import logging\n",
    "logging.basicConfig(format='%(asctime)s : %(levelname)s : %(message)s', level=logging.ERROR)\n",
    "\n",
    "import warnings\n",
    "warnings.filterwarnings(\"ignore\",category=DeprecationWarning)\n",
    "\n",
    "\n",
    "import re\n",
    "import os\n",
    "pd.set_option('max_colwidth', 400)"
   ]
  },
  {
   "cell_type": "markdown",
   "metadata": {
    "colab_type": "text",
    "id": "LSp7sxMPAPa3"
   },
   "source": [
    "### Prepare data already cleaned and grouped"
   ]
  },
  {
   "cell_type": "code",
   "execution_count": 2,
   "metadata": {
    "colab": {
     "base_uri": "https://localhost:8080/",
     "height": 381
    },
    "colab_type": "code",
    "id": "GVINAO443-CF",
    "outputId": "8ef80da0-1c97-4c0c-c087-ee2db6ab09fb"
   },
   "outputs": [
    {
     "data": {
      "text/html": [
       "<div>\n",
       "<style scoped>\n",
       "    .dataframe tbody tr th:only-of-type {\n",
       "        vertical-align: middle;\n",
       "    }\n",
       "\n",
       "    .dataframe tbody tr th {\n",
       "        vertical-align: top;\n",
       "    }\n",
       "\n",
       "    .dataframe thead th {\n",
       "        text-align: right;\n",
       "    }\n",
       "</style>\n",
       "<table border=\"1\" class=\"dataframe\">\n",
       "  <thead>\n",
       "    <tr style=\"text-align: right;\">\n",
       "      <th></th>\n",
       "      <th>Unnamed: 0</th>\n",
       "      <th>authorZipCode</th>\n",
       "      <th>title</th>\n",
       "      <th>problems</th>\n",
       "      <th>reponse_probleme</th>\n",
       "    </tr>\n",
       "  </thead>\n",
       "  <tbody>\n",
       "    <tr>\n",
       "      <th>0</th>\n",
       "      <td>0</td>\n",
       "      <td>97231</td>\n",
       "      <td>transition écologique</td>\n",
       "      <td>NaN</td>\n",
       "      <td>NaN</td>\n",
       "    </tr>\n",
       "    <tr>\n",
       "      <th>1</th>\n",
       "      <td>1</td>\n",
       "      <td>57000</td>\n",
       "      <td>surpopulation</td>\n",
       "      <td>problèmes auxquels trouve confronté ensemble planète dénoncent parfait désordre gilets jaunes france dus avant surpopulation mondiale cette population passée milliards habitants milliards montera bientot milliards vers progrès communication village mondial chaque individu fin fond asie fin fond afrique passant quartiers campagnes pays aspire vivre peu bl mer mal lotis concitoyens logement nour...</td>\n",
       "      <td>problèmes auxquels trouve confronté ensemble planète dénoncent parfait désordre gilets jaunes france dus avant surpopulation mondiale cette population passée milliards habitants milliards montera bientot milliards vers progrès communication village mondial planète chaque individu fin fond asie fin fond afrique passant quartiers campagnes pays aspire vivre peu bl mer mal lotis concitoyens logem...</td>\n",
       "    </tr>\n",
       "    <tr>\n",
       "      <th>2</th>\n",
       "      <td>2</td>\n",
       "      <td>34140</td>\n",
       "      <td>climat</td>\n",
       "      <td>dérèglements climatiques crue sécheresse</td>\n",
       "      <td>éviter inondations obliger riverains communes nettoyer secteur</td>\n",
       "    </tr>\n",
       "    <tr>\n",
       "      <th>3</th>\n",
       "      <td>3</td>\n",
       "      <td>17400</td>\n",
       "      <td>pollution air eau</td>\n",
       "      <td>pollution air</td>\n",
       "      <td>taxer gros pollueurs entreprises bateaux marchands routiers etc</td>\n",
       "    </tr>\n",
       "    <tr>\n",
       "      <th>4</th>\n",
       "      <td>4</td>\n",
       "      <td>35430</td>\n",
       "      <td>economie vs ecologie</td>\n",
       "      <td>biodiversité disparition certaines espèces</td>\n",
       "      <td>changer mode vie impulser nouvelle économie agricole</td>\n",
       "    </tr>\n",
       "  </tbody>\n",
       "</table>\n",
       "</div>"
      ],
      "text/plain": [
       "  Unnamed: 0 authorZipCode                  title  \\\n",
       "0          0         97231  transition écologique   \n",
       "1          1         57000          surpopulation   \n",
       "2          2         34140                 climat   \n",
       "3          3         17400      pollution air eau   \n",
       "4          4         35430   economie vs ecologie   \n",
       "\n",
       "                                                                                                                                                                                                                                                                                                                                                                                                          problems  \\\n",
       "0                                                                                                                                                                                                                                                                                                                                                                                                              NaN   \n",
       "1  problèmes auxquels trouve confronté ensemble planète dénoncent parfait désordre gilets jaunes france dus avant surpopulation mondiale cette population passée milliards habitants milliards montera bientot milliards vers progrès communication village mondial chaque individu fin fond asie fin fond afrique passant quartiers campagnes pays aspire vivre peu bl mer mal lotis concitoyens logement nour...   \n",
       "2                                                                                                                                                                                                                                                                                                                                                                         dérèglements climatiques crue sécheresse   \n",
       "3                                                                                                                                                                                                                                                                                                                                                                                                    pollution air   \n",
       "4                                                                                                                                                                                                                                                                                                                                                                       biodiversité disparition certaines espèces   \n",
       "\n",
       "                                                                                                                                                                                                                                                                                                                                                                                                  reponse_probleme  \n",
       "0                                                                                                                                                                                                                                                                                                                                                                                                              NaN  \n",
       "1  problèmes auxquels trouve confronté ensemble planète dénoncent parfait désordre gilets jaunes france dus avant surpopulation mondiale cette population passée milliards habitants milliards montera bientot milliards vers progrès communication village mondial planète chaque individu fin fond asie fin fond afrique passant quartiers campagnes pays aspire vivre peu bl mer mal lotis concitoyens logem...  \n",
       "2                                                                                                                                                                                                                                                                                                                                                   éviter inondations obliger riverains communes nettoyer secteur  \n",
       "3                                                                                                                                                                                                                                                                                                                                                  taxer gros pollueurs entreprises bateaux marchands routiers etc  \n",
       "4                                                                                                                                                                                                                                                                                                                                                             changer mode vie impulser nouvelle économie agricole  "
      ]
     },
     "execution_count": 2,
     "metadata": {},
     "output_type": "execute_result"
    }
   ],
   "source": [
    "cleaned_data = pd.read_csv('clean_environement.csv', low_memory=False, dtype = str)\n",
    "cleaned_data.fillna('')\n",
    "cleaned_data.head()"
   ]
  },
  {
   "cell_type": "code",
   "execution_count": 64,
   "metadata": {
    "colab": {
     "base_uri": "https://localhost:8080/",
     "height": 347
    },
    "colab_type": "code",
    "id": "9yrPHlKy47zI",
    "outputId": "96341e3f-eedc-48a1-e851-c718ba0b81cb"
   },
   "outputs": [
    {
     "data": {
      "text/html": [
       "<div>\n",
       "<style scoped>\n",
       "    .dataframe tbody tr th:only-of-type {\n",
       "        vertical-align: middle;\n",
       "    }\n",
       "\n",
       "    .dataframe tbody tr th {\n",
       "        vertical-align: top;\n",
       "    }\n",
       "\n",
       "    .dataframe thead th {\n",
       "        text-align: right;\n",
       "    }\n",
       "</style>\n",
       "<table border=\"1\" class=\"dataframe\">\n",
       "  <thead>\n",
       "    <tr style=\"text-align: right;\">\n",
       "      <th></th>\n",
       "      <th>Unnamed: 0</th>\n",
       "      <th>authorZipCode</th>\n",
       "      <th>title</th>\n",
       "      <th>problems</th>\n",
       "      <th>reponse_probleme</th>\n",
       "    </tr>\n",
       "  </thead>\n",
       "  <tbody>\n",
       "    <tr>\n",
       "      <th>0</th>\n",
       "      <td>0</td>\n",
       "      <td>1000</td>\n",
       "      <td>répartition transition action ferroutage plantation agriculteur transition suppression pesticide investissement budget transition transition transition argent prétexte protection environnement procédure déchet agriculteur industrie aise mutation véhicule culpabilisation ecologie police sauvon problème calendrier éducation transition circuit système consigne transition economie écologie punitiv...</td>\n",
       "      <td>dérèglement crue biodiversité disparition espèce pollution air dérèglement crue dérèglement crue dérèglement crue biodiversité disparition espèce problème pollution découle dérèglement crue pollution air emballage dérèglement crue dérèglement crue dérèglement crue precedente dérèglement crue dérèglement crue biodiversité disparition espèce biodiversité disparition espèce biodiversité dispariti...</td>\n",
       "      <td>effort particulier industrie carbone acteur fonction émission manière intégralité transition installation éolien mer utilisation énergie empreinte carbone produit empreinte produit tva produit produit baisse tva sanction donnée empreinte carbone commerce carton bouteille air ciel environnement élevage viande eau toilette replanton haie entretenon interdison faison bassin retention eau transiti...</td>\n",
       "    </tr>\n",
       "    <tr>\n",
       "      <th>1</th>\n",
       "      <td>1</td>\n",
       "      <td>1090</td>\n",
       "      <td>vie village moyen chaudière fioul voiture décentralisation relocalisation production véhicule écologie cause transition urgence avis</td>\n",
       "      <td>dérèglement crue pollution pollution air dérèglement crue dérèglement crue réponse production energie dérèglement crue</td>\n",
       "      <td>source problème utilisation centralisation ville désertification augmentation nécessité voiture augmentation ville sanction pays consommation extraction énergie place écologie école place développement niveau utilisation solution énergie fin surconsommation fin bouteille industrie</td>\n",
       "    </tr>\n",
       "    <tr>\n",
       "      <th>2</th>\n",
       "      <td>2</td>\n",
       "      <td>1100</td>\n",
       "      <td>pollution pétrole développement ecologie transport conscience vivre monde contribution pollution préservon maison urgence protection ere priorité pragamatique émotion recyclage agriculture liaison route transport marchandise pauvre</td>\n",
       "      <td>pollution air dérèglement crue consommation agriculture biodiversité disparition espèce biodiversité disparition espèce dérèglement crue biodiversité disparition espèce dérèglement crue dérèglement crue biodiversité disparition espèce problème ensemble puisqu biodiversité disparition espèce pollution acidifcation océan biodiversité problème problème pollution pollution air dérèglement crue</td>\n",
       "      <td>poids lourd exception transport centre ville véhicule véhicule livraison hydrogène expert pétrole an pétrole économie monde chaos choix pétrole pétrole pouvoir hui besoin solution déchet type maximum utilisation travail fusion solution masse hui agriculture subvention arrêt braconnage protection biotope concession zad lande pesticide importation déforestation environnement etat entreprise indi...</td>\n",
       "    </tr>\n",
       "    <tr>\n",
       "      <th>3</th>\n",
       "      <td>3</td>\n",
       "      <td>1110</td>\n",
       "      <td>santé proposition justice ruralité comportement civisme sens pollution air pollution nature santé environnement</td>\n",
       "      <td>dérèglement crue problème pollution air dérèglement crue dérèglement crue biodiversité disparition espèce pollution air dérèglement crue citoyen anture mac pesticide</td>\n",
       "      <td>convaincre sauvetage pose institution occurrence effort tendance besoin argent chose institution fmi argent pays exemple recherche fusion sacré avancée production b timent migre voiture effort conversion offerte france fmi miracle climat entreprise produit fonction coût carbone importation gratuité commun camion france train billet état exemple solution manière agriculture environnement produc...</td>\n",
       "    </tr>\n",
       "    <tr>\n",
       "      <th>4</th>\n",
       "      <td>4</td>\n",
       "      <td>1120</td>\n",
       "      <td>solution pollution travail prise responsabilité développement production consommation réduction dechet amelioration transport gratuité transport hypercentre hydrogene économie pollution entreprise transport transition exemple cite ecologie arme pollution arme pollution agriculture avenir transition solution solution</td>\n",
       "      <td>dérèglement crue pollution air dérèglement crue biodiversité disparition espèce dérèglement crue pollution air dérèglement crue dérèglement crue pollution air biodiversité pollution air point pollution jour nuit tête taxe carburant dérèglement crue dérèglement crue biodiversité disparition espèce biodiversité disparition espèce socle pollution climat biodiversité resoudre sens pièce salon déma...</td>\n",
       "      <td>eau effa cours eau niveau maximum période irrigation période pollueur pétrolier véhicule service fonctionnaire besoin protection président lorsqu débat camion avion centaine ministre heure matignon réponse utilisation travail nature braconnage tradition développement énergie hydrogène mode energie camion appartement maison transport fabrication retour matière produit avion transport citoyen so...</td>\n",
       "    </tr>\n",
       "  </tbody>\n",
       "</table>\n",
       "</div>"
      ],
      "text/plain": [
       "  Unnamed: 0 authorZipCode  \\\n",
       "0          0          1000   \n",
       "1          1          1090   \n",
       "2          2          1100   \n",
       "3          3          1110   \n",
       "4          4          1120   \n",
       "\n",
       "                                                                                                                                                                                                                                                                                                                                                                                                             title  \\\n",
       "0  répartition transition action ferroutage plantation agriculteur transition suppression pesticide investissement budget transition transition transition argent prétexte protection environnement procédure déchet agriculteur industrie aise mutation véhicule culpabilisation ecologie police sauvon problème calendrier éducation transition circuit système consigne transition economie écologie punitiv...   \n",
       "1                                                                                                                                                                                                                                                                             vie village moyen chaudière fioul voiture décentralisation relocalisation production véhicule écologie cause transition urgence avis   \n",
       "2                                                                                                                                                                          pollution pétrole développement ecologie transport conscience vivre monde contribution pollution préservon maison urgence protection ere priorité pragamatique émotion recyclage agriculture liaison route transport marchandise pauvre   \n",
       "3                                                                                                                                                                                                                                                                                                  santé proposition justice ruralité comportement civisme sens pollution air pollution nature santé environnement   \n",
       "4                                                                                    solution pollution travail prise responsabilité développement production consommation réduction dechet amelioration transport gratuité transport hypercentre hydrogene économie pollution entreprise transport transition exemple cite ecologie arme pollution arme pollution agriculture avenir transition solution solution   \n",
       "\n",
       "                                                                                                                                                                                                                                                                                                                                                                                                          problems  \\\n",
       "0  dérèglement crue biodiversité disparition espèce pollution air dérèglement crue dérèglement crue dérèglement crue biodiversité disparition espèce problème pollution découle dérèglement crue pollution air emballage dérèglement crue dérèglement crue dérèglement crue precedente dérèglement crue dérèglement crue biodiversité disparition espèce biodiversité disparition espèce biodiversité dispariti...   \n",
       "1                                                                                                                                                                                                                                                                                           dérèglement crue pollution pollution air dérèglement crue dérèglement crue réponse production energie dérèglement crue   \n",
       "2         pollution air dérèglement crue consommation agriculture biodiversité disparition espèce biodiversité disparition espèce dérèglement crue biodiversité disparition espèce dérèglement crue dérèglement crue biodiversité disparition espèce problème ensemble puisqu biodiversité disparition espèce pollution acidifcation océan biodiversité problème problème pollution pollution air dérèglement crue   \n",
       "3                                                                                                                                                                                                                                            dérèglement crue problème pollution air dérèglement crue dérèglement crue biodiversité disparition espèce pollution air dérèglement crue citoyen anture mac pesticide   \n",
       "4  dérèglement crue pollution air dérèglement crue biodiversité disparition espèce dérèglement crue pollution air dérèglement crue dérèglement crue pollution air biodiversité pollution air point pollution jour nuit tête taxe carburant dérèglement crue dérèglement crue biodiversité disparition espèce biodiversité disparition espèce socle pollution climat biodiversité resoudre sens pièce salon déma...   \n",
       "\n",
       "                                                                                                                                                                                                                                                                                                                                                                                                  reponse_probleme  \n",
       "0  effort particulier industrie carbone acteur fonction émission manière intégralité transition installation éolien mer utilisation énergie empreinte carbone produit empreinte produit tva produit produit baisse tva sanction donnée empreinte carbone commerce carton bouteille air ciel environnement élevage viande eau toilette replanton haie entretenon interdison faison bassin retention eau transiti...  \n",
       "1                                                                                                                        source problème utilisation centralisation ville désertification augmentation nécessité voiture augmentation ville sanction pays consommation extraction énergie place écologie école place développement niveau utilisation solution énergie fin surconsommation fin bouteille industrie  \n",
       "2  poids lourd exception transport centre ville véhicule véhicule livraison hydrogène expert pétrole an pétrole économie monde chaos choix pétrole pétrole pouvoir hui besoin solution déchet type maximum utilisation travail fusion solution masse hui agriculture subvention arrêt braconnage protection biotope concession zad lande pesticide importation déforestation environnement etat entreprise indi...  \n",
       "3  convaincre sauvetage pose institution occurrence effort tendance besoin argent chose institution fmi argent pays exemple recherche fusion sacré avancée production b timent migre voiture effort conversion offerte france fmi miracle climat entreprise produit fonction coût carbone importation gratuité commun camion france train billet état exemple solution manière agriculture environnement produc...  \n",
       "4  eau effa cours eau niveau maximum période irrigation période pollueur pétrolier véhicule service fonctionnaire besoin protection président lorsqu débat camion avion centaine ministre heure matignon réponse utilisation travail nature braconnage tradition développement énergie hydrogène mode energie camion appartement maison transport fabrication retour matière produit avion transport citoyen so...  "
      ]
     },
     "execution_count": 64,
     "metadata": {},
     "output_type": "execute_result"
    }
   ],
   "source": [
    "lemm_grouped_data = pd.read_csv('grouped_lemmetized.csv', low_memory=False, dtype = str)\n",
    "lemm_grouped_data.fillna('', inplace = True)\n",
    "lemm_grouped_data.head()"
   ]
  },
  {
   "cell_type": "code",
   "execution_count": 28,
   "metadata": {},
   "outputs": [
    {
     "data": {
      "text/html": [
       "<div>\n",
       "<style scoped>\n",
       "    .dataframe tbody tr th:only-of-type {\n",
       "        vertical-align: middle;\n",
       "    }\n",
       "\n",
       "    .dataframe tbody tr th {\n",
       "        vertical-align: top;\n",
       "    }\n",
       "\n",
       "    .dataframe thead th {\n",
       "        text-align: right;\n",
       "    }\n",
       "</style>\n",
       "<table border=\"1\" class=\"dataframe\">\n",
       "  <thead>\n",
       "    <tr style=\"text-align: right;\">\n",
       "      <th></th>\n",
       "      <th>Unnamed: 0</th>\n",
       "      <th>authorZipCode</th>\n",
       "      <th>title</th>\n",
       "      <th>problems</th>\n",
       "      <th>reponse_probleme</th>\n",
       "    </tr>\n",
       "  </thead>\n",
       "  <tbody>\n",
       "    <tr>\n",
       "      <th>0</th>\n",
       "      <td>0</td>\n",
       "      <td>1000</td>\n",
       "      <td>répartition juste efforts concernant transition écologique valoriser financièrement actions écologiques développement ferroutage plantation arbres subventionner agriculteurs transition ecologique suppression pesticides sortir investissements écolo budget passer transition écologique imposée transition écologique voulue transition déjà tard arrêter essayer argent sous prétexte protection enviro...</td>\n",
       "      <td>dérèglements climatiques crue sécheresse biodiversité disparition certaines espèces pollution air dérèglements climatiques crue sécheresse dérèglements climatiques crue sécheresse dérèglements climatiques crue sécheresse biodiversité disparition certaines espèces seul problème importants pollution air dérèglement climatique découle importants dérèglements climatiques crue sécheresse pollution ...</td>\n",
       "      <td>effort soutenu tant particuliers pollueurs importants industries administrations taxe carbone devrait toucher acteurs fonction émissions polluantes manière exponentielle intégralité affectée accélération transition écologique installation parcs éoliens zone venteuse mer centrales solaires zones rurales sud utilisation énergie géothermique réduire considérablement empreinte carbone taxer produi...</td>\n",
       "    </tr>\n",
       "    <tr>\n",
       "      <th>1</th>\n",
       "      <td>1</td>\n",
       "      <td>1090</td>\n",
       "      <td>rendre importante vie économique petits villages quels moyens changer chaudière fioul voiture diesel décentralisation relocalisation productions véhicule électrique écologie cause mondiale transition écologique durableet solidaire urgence climatique avis retraités</td>\n",
       "      <td>dérèglements climatiques crue sécheresse pollution océans pollution air dérèglements climatiques crue sécheresse dérèglements climatiques crue sécheresse toutes réponses ci dessus production energie fossile carburant plastique dérèglements climatiques crue sécheresse</td>\n",
       "      <td>travailler source problème réduire utilisation énergétique interdire plastiques biodégradables taxer assez lourdement paquebots croisière centralisation grandes villes encourage désertification services augmentation nécessité déplacer voiture augmentation bouchons grandes villes prendre sanctions commerciales envers pays pollueurs diminuer consommation stopper extraction énergies fossiles donn...</td>\n",
       "    </tr>\n",
       "    <tr>\n",
       "      <th>2</th>\n",
       "      <td>2</td>\n",
       "      <td>1100</td>\n",
       "      <td>pollution stop energies fosiles sevrer pétrole développement durable ecologie punitive enfumage esprits transport marchandises conscience écologique individuelle politique europeenne vers nouvelle fa vivre magnum monde concerné niveaux contribution proprtionnelle pollution engendrée préservons maison urgence protection planète etre toute ere priorité prendre recul analyser fa pragamatique glob...</td>\n",
       "      <td>pollution air dérèglements climatiques crue sécheresse consommation petrole agriculture chimique biodiversité disparition certaines espèces biodiversité disparition certaines espèces dérèglements climatiques crue sécheresse biodiversité disparition certaines espèces dérèglements climatiques crue sécheresse dérèglements climatiques crue sécheresse biodiversité disparition certaines espèces quat...</td>\n",
       "      <td>taxer poids lourds exception réaménagés fleuves capable supporter transport fluvial interdire centre ville véhicules moteur remplacer véhicules livraisons charrettes tirer chevaux privilégier hydrogène experts accordent dire pétrole ans prêts passer complètement pétrole contraire tellement dépendants pétrole lorsqu économie mondiale effondrera monde sombrera chaos inimaginable choix dès présen...</td>\n",
       "    </tr>\n",
       "    <tr>\n",
       "      <th>3</th>\n",
       "      <td>3</td>\n",
       "      <td>1110</td>\n",
       "      <td>bonne santé proposition international doute peu utopiste justice écologique ruralité changer comportements revoir priorités civisme bon sens pollution air réchauffement climatique pollution air penaliser ceux souillent nature santé publique environnement</td>\n",
       "      <td>dérèglements climatiques crue sécheresse problèmes réunis difficile émerger urgent important autres pollution air dérèglements climatiques crue sécheresse dérèglements climatiques crue sécheresse biodiversité disparition certaines espèces pollution air dérèglements climatiques crue sécheresse saletes jetes certains citoyens anture cannette biere megots sac mac do pesticides</td>\n",
       "      <td>convaincre chine usa impliquer sauvetage planète idée peu na ve pose envisageable proposer fmi autre institution semble logique puisse prêts etats prêts utilisés commun occurrence efforts ralentir tendance changement climatique besoin remboursés argent existant vraiment tant chose concrète trouve peu idiot laisse planète dégrader pourrait autrement institutions raisonnées onu fmi pouvait créer...</td>\n",
       "    </tr>\n",
       "    <tr>\n",
       "      <th>4</th>\n",
       "      <td>4</td>\n",
       "      <td>1120</td>\n",
       "      <td>solution sécheresse arrêter mentir pollution diesel limiter transports changeant habitudes travail prise responsabilité développement production hydrogène changement combustible consommation réduction dechets amelioration lignes transports gratuité transports commun hypercentre hydrogene économie locale réduire pollution entreprises transports surtout transports aériens transition écologique b...</td>\n",
       "      <td>dérèglements climatiques crue sécheresse pollution air dérèglements climatiques crue sécheresse biodiversité disparition certaines espèces dérèglements climatiques crue sécheresse pollution air dérèglements climatiques crue sécheresse dérèglements climatiques crue sécheresse pollution air biodiversité pollution air points dessus pollution survolent jour nuit dessus têtes payent aucune taxe car...</td>\n",
       "      <td>retenir eau rivières construisant barrages effa ables certaines cours eau plaine maintenir niveau maximum ceux ci période étiage réserves ainsi constituées serviront irrigation période sèche taxer grands pollueurs supers pétroliers arrêter mettre autant véhicules services grands fonctionnaires ex marseille besoin soldats protection président lorsqu débat combien camions transports nécessaires ...</td>\n",
       "    </tr>\n",
       "  </tbody>\n",
       "</table>\n",
       "</div>"
      ],
      "text/plain": [
       "  Unnamed: 0 authorZipCode  \\\n",
       "0          0          1000   \n",
       "1          1          1090   \n",
       "2          2          1100   \n",
       "3          3          1110   \n",
       "4          4          1120   \n",
       "\n",
       "                                                                                                                                                                                                                                                                                                                                                                                                             title  \\\n",
       "0  répartition juste efforts concernant transition écologique valoriser financièrement actions écologiques développement ferroutage plantation arbres subventionner agriculteurs transition ecologique suppression pesticides sortir investissements écolo budget passer transition écologique imposée transition écologique voulue transition déjà tard arrêter essayer argent sous prétexte protection enviro...   \n",
       "1                                                                                                                                         rendre importante vie économique petits villages quels moyens changer chaudière fioul voiture diesel décentralisation relocalisation productions véhicule électrique écologie cause mondiale transition écologique durableet solidaire urgence climatique avis retraités   \n",
       "2  pollution stop energies fosiles sevrer pétrole développement durable ecologie punitive enfumage esprits transport marchandises conscience écologique individuelle politique europeenne vers nouvelle fa vivre magnum monde concerné niveaux contribution proprtionnelle pollution engendrée préservons maison urgence protection planète etre toute ere priorité prendre recul analyser fa pragamatique glob...   \n",
       "3                                                                                                                                                   bonne santé proposition international doute peu utopiste justice écologique ruralité changer comportements revoir priorités civisme bon sens pollution air réchauffement climatique pollution air penaliser ceux souillent nature santé publique environnement   \n",
       "4  solution sécheresse arrêter mentir pollution diesel limiter transports changeant habitudes travail prise responsabilité développement production hydrogène changement combustible consommation réduction dechets amelioration lignes transports gratuité transports commun hypercentre hydrogene économie locale réduire pollution entreprises transports surtout transports aériens transition écologique b...   \n",
       "\n",
       "                                                                                                                                                                                                                                                                                                                                                                                                          problems  \\\n",
       "0  dérèglements climatiques crue sécheresse biodiversité disparition certaines espèces pollution air dérèglements climatiques crue sécheresse dérèglements climatiques crue sécheresse dérèglements climatiques crue sécheresse biodiversité disparition certaines espèces seul problème importants pollution air dérèglement climatique découle importants dérèglements climatiques crue sécheresse pollution ...   \n",
       "1                                                                                                                                      dérèglements climatiques crue sécheresse pollution océans pollution air dérèglements climatiques crue sécheresse dérèglements climatiques crue sécheresse toutes réponses ci dessus production energie fossile carburant plastique dérèglements climatiques crue sécheresse   \n",
       "2  pollution air dérèglements climatiques crue sécheresse consommation petrole agriculture chimique biodiversité disparition certaines espèces biodiversité disparition certaines espèces dérèglements climatiques crue sécheresse biodiversité disparition certaines espèces dérèglements climatiques crue sécheresse dérèglements climatiques crue sécheresse biodiversité disparition certaines espèces quat...   \n",
       "3                         dérèglements climatiques crue sécheresse problèmes réunis difficile émerger urgent important autres pollution air dérèglements climatiques crue sécheresse dérèglements climatiques crue sécheresse biodiversité disparition certaines espèces pollution air dérèglements climatiques crue sécheresse saletes jetes certains citoyens anture cannette biere megots sac mac do pesticides   \n",
       "4  dérèglements climatiques crue sécheresse pollution air dérèglements climatiques crue sécheresse biodiversité disparition certaines espèces dérèglements climatiques crue sécheresse pollution air dérèglements climatiques crue sécheresse dérèglements climatiques crue sécheresse pollution air biodiversité pollution air points dessus pollution survolent jour nuit dessus têtes payent aucune taxe car...   \n",
       "\n",
       "                                                                                                                                                                                                                                                                                                                                                                                                  reponse_probleme  \n",
       "0  effort soutenu tant particuliers pollueurs importants industries administrations taxe carbone devrait toucher acteurs fonction émissions polluantes manière exponentielle intégralité affectée accélération transition écologique installation parcs éoliens zone venteuse mer centrales solaires zones rurales sud utilisation énergie géothermique réduire considérablement empreinte carbone taxer produi...  \n",
       "1  travailler source problème réduire utilisation énergétique interdire plastiques biodégradables taxer assez lourdement paquebots croisière centralisation grandes villes encourage désertification services augmentation nécessité déplacer voiture augmentation bouchons grandes villes prendre sanctions commerciales envers pays pollueurs diminuer consommation stopper extraction énergies fossiles donn...  \n",
       "2  taxer poids lourds exception réaménagés fleuves capable supporter transport fluvial interdire centre ville véhicules moteur remplacer véhicules livraisons charrettes tirer chevaux privilégier hydrogène experts accordent dire pétrole ans prêts passer complètement pétrole contraire tellement dépendants pétrole lorsqu économie mondiale effondrera monde sombrera chaos inimaginable choix dès présen...  \n",
       "3  convaincre chine usa impliquer sauvetage planète idée peu na ve pose envisageable proposer fmi autre institution semble logique puisse prêts etats prêts utilisés commun occurrence efforts ralentir tendance changement climatique besoin remboursés argent existant vraiment tant chose concrète trouve peu idiot laisse planète dégrader pourrait autrement institutions raisonnées onu fmi pouvait créer...  \n",
       "4  retenir eau rivières construisant barrages effa ables certaines cours eau plaine maintenir niveau maximum ceux ci période étiage réserves ainsi constituées serviront irrigation période sèche taxer grands pollueurs supers pétroliers arrêter mettre autant véhicules services grands fonctionnaires ex marseille besoin soldats protection président lorsqu débat combien camions transports nécessaires ...  "
      ]
     },
     "execution_count": 28,
     "metadata": {},
     "output_type": "execute_result"
    }
   ],
   "source": [
    "grouped_data = pd.read_csv('grouped_filtered_not_cleaned_environement.csv', low_memory=False, dtype = str)\n",
    "grouped_data.fillna('')\n",
    "grouped_data.head()"
   ]
  },
  {
   "cell_type": "markdown",
   "metadata": {
    "colab_type": "text",
    "id": "L5G3_OO05GBW"
   },
   "source": [
    "## Define Useful Functions"
   ]
  },
  {
   "cell_type": "code",
   "execution_count": 4,
   "metadata": {
    "colab": {},
    "colab_type": "code",
    "id": "RyXTNkzR6FFR"
   },
   "outputs": [],
   "source": [
    "def tokenization(X_list):\n",
    "    tokenized_list = [word_tokenize(it) for it in X_list]\n",
    "    return tokenized_list"
   ]
  },
  {
   "cell_type": "code",
   "execution_count": 5,
   "metadata": {
    "colab": {},
    "colab_type": "code",
    "id": "o423IM135MEV"
   },
   "outputs": [],
   "source": [
    "# This functions are used to capture bigrams and trigrams in the text offered by gensim\n",
    "def make_bigrams(texts, bigram_mod):\n",
    "    return [bigram_mod[doc] for doc in texts]\n",
    "\n",
    "def make_trigrams(texts, trigram_mod):\n",
    "    return [trigram_mod[bigram_mod[doc]] for doc in texts]"
   ]
  },
  {
   "cell_type": "code",
   "execution_count": 13,
   "metadata": {
    "colab": {},
    "colab_type": "code",
    "id": "ZUgxQLHx5MH_"
   },
   "outputs": [],
   "source": [
    "## This function get the data and the parameters for the topic models and returns LDA model\n",
    "def get_topics(culumn_data_selected, n_topics=10, passes=20, add_bigrams = False):\n",
    "    \n",
    "    #Tokenize the data\n",
    "    tokenized_data = tokenization(list(culumn_data_selected))\n",
    "    \n",
    "    ## Capture frequent bigrams and add them\n",
    "    if(add_bigrams):\n",
    "  \n",
    "    # Build the bigram and trigram models\n",
    "        bigram = Phrases(tokenized_data, min_count=5, threshold=200) # higher threshold fewer phrases.\n",
    "        trigram = Phrases(bigram[tokenized_data], threshold=200)  \n",
    "\n",
    "    # Faster way to get a sentence clubbed as a trigram/bigram\n",
    "    #The goal of this class is to cut down memory consumption of Phrases, by discarding model state not strictly needed for the bigram detection task.\n",
    "    #Use this instead of Phrases if you do not need to update the bigram statistics with new documents any more\n",
    "        bigram_mod = Phraser(bigram)\n",
    "        trigram_mod = Phraser(trigram)\n",
    "\n",
    "    # Form Bigrams\n",
    "        tokenized_data = make_bigrams(tokenized_data, bigram_mod)\n",
    "    \n",
    "    # Create Dictionary  \n",
    "    id2word = corpora.Dictionary(tokenized_data)\n",
    "\n",
    "    # Create Corpus\n",
    "    texts = tokenized_data\n",
    "\n",
    "    # Term Document Frequency\n",
    "    corpus = [id2word.doc2bow(text) for text in texts]\n",
    "  \n",
    "    lda_model = gensim.models.ldamodel.LdaModel(corpus=corpus,\n",
    "                                           id2word=id2word,\n",
    "                                           num_topics=n_topics, \n",
    "                                           random_state=100,\n",
    "                                           update_every=1,\n",
    "                                           chunksize=100,\n",
    "                                           passes=passes,\n",
    "                                           alpha='auto',\n",
    "                                           per_word_topics=True)\n",
    "  \n",
    "    pprint(lda_model.print_topics())\n",
    "  \n",
    "    print('\\nPerplexity: ', lda_model.log_perplexity(corpus))  # a measure of how good the model is. lower the better.\n",
    "\n",
    "    # Compute Coherence Score\n",
    "    coherence_model_lda = CoherenceModel(model=lda_model, texts=tokenized_data, dictionary=id2word, coherence='c_v')\n",
    "    coherence_lda = coherence_model_lda.get_coherence()\n",
    "    print('\\nCoherence Score: ', coherence_lda)\n",
    "  \n",
    "    return lda_model, corpus, id2word"
   ]
  },
  {
   "cell_type": "markdown",
   "metadata": {
    "colab_type": "text",
    "id": "AzKe4ApE5kTq"
   },
   "source": [
    "## Topic Modeling with Title column"
   ]
  },
  {
   "cell_type": "markdown",
   "metadata": {
    "colab_type": "text",
    "id": "GxPOdD1h3KEh"
   },
   "source": [
    "### Build Model with non grouped data"
   ]
  },
  {
   "cell_type": "code",
   "execution_count": 7,
   "metadata": {
    "colab": {
     "base_uri": "https://localhost:8080/",
     "height": 105
    },
    "colab_type": "code",
    "id": "Ue4tGpCE77VJ",
    "outputId": "cda4d8b8-c242-4c88-fdc7-84d2d20b1ebf"
   },
   "outputs": [
    {
     "data": {
      "text/plain": [
       "['vraie transition écologique',\n",
       " 'énergies alternatives',\n",
       " 'voiture avion paquebots portes contenairs',\n",
       " 'mobilité',\n",
       " nan]"
      ]
     },
     "execution_count": 7,
     "metadata": {},
     "output_type": "execute_result"
    }
   ],
   "source": [
    "list(cleaned_data['title'][2470:2475])"
   ]
  },
  {
   "cell_type": "code",
   "execution_count": 8,
   "metadata": {
    "colab": {
     "base_uri": "https://localhost:8080/",
     "height": 34
    },
    "colab_type": "code",
    "id": "D88Nkp5vAAiG",
    "outputId": "3789c3e2-77ca-4ec5-a2dd-6e4c49193769"
   },
   "outputs": [
    {
     "data": {
      "text/plain": [
       "0"
      ]
     },
     "execution_count": 8,
     "metadata": {},
     "output_type": "execute_result"
    }
   ],
   "source": [
    "cleaned_data.fillna('',inplace=True)\n",
    "count_nan = len(cleaned_data['title']) - cleaned_data['title'].count()\n",
    "count_nan"
   ]
  },
  {
   "cell_type": "markdown",
   "metadata": {
    "colab_type": "text",
    "id": "Kjr0U8QBtNvm"
   },
   "source": [
    "# Using LDA"
   ]
  },
  {
   "cell_type": "markdown",
   "metadata": {
    "colab_type": "text",
    "id": "QoJuiJ6grM7o"
   },
   "source": [
    "LDA, or Latent Dirichlet Allocation is arguably the most famous topic modelling algorithm out there. Out here we create a simple topic model with 8 topics."
   ]
  },
  {
   "cell_type": "markdown",
   "metadata": {},
   "source": [
    "### LDA with title column"
   ]
  },
  {
   "cell_type": "code",
   "execution_count": 14,
   "metadata": {},
   "outputs": [
    {
     "name": "stdout",
     "output_type": "stream",
     "text": [
      "[(0,\n",
      "  '0.097*\"environnement\" + 0.078*\"ecologie\" + 0.035*\"vie\" + 0.023*\"nature\" + '\n",
      "  '0.021*\"protection\" + 0.021*\"sens\" + 0.019*\"bon\" + 0.018*\"respect\" + '\n",
      "  '0.017*\"sauver\" + 0.017*\"nucléaire\"'),\n",
      " (1,\n",
      "  '0.032*\"contre\" + 0.028*\"vers\" + 0.028*\"ecologique\" + 0.027*\"déchets\" + '\n",
      "  '0.023*\"eau\" + 0.017*\"punitive\" + 0.016*\"recyclage\" + 0.016*\"tva\" + '\n",
      "  '0.015*\"pays\" + 0.015*\"oui\"'),\n",
      " (2,\n",
      "  '0.047*\"transports\" + 0.032*\"urgence\" + 0.029*\"transport\" + 0.028*\"commun\" + '\n",
      "  '0.026*\"climatique\" + 0.024*\"enfants\" + 0.023*\"agir\" + 0.022*\"avenir\" + '\n",
      "  '0.022*\"développer\" + 0.021*\"changement\"'),\n",
      " (3,\n",
      "  '0.103*\"écologie\" + 0.033*\"france\" + 0.031*\"énergie\" + 0.027*\"bio\" + '\n",
      "  '0.027*\"priorité\" + 0.023*\"favoriser\" + 0.022*\"énergies\" + 0.020*\"mieux\" + '\n",
      "  '0.017*\"interdire\" + 0.015*\"vivre\"'),\n",
      " (4,\n",
      "  '0.080*\"pollution\" + 0.038*\"consommation\" + 0.036*\"air\" + 0.035*\"stop\" + '\n",
      "  '0.033*\"monde\" + 0.032*\"produits\" + 0.022*\"réduire\" + 0.020*\"limiter\" + '\n",
      "  '0.018*\"solutions\" + 0.016*\"électrique\"'),\n",
      " (5,\n",
      "  '0.027*\"développement\" + 0.024*\"durable\" + 0.019*\"responsable\" + '\n",
      "  '0.019*\"citoyen\" + 0.017*\"toutes\" + 0.016*\"taxes\" + 0.016*\"etat\" + '\n",
      "  '0.015*\"demain\" + 0.014*\"isolation\" + 0.013*\"europe\"'),\n",
      " (6,\n",
      "  '0.046*\"économie\" + 0.034*\"mettre\" + 0.032*\"santé\" + 0.025*\"aider\" + '\n",
      "  '0.022*\"doivent\" + 0.022*\"générations\" + 0.022*\"humaine\" + 0.018*\"courts\" + '\n",
      "  '0.018*\"imposer\" + 0.017*\"nouvelle\"'),\n",
      " (7,\n",
      "  '0.082*\"transition\" + 0.074*\"écologique\" + 0.025*\"planète\" + 0.018*\"taxer\" + '\n",
      "  '0.016*\"politique\" + 0.016*\"changer\" + 0.014*\"énergétique\" + '\n",
      "  '0.013*\"pollueurs\" + 0.013*\"taxe\" + 0.012*\"agriculture\"')]\n",
      "\n",
      "Perplexity:  -8.720422369860183\n",
      "\n",
      "Coherence Score:  0.3498115595996868\n"
     ]
    }
   ],
   "source": [
    "data = list(cleaned_data['title'])\n",
    "lda_model, corpus, id2word = get_topics(data, n_topics=8)"
   ]
  },
  {
   "cell_type": "code",
   "execution_count": 15,
   "metadata": {
    "colab": {
     "base_uri": "https://localhost:8080/",
     "height": 997
    },
    "colab_type": "code",
    "id": "3zgSpXdzAkdt",
    "outputId": "cb92cef1-575b-4b00-d888-c0077adbc1f0"
   },
   "outputs": [
    {
     "name": "stderr",
     "output_type": "stream",
     "text": [
      "/Users/siwarabbes/anaconda3/lib/python3.7/site-packages/pyLDAvis/_prepare.py:257: FutureWarning: Sorting because non-concatenation axis is not aligned. A future version\n",
      "of pandas will change to not sort by default.\n",
      "\n",
      "To accept the future behavior, pass 'sort=False'.\n",
      "\n",
      "To retain the current behavior and silence the warning, pass 'sort=True'.\n",
      "\n",
      "  return pd.concat([default_term_info] + list(topic_dfs))\n"
     ]
    },
    {
     "data": {
      "text/html": [
       "\n",
       "<link rel=\"stylesheet\" type=\"text/css\" href=\"https://cdn.rawgit.com/bmabey/pyLDAvis/files/ldavis.v1.0.0.css\">\n",
       "\n",
       "\n",
       "<div id=\"ldavis_el45671122320544804623832390\"></div>\n",
       "<script type=\"text/javascript\">\n",
       "\n",
       "var ldavis_el45671122320544804623832390_data = {\"mdsDat\": {\"x\": [-0.4304249902993086, 0.0357960084093694, 0.0656616020904539, 0.06495233819925439, 0.07288516758893523, 0.06142594518180314, 0.06757822938124851, 0.062125699448244], \"y\": [-0.025615045948934174, 0.4196229629884494, -0.0957884994245321, -0.07037772318596272, -0.07120752376150533, -0.062191447737768156, -0.05646883655292967, -0.03797388637681771], \"topics\": [1, 2, 3, 4, 5, 6, 7, 8], \"cluster\": [1, 1, 1, 1, 1, 1, 1, 1], \"Freq\": [25.921539306640625, 15.568323135375977, 12.433666229248047, 11.592612266540527, 10.612030029296875, 10.21757984161377, 9.550420761108398, 4.103835582733154]}, \"tinfo\": {\"Category\": [\"Default\", \"Default\", \"Default\", \"Default\", \"Default\", \"Default\", \"Default\", \"Default\", \"Default\", \"Default\", \"Default\", \"Default\", \"Default\", \"Default\", \"Default\", \"Default\", \"Default\", \"Default\", \"Default\", \"Default\", \"Default\", \"Default\", \"Default\", \"Default\", \"Default\", \"Default\", \"Default\", \"Default\", \"Default\", \"Default\", \"Topic1\", \"Topic1\", \"Topic1\", \"Topic1\", \"Topic1\", \"Topic1\", \"Topic1\", \"Topic1\", \"Topic1\", \"Topic1\", \"Topic1\", \"Topic1\", \"Topic1\", \"Topic1\", \"Topic1\", \"Topic1\", \"Topic1\", \"Topic1\", \"Topic1\", \"Topic1\", \"Topic1\", \"Topic1\", \"Topic1\", \"Topic1\", \"Topic1\", \"Topic1\", \"Topic1\", \"Topic1\", \"Topic1\", \"Topic1\", \"Topic2\", \"Topic2\", \"Topic2\", \"Topic2\", \"Topic2\", \"Topic2\", \"Topic2\", \"Topic2\", \"Topic2\", \"Topic2\", \"Topic2\", \"Topic2\", \"Topic2\", \"Topic2\", \"Topic2\", \"Topic2\", \"Topic2\", \"Topic2\", \"Topic2\", \"Topic2\", \"Topic2\", \"Topic2\", \"Topic2\", \"Topic2\", \"Topic2\", \"Topic2\", \"Topic2\", \"Topic2\", \"Topic2\", \"Topic2\", \"Topic3\", \"Topic3\", \"Topic3\", \"Topic3\", \"Topic3\", \"Topic3\", \"Topic3\", \"Topic3\", \"Topic3\", \"Topic3\", \"Topic3\", \"Topic3\", \"Topic3\", \"Topic3\", \"Topic3\", \"Topic3\", \"Topic3\", \"Topic3\", \"Topic3\", \"Topic3\", \"Topic3\", \"Topic3\", \"Topic3\", \"Topic3\", \"Topic3\", \"Topic3\", \"Topic3\", \"Topic3\", \"Topic3\", \"Topic3\", \"Topic4\", \"Topic4\", \"Topic4\", \"Topic4\", \"Topic4\", \"Topic4\", \"Topic4\", \"Topic4\", \"Topic4\", \"Topic4\", \"Topic4\", \"Topic4\", \"Topic4\", \"Topic4\", \"Topic4\", \"Topic4\", \"Topic4\", \"Topic4\", \"Topic4\", \"Topic4\", \"Topic4\", \"Topic4\", \"Topic4\", \"Topic4\", \"Topic4\", \"Topic4\", \"Topic4\", \"Topic4\", \"Topic4\", \"Topic4\", \"Topic5\", \"Topic5\", \"Topic5\", \"Topic5\", \"Topic5\", \"Topic5\", \"Topic5\", \"Topic5\", \"Topic5\", \"Topic5\", \"Topic5\", \"Topic5\", \"Topic5\", \"Topic5\", \"Topic5\", \"Topic5\", \"Topic5\", \"Topic5\", \"Topic5\", \"Topic5\", \"Topic5\", \"Topic5\", \"Topic5\", \"Topic5\", \"Topic5\", \"Topic5\", \"Topic5\", \"Topic5\", \"Topic5\", \"Topic5\", \"Topic6\", \"Topic6\", \"Topic6\", \"Topic6\", \"Topic6\", \"Topic6\", \"Topic6\", \"Topic6\", \"Topic6\", \"Topic6\", \"Topic6\", \"Topic6\", \"Topic6\", \"Topic6\", \"Topic6\", \"Topic6\", \"Topic6\", \"Topic6\", \"Topic6\", \"Topic6\", \"Topic6\", \"Topic6\", \"Topic6\", \"Topic6\", \"Topic6\", \"Topic6\", \"Topic6\", \"Topic6\", \"Topic6\", \"Topic6\", \"Topic7\", \"Topic7\", \"Topic7\", \"Topic7\", \"Topic7\", \"Topic7\", \"Topic7\", \"Topic7\", \"Topic7\", \"Topic7\", \"Topic7\", \"Topic7\", \"Topic7\", \"Topic7\", \"Topic7\", \"Topic7\", \"Topic7\", \"Topic7\", \"Topic7\", \"Topic7\", \"Topic7\", \"Topic7\", \"Topic7\", \"Topic7\", \"Topic7\", \"Topic7\", \"Topic7\", \"Topic7\", \"Topic7\", \"Topic7\", \"Topic8\", \"Topic8\", \"Topic8\", \"Topic8\", \"Topic8\", \"Topic8\", \"Topic8\", \"Topic8\", \"Topic8\", \"Topic8\", \"Topic8\", \"Topic8\", \"Topic8\", \"Topic8\", \"Topic8\", \"Topic8\", \"Topic8\", \"Topic8\", \"Topic8\", \"Topic8\", \"Topic8\", \"Topic8\", \"Topic8\", \"Topic8\", \"Topic8\", \"Topic8\", \"Topic8\", \"Topic8\", \"Topic8\", \"Topic8\"], \"Freq\": [6875.0, 4141.0, 6212.0, 3645.0, 2908.0, 2733.0, 2355.0, 1618.0, 1312.0, 1250.0, 2081.0, 1296.0, 1329.0, 1468.0, 1206.0, 1257.0, 1387.0, 1132.0, 1093.0, 1287.0, 1042.0, 1224.0, 1077.0, 1070.0, 1153.0, 937.0, 928.0, 1126.0, 1104.0, 889.0, 6874.50830078125, 6211.7666015625, 2081.048583984375, 1492.15283203125, 1371.0809326171875, 1340.6761474609375, 1151.119384765625, 1098.822998046875, 1049.130859375, 995.4940795898438, 850.1785278320312, 843.5664672851562, 842.1685791015625, 795.245361328125, 794.4601440429688, 731.7067260742188, 639.6500244140625, 591.4295043945312, 577.0394287109375, 513.7605590820312, 504.0939636230469, 501.078857421875, 490.5238342285156, 483.9512023925781, 483.7306213378906, 483.4418640136719, 481.8836669921875, 475.2265930175781, 472.873779296875, 471.10235595703125, 2354.131591796875, 1617.1617431640625, 1467.1588134765625, 1386.5535888671875, 1286.902099609375, 1223.95849609375, 1152.4991455078125, 1125.988525390625, 1103.43408203125, 1061.337646484375, 1056.9984130859375, 1034.339111328125, 856.4600830078125, 675.544921875, 593.0306396484375, 577.9376831054688, 536.2364501953125, 531.1583251953125, 522.706298828125, 476.5766906738281, 460.9388427734375, 458.3904113769531, 438.5950927734375, 407.2633056640625, 404.0799560546875, 382.7330322265625, 370.6003112792969, 366.5661926269531, 332.5954895019531, 327.4934387207031, 4140.205078125, 1328.248046875, 1256.3519287109375, 1076.5194091796875, 1069.796875, 923.4308471679688, 887.6979370117188, 807.6505126953125, 672.489990234375, 592.0369262695312, 534.533447265625, 504.64202880859375, 496.9338073730469, 479.3537902832031, 453.1423645019531, 452.22369384765625, 434.66046142578125, 410.77874755859375, 391.01739501953125, 389.5749206542969, 388.49810791015625, 380.33642578125, 352.0088806152344, 346.4778137207031, 333.59918212890625, 330.7365417480469, 324.56597900390625, 323.6911315917969, 314.7256164550781, 290.3209228515625, 3645.019775390625, 2907.450927734375, 1295.1414794921875, 869.5302734375, 805.3635864257812, 798.4852294921875, 710.548095703125, 663.8483276367188, 647.7608032226562, 634.151611328125, 577.601806640625, 555.9694213867188, 476.5353698730469, 456.84735107421875, 447.0489807128906, 439.25531005859375, 434.7705383300781, 427.7584228515625, 409.0289001464844, 407.4071044921875, 400.27032470703125, 353.34942626953125, 334.6811828613281, 282.3753662109375, 273.0559387207031, 262.6033935546875, 255.42123413085938, 254.6436309814453, 247.4563751220703, 228.1293182373047, 2733.05322265625, 1311.283935546875, 1250.0029296875, 1205.84521484375, 1131.8240966796875, 1092.667724609375, 767.2318725585938, 672.0748901367188, 631.445556640625, 558.0819702148438, 457.6859436035156, 451.9300842285156, 438.4193420410156, 426.5709533691406, 412.33587646484375, 394.47222900390625, 350.26336669921875, 349.8776550292969, 323.4526062011719, 296.30718994140625, 272.36114501953125, 250.825927734375, 249.65792846679688, 241.31747436523438, 238.55316162109375, 228.83753967285156, 215.2769317626953, 209.23941040039062, 194.90261840820312, 183.37393188476562, 1041.843505859375, 936.82421875, 927.881103515625, 888.8348388671875, 771.5151977539062, 552.2844848632812, 527.056396484375, 515.745361328125, 512.0377197265625, 490.779541015625, 482.25933837890625, 436.0154724121094, 398.0277099609375, 396.2678527832031, 389.1311950683594, 383.9255065917969, 381.1105651855469, 373.21514892578125, 355.656494140625, 347.9782409667969, 338.1536560058594, 320.10650634765625, 315.3581237792969, 314.1466979980469, 311.7812194824219, 307.37652587890625, 296.2221984863281, 295.62457275390625, 281.9407958984375, 272.17572021484375, 821.466796875, 750.537109375, 598.5867919921875, 594.81884765625, 530.8731079101562, 503.2550048828125, 479.8543701171875, 447.7930603027344, 420.2869873046875, 415.1169738769531, 393.7336120605469, 368.1601257324219, 353.0924377441406, 338.83544921875, 331.963623046875, 320.6219787597656, 304.45025634765625, 299.8005676269531, 298.6106872558594, 291.6600036621094, 282.74969482421875, 281.95574951171875, 277.77471923828125, 258.5358581542969, 249.53419494628906, 249.10086059570312, 240.60690307617188, 225.62393188476562, 225.28146362304688, 220.96896362304688, 606.2965698242188, 454.54656982421875, 423.1524963378906, 334.0408630371094, 295.7944030761719, 290.2145080566406, 289.3713684082031, 244.8701171875, 233.55224609375, 227.94265747070312, 226.33740234375, 222.92660522460938, 210.63729858398438, 188.5873260498047, 184.93316650390625, 176.0489501953125, 150.81488037109375, 145.17967224121094, 140.77743530273438, 133.01890563964844, 132.19932556152344, 130.30963134765625, 126.18838500976562, 117.24451446533203, 106.3545150756836, 101.78895568847656, 98.88172149658203, 95.9913101196289, 94.77210235595703, 93.13356018066406], \"Term\": [\"transition\", \"\\u00e9cologie\", \"\\u00e9cologique\", \"environnement\", \"ecologie\", \"pollution\", \"transports\", \"urgence\", \"consommation\", \"air\", \"plan\\u00e8te\", \"vie\", \"france\", \"transport\", \"stop\", \"\\u00e9nergie\", \"commun\", \"monde\", \"produits\", \"climatique\", \"contre\", \"enfants\", \"bio\", \"priorit\\u00e9\", \"agir\", \"vers\", \"ecologique\", \"avenir\", \"d\\u00e9velopper\", \"d\\u00e9chets\", \"transition\", \"\\u00e9cologique\", \"plan\\u00e8te\", \"taxer\", \"politique\", \"changer\", \"\\u00e9nerg\\u00e9tique\", \"pollueurs\", \"taxe\", \"agriculture\", \"carbone\", \"contribution\", \"v\\u00e9hicules\", \"entreprises\", \"\\u00e9conomique\", \"chacun\", \"voiture\", \"plan\", \"citoyens\", \"recherche\", \"pollueur\", \"payeur\", \"voitures\", \"niveau\", \"d\\u00e9placements\", \"energie\", \"rendre\", \"pr\\u00e9server\", \"propositions\", \"cr\\u00e9er\", \"transports\", \"urgence\", \"transport\", \"commun\", \"climatique\", \"enfants\", \"agir\", \"avenir\", \"d\\u00e9velopper\", \"changement\", \"climat\", \"biodiversit\\u00e9\", \"terre\", \"fran\", \"co\", \"prendre\", \"temps\", \"ferroutage\", \"grand\", \"r\\u00e9chauffement\", \"mod\\u00e8le\", \"taxation\", \"mesures\", \"obligatoire\", \"ais\", \"camions\", \"ville\", \"qualit\\u00e9\", \"tri\", \"energies\", \"\\u00e9cologie\", \"france\", \"\\u00e9nergie\", \"bio\", \"priorit\\u00e9\", \"favoriser\", \"\\u00e9nergies\", \"mieux\", \"interdire\", \"vivre\", \"fin\", \"fiscalit\\u00e9\", \"conscience\", \"pesticides\", \"prise\", \"renouvelables\", \"villes\", \"propre\", \"affaire\", \"prix\", \"utiliser\", \"probl\\u00e8me\", \"sociale\", \"mondiale\", \"education\", \"investir\", \"croissance\", \"supprimer\", \"campagne\", \"publics\", \"environnement\", \"ecologie\", \"vie\", \"nature\", \"protection\", \"sens\", \"bon\", \"respect\", \"sauver\", \"nucl\\u00e9aire\", \"\\u00e9cologiques\", \"production\", \"\\u00e9lectricit\\u00e9\", \"ressources\", \"arr\\u00eater\", \"maintenant\", \"gaspillage\", \"responsables\", \"b\", \"prot\\u00e9ger\", \"encourager\", \"animale\", \"sortir\", \"\\u00e9ducation\", \"plutot\", \"projet\", \"logements\", \"panneaux\", \"moyens\", \"simple\", \"pollution\", \"consommation\", \"air\", \"stop\", \"monde\", \"produits\", \"r\\u00e9duire\", \"limiter\", \"solutions\", \"\\u00e9lectrique\", \"payer\", \"animaux\", \"gros\", \"planete\", \"exemple\", \"polluants\", \"aides\", \"sauvons\", \"vrais\", \"circuits\", \"toute\", \"diminution\", \"sols\", \"co\\u00fbt\", \"heure\", \"population\", \"vision\", \"positive\", \"travail\", \"investissement\", \"contre\", \"vers\", \"ecologique\", \"d\\u00e9chets\", \"eau\", \"punitive\", \"recyclage\", \"tva\", \"pays\", \"oui\", \"chasse\", \"lutter\", \"autres\", \"plastique\", \"local\", \"chaque\", \"gaz\", \"consommer\", \"actions\", \"service\", \"h\", \"emballages\", \"r\\u00e9duction\", \"politiques\", \"diminuer\", \"lutte\", \"globale\", \"inciter\", \"economie\", \"moteur\", \"d\\u00e9veloppement\", \"durable\", \"responsable\", \"citoyen\", \"toutes\", \"taxes\", \"etat\", \"demain\", \"isolation\", \"europe\", \"place\", \"d\\u00e9cisions\", \"responsabilit\\u00e9\", \"solaire\", \"ensemble\", \"particuliers\", \"carburant\", \"dont\", \"mise\", \"grandes\", \"v\\u00e9ritable\", \"quotidien\", \"rien\", \"polluantes\", \"acc\\u00e9l\\u00e9rer\", \"utilisation\", \"gestion\", \"laisser\", \"droit\", \"possible\", \"\\u00e9conomie\", \"mettre\", \"sant\\u00e9\", \"aider\", \"doivent\", \"g\\u00e9n\\u00e9rations\", \"humaine\", \"courts\", \"imposer\", \"nouvelle\", \"vraiment\", \"industriels\", \"futures\", \"futur\", \"fonction\", \"publique\", \"global\", \"repenser\", \"enfin\", \"r\\u00e9elle\", \"z\\u00e9ro\", \"administration\", \"organiser\", \"massivement\", \"voir\", \"sein\", \"autoroute\", \"question\", \"participer\", \"fois\"], \"Total\": [6875.0, 4141.0, 6212.0, 3645.0, 2908.0, 2733.0, 2355.0, 1618.0, 1312.0, 1250.0, 2081.0, 1296.0, 1329.0, 1468.0, 1206.0, 1257.0, 1387.0, 1132.0, 1093.0, 1287.0, 1042.0, 1224.0, 1077.0, 1070.0, 1153.0, 937.0, 928.0, 1126.0, 1104.0, 889.0, 6875.40869140625, 6212.6669921875, 2081.949462890625, 1493.0537109375, 1371.9815673828125, 1341.576904296875, 1152.0201416015625, 1099.7237548828125, 1050.0316162109375, 996.3948974609375, 851.0791625976562, 844.4671630859375, 843.0693969726562, 796.1461181640625, 795.3611450195312, 732.6077880859375, 640.55078125, 592.3301391601562, 577.9403076171875, 514.6615600585938, 504.9944763183594, 501.9794616699219, 491.42462158203125, 484.8518981933594, 484.6316223144531, 484.34246826171875, 482.78472900390625, 476.1277770996094, 473.77447509765625, 472.0032958984375, 2355.040283203125, 1618.0701904296875, 1468.0672607421875, 1387.4619140625, 1287.8104248046875, 1224.8670654296875, 1153.40771484375, 1126.8970947265625, 1104.3426513671875, 1062.2464599609375, 1057.906982421875, 1035.2476806640625, 857.3687133789062, 676.4534301757812, 593.939453125, 578.8466186523438, 537.1451416015625, 532.0667114257812, 523.6152954101562, 477.4852294921875, 461.8475341796875, 459.29937744140625, 439.50372314453125, 408.1721496582031, 404.98834228515625, 383.6414794921875, 371.5088195800781, 367.4749450683594, 333.5042419433594, 328.4020080566406, 4141.1123046875, 1329.1558837890625, 1257.259765625, 1077.4273681640625, 1070.7044677734375, 924.33837890625, 888.6054077148438, 808.5578002929688, 673.3978271484375, 592.9443359375, 535.441162109375, 505.5495300292969, 497.84112548828125, 480.26116943359375, 454.04986572265625, 453.1309509277344, 435.56787109375, 411.6861877441406, 391.9248046875, 390.482666015625, 389.4059753417969, 381.243896484375, 352.91668701171875, 347.3855895996094, 334.5069885253906, 331.6442565917969, 325.4734802246094, 324.5985412597656, 315.6334533691406, 291.22882080078125, 3645.926513671875, 2908.35791015625, 1296.04833984375, 870.43701171875, 806.2702026367188, 799.3917846679688, 711.4544677734375, 664.7549438476562, 648.667724609375, 635.0582885742188, 578.5089111328125, 556.876220703125, 477.4430236816406, 457.7541809082031, 447.955810546875, 440.1622314453125, 435.6776428222656, 428.6654357910156, 409.9358825683594, 408.3138732910156, 401.17742919921875, 354.2560119628906, 335.588134765625, 283.2822570800781, 273.9627380371094, 263.5102233886719, 256.3280334472656, 255.55026245117188, 248.3629608154297, 229.03610229492188, 2733.96484375, 1312.19580078125, 1250.9146728515625, 1206.7568359375, 1132.7362060546875, 1093.579345703125, 768.1435546875, 672.9865112304688, 632.3573608398438, 558.993896484375, 458.59783935546875, 452.8419189453125, 439.33123779296875, 427.4828796386719, 413.2475891113281, 395.3843078613281, 351.1750183105469, 350.789306640625, 324.3644714355469, 297.2193298339844, 273.2730712890625, 251.7382354736328, 250.5699005126953, 242.23135375976562, 239.46519470214844, 229.74913024902344, 216.18905639648438, 210.15164184570312, 195.81410217285156, 184.28549194335938, 1042.752197265625, 937.7332763671875, 928.7898559570312, 889.7437744140625, 772.4241333007812, 553.1936645507812, 527.96533203125, 516.6542358398438, 512.9466552734375, 491.6886901855469, 483.1683044433594, 436.92401123046875, 398.9367370605469, 397.1764831542969, 390.0401306152344, 384.8347473144531, 382.0193786621094, 374.1239318847656, 356.5653991699219, 348.8872375488281, 339.06231689453125, 321.0150146484375, 316.2670593261719, 315.05596923828125, 312.69024658203125, 308.2850646972656, 297.1315002441406, 296.53387451171875, 282.85015869140625, 273.0848693847656, 822.373291015625, 751.443603515625, 599.493408203125, 595.7254638671875, 531.7799072265625, 504.16143798828125, 480.76092529296875, 448.6999206542969, 421.1939392089844, 416.0238037109375, 394.6400451660156, 369.0675354003906, 353.9989929199219, 339.7421569824219, 332.8702087402344, 321.52880859375, 305.3570556640625, 300.7087707519531, 299.5173034667969, 292.56689453125, 283.65667724609375, 282.8625793457031, 278.6817626953125, 259.4425964355469, 250.4407501220703, 250.0076446533203, 241.51336669921875, 226.53118896484375, 226.18832397460938, 221.8755645751953, 607.217529296875, 455.4675598144531, 424.07391357421875, 334.9619445800781, 296.7158508300781, 291.1352844238281, 290.29241943359375, 245.7915496826172, 234.4732666015625, 228.86392211914062, 227.25857543945312, 223.8477020263672, 211.557861328125, 189.50828552246094, 185.85409545898438, 176.96994018554688, 151.73617553710938, 146.1010284423828, 141.69883728027344, 133.93994140625, 133.12039184570312, 131.2331085205078, 127.11040496826172, 118.16532897949219, 107.27562713623047, 102.71794128417969, 99.80354309082031, 96.91236877441406, 95.69402313232422, 94.05652618408203], \"loglift\": [30.0, 29.0, 28.0, 27.0, 26.0, 25.0, 24.0, 23.0, 22.0, 21.0, 20.0, 19.0, 18.0, 17.0, 16.0, 15.0, 14.0, 13.0, 12.0, 11.0, 10.0, 9.0, 8.0, 7.0, 6.0, 5.0, 4.0, 3.0, 2.0, 1.0, 1.350000023841858, 1.350000023841858, 1.3496999740600586, 1.3494999408721924, 1.3494000434875488, 1.3494000434875488, 1.3493000268936157, 1.3493000268936157, 1.3492000102996826, 1.3492000102996826, 1.3489999771118164, 1.3489999771118164, 1.3489999771118164, 1.3489999771118164, 1.3489999771118164, 1.3488999605178833, 1.3487000465393066, 1.3486000299453735, 1.3485000133514404, 1.3482999801635742, 1.3482999801635742, 1.3482999801635742, 1.3482999801635742, 1.3481999635696411, 1.3481999635696411, 1.3481999635696411, 1.3481999635696411, 1.3481999635696411, 1.3481999635696411, 1.3481999635696411, 1.8595000505447388, 1.8594000339508057, 1.8593000173568726, 1.8593000173568726, 1.8592000007629395, 1.8592000007629395, 1.8590999841690063, 1.8590999841690063, 1.8590999841690063, 1.8590999841690063, 1.8590999841690063, 1.8590999841690063, 1.8588999509811401, 1.8586000204086304, 1.8583999872207642, 1.8583999872207642, 1.858199954032898, 1.858199954032898, 1.858199954032898, 1.8580000400543213, 1.8580000400543213, 1.8580000400543213, 1.8579000234603882, 1.857699990272522, 1.857699990272522, 1.8575999736785889, 1.8574999570846558, 1.8574999570846558, 1.857200026512146, 1.857200026512146, 2.0845000743865967, 2.0841000080108643, 2.0840001106262207, 2.083899974822998, 2.083899974822998, 2.0838000774383545, 2.083699941635132, 2.0836000442504883, 2.083400011062622, 2.083199977874756, 2.0831000804901123, 2.0829999446868896, 2.082900047302246, 2.082900047302246, 2.0827999114990234, 2.0827999114990234, 2.08270001411438, 2.0826001167297363, 2.08240008354187, 2.08240008354187, 2.08240008354187, 2.08240008354187, 2.082200050354004, 2.0820999145507812, 2.0820000171661377, 2.0820000171661377, 2.0820000171661377, 2.0820000171661377, 2.081899881362915, 2.0815999507904053, 2.154599905014038, 2.1545000076293945, 2.154099941253662, 2.1538000106811523, 2.153700113296509, 2.153700113296509, 2.1535000801086426, 2.15339994430542, 2.15339994430542, 2.15339994430542, 2.1531999111175537, 2.1531999111175537, 2.152899980545044, 2.1528000831604004, 2.1528000831604004, 2.1526999473571777, 2.1526999473571777, 2.1526999473571777, 2.152600049972534, 2.152600049972534, 2.1524999141693115, 2.1521999835968018, 2.152100086212158, 2.151599884033203, 2.1514999866485596, 2.151400089263916, 2.1512999534606934, 2.15120005607605, 2.151099920272827, 2.1507999897003174, 2.242799997329712, 2.242500066757202, 2.242500066757202, 2.2423999309539795, 2.2423999309539795, 2.242300033569336, 2.242000102996826, 2.24180006980896, 2.2416999340057373, 2.241499900817871, 2.2411999702453613, 2.2411999702453613, 2.2411000728607178, 2.240999937057495, 2.240999937057495, 2.2409000396728516, 2.240600109100342, 2.240600109100342, 2.2404000759124756, 2.2400999069213867, 2.239799976348877, 2.2395999431610107, 2.239500045776367, 2.2393999099731445, 2.2393999099731445, 2.2392001152038574, 2.239000082015991, 2.238800048828125, 2.2385001182556152, 2.2381999492645264, 2.2802000045776367, 2.280100107192993, 2.280100107192993, 2.2799999713897705, 2.279900074005127, 2.279400110244751, 2.2792999744415283, 2.2792999744415283, 2.2792999744415283, 2.2792000770568848, 2.2792000770568848, 2.2790000438690186, 2.2788000106811523, 2.2788000106811523, 2.278700113296509, 2.278700113296509, 2.278700113296509, 2.278599977493286, 2.2785000801086426, 2.2785000801086426, 2.27839994430542, 2.2781999111175537, 2.2781999111175537, 2.2781999111175537, 2.27810001373291, 2.27810001373291, 2.2780001163482666, 2.2780001163482666, 2.2778000831604004, 2.2776999473571777, 2.3475000858306885, 2.347399950027466, 2.347100019454956, 2.347100019454956, 2.34689998626709, 2.3468000888824463, 2.3466999530792236, 2.34660005569458, 2.346400022506714, 2.346400022506714, 2.346299886703491, 2.346100091934204, 2.3459999561309814, 2.345900058746338, 2.345900058746338, 2.3457999229431152, 2.345599889755249, 2.345599889755249, 2.345599889755249, 2.3454999923706055, 2.345400094985962, 2.345400094985962, 2.3452999591827393, 2.345099925994873, 2.3450000286102295, 2.3450000286102295, 2.3447999954223633, 2.344599962234497, 2.344599962234497, 2.3445000648498535, 3.191699981689453, 3.191200017929077, 3.1910998821258545, 3.190500020980835, 3.1900999546051025, 3.1900999546051025, 3.1900999546051025, 3.189500093460083, 3.189300060272217, 3.189199924468994, 3.189199924468994, 3.1891000270843506, 3.1888999938964844, 3.1884000301361084, 3.1882998943328857, 3.187999963760376, 3.1872000694274902, 3.1868999004364014, 3.1867001056671143, 3.186300039291382, 3.186300039291382, 3.186199903488159, 3.186000108718872, 3.1854000091552734, 3.1846001148223877, 3.1842000484466553, 3.184000015258789, 3.1837000846862793, 3.1835999488830566, 3.1833999156951904], \"logprob\": [30.0, 29.0, 28.0, 27.0, 26.0, 25.0, 24.0, 23.0, 22.0, 21.0, 20.0, 19.0, 18.0, 17.0, 16.0, 15.0, 14.0, 13.0, 12.0, 11.0, 10.0, 9.0, 8.0, 7.0, 6.0, 5.0, 4.0, 3.0, 2.0, 1.0, -2.5007998943328857, -2.602099895477295, -3.69569993019104, -4.02839994430542, -4.11299991607666, -4.13539981842041, -4.287799835205078, -4.3343000411987305, -4.3805999755859375, -4.43310022354126, -4.59089994430542, -4.598700046539307, -4.600299835205078, -4.657700061798096, -4.658699989318848, -4.740900039672852, -4.875400066375732, -4.953800201416016, -4.978400230407715, -5.094600200653076, -5.11359977722168, -5.11959981918335, -5.140900135040283, -5.154300212860107, -5.154799938201904, -5.155399799346924, -5.158599853515625, -5.172500133514404, -5.177499771118164, -5.181300163269043, -3.0625998973846436, -3.4381000995635986, -3.535399913787842, -3.591900110244751, -3.6665000915527344, -3.716599941253662, -3.7767999172210693, -3.800100088119507, -3.8203001022338867, -3.8592000007629395, -3.863300085067749, -3.884999990463257, -4.073699951171875, -4.310999870300293, -4.441199779510498, -4.4670000076293945, -4.541900157928467, -4.551400184631348, -4.567500114440918, -4.659900188446045, -4.69320011138916, -4.698800086975098, -4.7428998947143555, -4.816999912261963, -4.824900150299072, -4.879199981689453, -4.911399841308594, -4.922299861907959, -5.019599914550781, -5.034999847412109, -2.273200035095215, -3.4100000858306885, -3.4656999111175537, -3.6201999187469482, -3.6263999938964844, -3.7736001014709473, -3.812999963760376, -3.9075000286102295, -4.090700149536133, -4.218100070953369, -4.320300102233887, -4.377799987792969, -4.393199920654297, -4.429200172424316, -4.485499858856201, -4.487500190734863, -4.527100086212158, -4.583600044250488, -4.632900238037109, -4.636600017547607, -4.639400005340576, -4.660600185394287, -4.73799991607666, -4.753799915313721, -4.7916998863220215, -4.800300121307373, -4.819200038909912, -4.821899890899658, -4.849999904632568, -4.930699825286865, -2.3304998874664307, -2.5566000938415527, -3.3652000427246094, -3.763700008392334, -3.8403000831604004, -3.848900079727173, -3.96560001373291, -4.033599853515625, -4.05810022354126, -4.0792999267578125, -4.172699928283691, -4.210899829864502, -4.365099906921387, -4.407299995422363, -4.428999900817871, -4.446499824523926, -4.4567999839782715, -4.473100185394287, -4.5177998542785645, -4.5218000411987305, -4.5395002365112305, -4.6641998291015625, -4.718400001525879, -4.888400077819824, -4.921899795532227, -4.960999965667725, -4.988699913024902, -4.991799831390381, -5.020400047302246, -5.1016998291015625, -2.530100107192993, -3.2644999027252197, -3.312299966812134, -3.348299980163574, -3.4117000102996826, -3.446899890899658, -3.80049991607666, -3.9328999519348145, -3.9951999187469482, -4.11870002746582, -4.3171000480651855, -4.329699993133545, -4.360099792480469, -4.387499809265137, -4.42140007019043, -4.465700149536133, -4.58459997177124, -4.585700035095215, -4.6641998291015625, -4.751800060272217, -4.836100101470947, -4.918499946594238, -4.9232001304626465, -4.957099914550781, -4.968699932098389, -5.010200023651123, -5.071300029754639, -5.099800109863281, -5.1707000732421875, -5.2316999435424805, -3.4565999507904053, -3.5629000663757324, -3.572499990463257, -3.615499973297119, -3.756999969482422, -4.091300010681152, -4.1381001472473145, -4.159800052642822, -4.166999816894531, -4.209400177001953, -4.226900100708008, -4.327700138092041, -4.418799877166748, -4.423299789428711, -4.441400051116943, -4.454899787902832, -4.462299823760986, -4.4832000732421875, -4.531400203704834, -4.553199768066406, -4.581900119781494, -4.63670015335083, -4.651700019836426, -4.6554999351501465, -4.663099765777588, -4.677299976348877, -4.714300155639648, -4.716300010681152, -4.763700008392334, -4.798900127410889, -3.626699924468994, -3.717099905014038, -3.9433000087738037, -3.9495999813079834, -4.063300132751465, -4.116700172424316, -4.164400100708008, -4.233500003814697, -4.296899795532227, -4.309299945831299, -4.362199783325195, -4.429299831390381, -4.471099853515625, -4.51230001449585, -4.532800197601318, -4.567599773406982, -4.61929988861084, -4.634699821472168, -4.638700008392334, -4.662300109863281, -4.693299770355225, -4.696100234985352, -4.710999965667725, -4.782800197601318, -4.81820011138916, -4.820000171661377, -4.854700088500977, -4.919000148773193, -4.920499801635742, -4.939799785614014, -3.0857999324798584, -3.3738999366760254, -3.4453999996185303, -3.6819000244140625, -3.803499937057495, -3.8225998878479004, -3.825500011444092, -3.9923999309539795, -4.03980016708374, -4.0640997886657715, -4.071199893951416, -4.086299896240234, -4.14300012588501, -4.253600120544434, -4.273200035095215, -4.322400093078613, -4.477099895477295, -4.515200138092041, -4.546000003814697, -4.602700233459473, -4.60890007019043, -4.623300075531006, -4.655399799346924, -4.728899955749512, -4.826399803161621, -4.870299816131592, -4.8993000984191895, -4.928899765014648, -4.941699981689453, -4.959099769592285]}, \"token.table\": {\"Topic\": [7, 6, 8, 3, 2, 1, 8, 5, 5, 2, 4, 5, 4, 8, 6, 2, 4, 3, 2, 4, 2, 3, 1, 7, 1, 2, 1, 6, 6, 5, 7, 1, 2, 2, 2, 2, 3, 5, 6, 6, 1, 8, 5, 3, 1, 7, 6, 5, 8, 7, 7, 7, 6, 7, 1, 7, 2, 6, 4, 6, 6, 3, 6, 4, 1, 2, 2, 8, 7, 1, 4, 7, 7, 5, 3, 2, 3, 3, 8, 8, 2, 3, 8, 8, 4, 6, 7, 8, 6, 2, 7, 5, 8, 6, 5, 8, 8, 6, 8, 3, 3, 5, 7, 7, 5, 6, 4, 6, 6, 4, 8, 2, 8, 3, 7, 2, 5, 3, 6, 4, 4, 1, 8, 4, 2, 8, 6, 4, 8, 7, 5, 1, 6, 3, 7, 1, 5, 1, 6, 4, 1, 6, 7, 5, 1, 1, 5, 5, 5, 7, 2, 3, 3, 3, 3, 4, 5, 4, 1, 3, 4, 4, 1, 3, 8, 6, 2, 8, 7, 1, 6, 1, 3, 8, 4, 7, 7, 4, 4, 7, 2, 6, 5, 8, 8, 4, 5, 8, 4, 6, 4, 3, 7, 5, 5, 4, 5, 3, 2, 1, 1, 7, 2, 2, 5, 7, 1, 2, 2, 5, 2, 6, 2, 7, 3, 6, 4, 2, 3, 5, 3, 8, 1, 1, 8, 5, 1, 7, 8, 3, 1, 4, 8, 1, 4, 4, 5, 3, 3, 1], \"Freq\": [0.9982401132583618, 0.9984143376350403, 0.9906036853790283, 0.9976403713226318, 0.9987795352935791, 0.9986000657081604, 0.9971281886100769, 0.9966540336608887, 0.9992687702178955, 0.9975596070289612, 0.9964545369148254, 0.998140811920166, 0.9978662729263306, 0.9919487237930298, 0.9976519346237183, 0.9992039203643799, 0.997717022895813, 0.9996033310890198, 0.9987947940826416, 0.9993612170219421, 0.998327910900116, 0.9979930520057678, 0.9987320303916931, 0.9955558180809021, 0.9991703629493713, 0.9988265633583069, 0.9995699524879456, 0.997830867767334, 0.9975820183753967, 0.9958975315093994, 0.998782217502594, 0.9983730316162109, 0.9991426467895508, 0.9993706941604614, 0.9984182715415955, 0.9996671080589294, 0.9983104467391968, 0.999088704586029, 0.9969958066940308, 0.9992786645889282, 0.9994468092918396, 0.9967795610427856, 0.9949166178703308, 0.998545229434967, 0.99787437915802, 0.9984400868415833, 0.9977925419807434, 0.9970674514770508, 0.9975874423980713, 0.997642993927002, 0.9947463274002075, 0.9994096755981445, 0.9991640448570251, 0.9971075057983398, 0.9986966848373413, 0.9983301162719727, 0.9987841844558716, 0.9994509220123291, 0.9995331168174744, 0.9991495609283447, 0.9969943165779114, 0.9984843730926514, 0.9968380928039551, 0.9970650672912598, 0.9972282648086548, 0.9957308173179626, 0.9992921352386475, 0.9950681328773499, 0.9973857402801514, 0.9985604286193848, 0.9997459053993225, 0.9984172582626343, 0.9975391030311584, 0.9969810247421265, 0.9985520839691162, 0.997995138168335, 0.9991760849952698, 0.9989129900932312, 0.9887670874595642, 0.9954044818878174, 0.999329686164856, 0.999130368232727, 0.9973178505897522, 0.9973630905151367, 0.9984446167945862, 0.9973316192626953, 0.99787437915802, 0.9951483011245728, 0.9961919188499451, 0.9988248944282532, 0.9980623126029968, 0.9969698786735535, 0.9961004853248596, 0.9968668818473816, 0.9980573654174805, 0.995547890663147, 0.9979815483093262, 0.9981996417045593, 0.9962130188941956, 0.9979242086410522, 0.9980573654174805, 0.993024468421936, 0.997165322303772, 0.9976550936698914, 0.9985341429710388, 0.997333288192749, 0.9948189854621887, 0.9958315491676331, 0.9978851675987244, 0.9973595142364502, 0.9901381731033325, 0.998853862285614, 0.9989734292030334, 0.9993101358413696, 0.9982728958129883, 0.9981648921966553, 0.9993500709533691, 0.9960113763809204, 0.9960273504257202, 0.9945122003555298, 0.9994979500770569, 0.998242974281311, 0.9962251782417297, 0.9983335733413696, 0.9971283078193665, 0.9912642240524292, 0.9985993504524231, 0.997846782207489, 0.9927474856376648, 0.9983553290367126, 0.9986963868141174, 0.9980487823486328, 0.9981544613838196, 0.9973739981651306, 0.9983781576156616, 0.9977543950080872, 0.9988704323768616, 0.9995439648628235, 0.9970378875732422, 0.9964858889579773, 0.999284565448761, 0.9966483116149902, 0.9982940554618835, 0.9964988231658936, 0.9980307221412659, 0.9993419051170349, 0.9996470808982849, 0.9967393279075623, 0.9945199489593506, 0.9960538148880005, 0.9985374212265015, 0.9993420243263245, 0.9976877570152283, 0.998763918876648, 0.9967372417449951, 0.9984265565872192, 0.9994702339172363, 0.9980637431144714, 0.9983652830123901, 0.998333215713501, 0.9984245896339417, 0.9967821836471558, 0.9976313710212708, 0.9957805871963501, 0.9945191740989685, 0.9978422522544861, 0.9987075328826904, 0.9905856251716614, 0.9969505071640015, 0.9987145662307739, 0.9981716275215149, 0.9983745813369751, 0.9975041151046753, 0.9924639463424683, 0.9988643527030945, 0.9971779584884644, 0.9991769790649414, 0.9984476566314697, 0.9983524084091187, 0.9975535869598389, 0.9989838004112244, 0.9959937334060669, 0.9985112547874451, 0.9929823875427246, 0.9974676370620728, 0.998970627784729, 0.997749924659729, 0.9930105805397034, 0.9982589483261108, 0.997456967830658, 0.995476245880127, 0.997402548789978, 0.9978155493736267, 0.9977256059646606, 0.9978535175323486, 0.9982474446296692, 0.9993728399276733, 0.9981560707092285, 0.9971709847450256, 0.9990175366401672, 0.9992942810058594, 0.9976962804794312, 0.9978681206703186, 0.9984036087989807, 0.995341420173645, 0.9985334277153015, 0.9999405741691589, 0.9992730021476746, 0.9995582699775696, 0.995842456817627, 0.9984880685806274, 0.9987336993217468, 0.9993386268615723, 0.9959695339202881, 0.9963894486427307, 0.9992180466651917, 0.9991911053657532, 0.9986304044723511, 0.9986962676048279, 0.994499921798706, 0.9984073638916016, 0.9881088733673096, 0.9991401433944702, 0.9991359114646912, 0.9944618940353394, 0.9957934021949768, 0.9987315535545349, 0.9976849555969238, 0.9915836453437805, 0.9997314214706421, 0.9998926520347595, 0.99912029504776, 0.9979948997497559, 0.998288631439209, 0.9954735636711121, 0.9990720748901367, 0.9982219934463501, 0.9989979863166809, 0.9993187189102173, 0.999114453792572], \"Term\": [\"acc\\u00e9l\\u00e9rer\", \"actions\", \"administration\", \"affaire\", \"agir\", \"agriculture\", \"aider\", \"aides\", \"air\", \"ais\", \"animale\", \"animaux\", \"arr\\u00eater\", \"autoroute\", \"autres\", \"avenir\", \"b\", \"bio\", \"biodiversit\\u00e9\", \"bon\", \"camions\", \"campagne\", \"carbone\", \"carburant\", \"chacun\", \"changement\", \"changer\", \"chaque\", \"chasse\", \"circuits\", \"citoyen\", \"citoyens\", \"climat\", \"climatique\", \"co\", \"commun\", \"conscience\", \"consommation\", \"consommer\", \"contre\", \"contribution\", \"courts\", \"co\\u00fbt\", \"croissance\", \"cr\\u00e9er\", \"demain\", \"diminuer\", \"diminution\", \"doivent\", \"dont\", \"droit\", \"durable\", \"d\\u00e9chets\", \"d\\u00e9cisions\", \"d\\u00e9placements\", \"d\\u00e9veloppement\", \"d\\u00e9velopper\", \"eau\", \"ecologie\", \"ecologique\", \"economie\", \"education\", \"emballages\", \"encourager\", \"energie\", \"energies\", \"enfants\", \"enfin\", \"ensemble\", \"entreprises\", \"environnement\", \"etat\", \"europe\", \"exemple\", \"favoriser\", \"ferroutage\", \"fin\", \"fiscalit\\u00e9\", \"fois\", \"fonction\", \"fran\", \"france\", \"futur\", \"futures\", \"gaspillage\", \"gaz\", \"gestion\", \"global\", \"globale\", \"grand\", \"grandes\", \"gros\", \"g\\u00e9n\\u00e9rations\", \"h\", \"heure\", \"humaine\", \"imposer\", \"inciter\", \"industriels\", \"interdire\", \"investir\", \"investissement\", \"isolation\", \"laisser\", \"limiter\", \"local\", \"logements\", \"lutte\", \"lutter\", \"maintenant\", \"massivement\", \"mesures\", \"mettre\", \"mieux\", \"mise\", \"mod\\u00e8le\", \"monde\", \"mondiale\", \"moteur\", \"moyens\", \"nature\", \"niveau\", \"nouvelle\", \"nucl\\u00e9aire\", \"obligatoire\", \"organiser\", \"oui\", \"panneaux\", \"participer\", \"particuliers\", \"payer\", \"payeur\", \"pays\", \"pesticides\", \"place\", \"plan\", \"planete\", \"plan\\u00e8te\", \"plastique\", \"plutot\", \"politique\", \"politiques\", \"polluantes\", \"polluants\", \"pollueur\", \"pollueurs\", \"pollution\", \"population\", \"positive\", \"possible\", \"prendre\", \"priorit\\u00e9\", \"prise\", \"prix\", \"probl\\u00e8me\", \"production\", \"produits\", \"projet\", \"propositions\", \"propre\", \"protection\", \"prot\\u00e9ger\", \"pr\\u00e9server\", \"publics\", \"publique\", \"punitive\", \"qualit\\u00e9\", \"question\", \"quotidien\", \"recherche\", \"recyclage\", \"rendre\", \"renouvelables\", \"repenser\", \"respect\", \"responsabilit\\u00e9\", \"responsable\", \"responsables\", \"ressources\", \"rien\", \"r\\u00e9chauffement\", \"r\\u00e9duction\", \"r\\u00e9duire\", \"r\\u00e9elle\", \"sant\\u00e9\", \"sauver\", \"sauvons\", \"sein\", \"sens\", \"service\", \"simple\", \"sociale\", \"solaire\", \"sols\", \"solutions\", \"sortir\", \"stop\", \"supprimer\", \"taxation\", \"taxe\", \"taxer\", \"taxes\", \"temps\", \"terre\", \"toute\", \"toutes\", \"transition\", \"transport\", \"transports\", \"travail\", \"tri\", \"tva\", \"urgence\", \"utilisation\", \"utiliser\", \"vers\", \"vie\", \"ville\", \"villes\", \"vision\", \"vivre\", \"voir\", \"voiture\", \"voitures\", \"vraiment\", \"vrais\", \"v\\u00e9hicules\", \"v\\u00e9ritable\", \"z\\u00e9ro\", \"\\u00e9cologie\", \"\\u00e9cologique\", \"\\u00e9cologiques\", \"\\u00e9conomie\", \"\\u00e9conomique\", \"\\u00e9ducation\", \"\\u00e9lectricit\\u00e9\", \"\\u00e9lectrique\", \"\\u00e9nergie\", \"\\u00e9nergies\", \"\\u00e9nerg\\u00e9tique\"]}, \"R\": 30, \"lambda.step\": 0.01, \"plot.opts\": {\"xlab\": \"PC1\", \"ylab\": \"PC2\"}, \"topic.order\": [8, 3, 4, 1, 5, 2, 6, 7]};\n",
       "\n",
       "function LDAvis_load_lib(url, callback){\n",
       "  var s = document.createElement('script');\n",
       "  s.src = url;\n",
       "  s.async = true;\n",
       "  s.onreadystatechange = s.onload = callback;\n",
       "  s.onerror = function(){console.warn(\"failed to load library \" + url);};\n",
       "  document.getElementsByTagName(\"head\")[0].appendChild(s);\n",
       "}\n",
       "\n",
       "if(typeof(LDAvis) !== \"undefined\"){\n",
       "   // already loaded: just create the visualization\n",
       "   !function(LDAvis){\n",
       "       new LDAvis(\"#\" + \"ldavis_el45671122320544804623832390\", ldavis_el45671122320544804623832390_data);\n",
       "   }(LDAvis);\n",
       "}else if(typeof define === \"function\" && define.amd){\n",
       "   // require.js is available: use it to load d3/LDAvis\n",
       "   require.config({paths: {d3: \"https://cdnjs.cloudflare.com/ajax/libs/d3/3.5.5/d3.min\"}});\n",
       "   require([\"d3\"], function(d3){\n",
       "      window.d3 = d3;\n",
       "      LDAvis_load_lib(\"https://cdn.rawgit.com/bmabey/pyLDAvis/files/ldavis.v1.0.0.js\", function(){\n",
       "        new LDAvis(\"#\" + \"ldavis_el45671122320544804623832390\", ldavis_el45671122320544804623832390_data);\n",
       "      });\n",
       "    });\n",
       "}else{\n",
       "    // require.js not available: dynamically load d3 & LDAvis\n",
       "    LDAvis_load_lib(\"https://cdnjs.cloudflare.com/ajax/libs/d3/3.5.5/d3.min.js\", function(){\n",
       "         LDAvis_load_lib(\"https://cdn.rawgit.com/bmabey/pyLDAvis/files/ldavis.v1.0.0.js\", function(){\n",
       "                 new LDAvis(\"#\" + \"ldavis_el45671122320544804623832390\", ldavis_el45671122320544804623832390_data);\n",
       "            })\n",
       "         });\n",
       "}\n",
       "</script>"
      ],
      "text/plain": [
       "PreparedData(topic_coordinates=              x         y  topics  cluster       Freq\n",
       "topic                                                \n",
       "7     -0.430425 -0.025615       1        1  25.921539\n",
       "2      0.035796  0.419623       2        1  15.568323\n",
       "3      0.065662 -0.095788       3        1  12.433666\n",
       "0      0.064952 -0.070378       4        1  11.592612\n",
       "4      0.072885 -0.071208       5        1  10.612030\n",
       "1      0.061426 -0.062191       6        1  10.217580\n",
       "5      0.067578 -0.056469       7        1   9.550421\n",
       "6      0.062126 -0.037974       8        1   4.103836, topic_info=     Category         Freq            Term        Total  loglift  logprob\n",
       "term                                                                     \n",
       "0     Default  6875.000000      transition  6875.000000  30.0000  30.0000\n",
       "58    Default  4141.000000        écologie  4141.000000  29.0000  29.0000\n",
       "1     Default  6212.000000      écologique  6212.000000  28.0000  28.0000\n",
       "27    Default  3645.000000   environnement  3645.000000  27.0000  27.0000\n",
       "7     Default  2908.000000        ecologie  2908.000000  26.0000  26.0000\n",
       "6     Default  2733.000000       pollution  2733.000000  25.0000  25.0000\n",
       "74    Default  2355.000000      transports  2355.000000  24.0000  24.0000\n",
       "256   Default  1618.000000         urgence  1618.000000  23.0000  23.0000\n",
       "217   Default  1312.000000    consommation  1312.000000  22.0000  22.0000\n",
       "4     Default  1250.000000             air  1250.000000  21.0000  21.0000\n",
       "224   Default  2081.000000         planète  2081.000000  20.0000  20.0000\n",
       "168   Default  1296.000000             vie  1296.000000  19.0000  19.0000\n",
       "130   Default  1329.000000          france  1329.000000  18.0000  18.0000\n",
       "26    Default  1468.000000       transport  1468.000000  17.0000  17.0000\n",
       "445   Default  1206.000000            stop  1206.000000  16.0000  16.0000\n",
       "250   Default  1257.000000         énergie  1257.000000  15.0000  15.0000\n",
       "199   Default  1387.000000          commun  1387.000000  14.0000  14.0000\n",
       "461   Default  1132.000000           monde  1132.000000  13.0000  13.0000\n",
       "646   Default  1093.000000        produits  1093.000000  12.0000  12.0000\n",
       "255   Default  1287.000000      climatique  1287.000000  11.0000  11.0000\n",
       "124   Default  1042.000000          contre  1042.000000  10.0000  10.0000\n",
       "13    Default  1224.000000         enfants  1224.000000   9.0000   9.0000\n",
       "90    Default  1077.000000             bio  1077.000000   8.0000   8.0000\n",
       "101   Default  1070.000000        priorité  1070.000000   7.0000   7.0000\n",
       "488   Default  1153.000000            agir  1153.000000   6.0000   6.0000\n",
       "410   Default   937.000000            vers   937.000000   5.0000   5.0000\n",
       "407   Default   928.000000      ecologique   928.000000   4.0000   4.0000\n",
       "466   Default  1126.000000          avenir  1126.000000   3.0000   3.0000\n",
       "252   Default  1104.000000      développer  1104.000000   2.0000   2.0000\n",
       "1759  Default   889.000000         déchets   889.000000   1.0000   1.0000\n",
       "...       ...          ...             ...          ...      ...      ...\n",
       "1044   Topic8   606.296570        économie   607.217529   3.1917  -3.0858\n",
       "767    Topic8   454.546570          mettre   455.467560   3.1912  -3.3739\n",
       "485    Topic8   423.152496           santé   424.073914   3.1911  -3.4454\n",
       "679    Topic8   334.040863           aider   334.961945   3.1905  -3.6819\n",
       "613    Topic8   295.794403         doivent   296.715851   3.1901  -3.8035\n",
       "1479   Topic8   290.214508     générations   291.135284   3.1901  -3.8226\n",
       "2518   Topic8   289.371368         humaine   290.292419   3.1901  -3.8255\n",
       "936    Topic8   244.870117          courts   245.791550   3.1895  -3.9924\n",
       "20     Topic8   233.552246         imposer   234.473267   3.1893  -4.0398\n",
       "676    Topic8   227.942657        nouvelle   228.863922   3.1892  -4.0641\n",
       "173    Topic8   226.337402        vraiment   227.258575   3.1892  -4.0712\n",
       "682    Topic8   222.926605     industriels   223.847702   3.1891  -4.0863\n",
       "1478   Topic8   210.637299         futures   211.557861   3.1889  -4.1430\n",
       "166    Topic8   188.587326           futur   189.508286   3.1884  -4.2536\n",
       "1420   Topic8   184.933167        fonction   185.854095   3.1883  -4.2732\n",
       "2241   Topic8   176.048950        publique   176.969940   3.1880  -4.3224\n",
       "441    Topic8   150.814880          global   151.736176   3.1872  -4.4771\n",
       "1944   Topic8   145.179672        repenser   146.101028   3.1869  -4.5152\n",
       "630    Topic8   140.777435           enfin   141.698837   3.1867  -4.5460\n",
       "2367   Topic8   133.018906          réelle   133.939941   3.1863  -4.6027\n",
       "369    Topic8   132.199326            zéro   133.120392   3.1863  -4.6089\n",
       "1357   Topic8   130.309631  administration   131.233109   3.1862  -4.6233\n",
       "2236   Topic8   126.188385       organiser   127.110405   3.1860  -4.6554\n",
       "738    Topic8   117.244514     massivement   118.165329   3.1854  -4.7289\n",
       "1524   Topic8   106.354515            voir   107.275627   3.1846  -4.8264\n",
       "2922   Topic8   101.788956            sein   102.717941   3.1842  -4.8703\n",
       "3679   Topic8    98.881721       autoroute    99.803543   3.1840  -4.8993\n",
       "1842   Topic8    95.991310        question    96.912369   3.1837  -4.9289\n",
       "946    Topic8    94.772102      participer    95.694023   3.1836  -4.9417\n",
       "2276   Topic8    93.133560            fois    94.056526   3.1834  -4.9591\n",
       "\n",
       "[270 rows x 6 columns], token_table=      Topic      Freq            Term\n",
       "term                                 \n",
       "883       7  0.998240       accélérer\n",
       "890       6  0.998414         actions\n",
       "1357      8  0.990604  administration\n",
       "1937      3  0.997640         affaire\n",
       "488       2  0.998780            agir\n",
       "89        1  0.998600     agriculture\n",
       "679       8  0.997128           aider\n",
       "195       5  0.996654           aides\n",
       "4         5  0.999269             air\n",
       "415       2  0.997560             ais\n",
       "412       4  0.996455         animale\n",
       "617       5  0.998141         animaux\n",
       "690       4  0.997866         arrêter\n",
       "3679      8  0.991949       autoroute\n",
       "122       6  0.997652          autres\n",
       "466       2  0.999204          avenir\n",
       "69        4  0.997717               b\n",
       "90        3  0.999603             bio\n",
       "381       2  0.998795    biodiversité\n",
       "99        4  0.999361             bon\n",
       "97        2  0.998328         camions\n",
       "438       3  0.997993        campagne\n",
       "66        1  0.998732         carbone\n",
       "390       7  0.995556       carburant\n",
       "456       1  0.999170          chacun\n",
       "440       2  0.998827      changement\n",
       "320       1  0.999570         changer\n",
       "1106      6  0.997831          chaque\n",
       "398       6  0.997582          chasse\n",
       "712       5  0.995898        circuits\n",
       "...     ...       ...             ...\n",
       "1071      2  0.998488             tri\n",
       "129       6  0.998734             tva\n",
       "256       2  0.999339         urgence\n",
       "263       7  0.995970     utilisation\n",
       "146       3  0.996389        utiliser\n",
       "410       6  0.999218            vers\n",
       "168       4  0.999191             vie\n",
       "1055      2  0.998630           ville\n",
       "191       3  0.998696          villes\n",
       "687       5  0.994500          vision\n",
       "356       3  0.998407           vivre\n",
       "1524      8  0.988109            voir\n",
       "784       1  0.999140         voiture\n",
       "801       1  0.999136        voitures\n",
       "173       8  0.994462        vraiment\n",
       "710       5  0.995793           vrais\n",
       "40        1  0.998732       véhicules\n",
       "600       7  0.997685       véritable\n",
       "369       8  0.991584            zéro\n",
       "58        3  0.999731        écologie\n",
       "1         1  0.999893      écologique\n",
       "171       4  0.999120     écologiques\n",
       "1044      8  0.997995        économie\n",
       "702       1  0.998289      économique\n",
       "1264      4  0.995474       éducation\n",
       "796       4  0.999072     électricité\n",
       "75        5  0.998222      électrique\n",
       "250       3  0.998998         énergie\n",
       "150       3  0.999319        énergies\n",
       "261       1  0.999114     énergétique\n",
       "\n",
       "[240 rows x 3 columns], R=30, lambda_step=0.01, plot_opts={'xlab': 'PC1', 'ylab': 'PC2'}, topic_order=[8, 3, 4, 1, 5, 2, 6, 7])"
      ]
     },
     "execution_count": 15,
     "metadata": {},
     "output_type": "execute_result"
    }
   ],
   "source": [
    "pyLDAvis.enable_notebook()\n",
    "vis = pyLDAvis.gensim.prepare(lda_model, corpus, id2word)\n",
    "vis"
   ]
  },
  {
   "cell_type": "code",
   "execution_count": 9,
   "metadata": {
    "colab": {
     "base_uri": "https://localhost:8080/",
     "height": 629
    },
    "colab_type": "code",
    "id": "7eWRmZkO3nZo",
    "outputId": "543a5aaa-572f-43a8-da0f-f132737cb7de"
   },
   "outputs": [],
   "source": [
    "# you may load it back again\n",
    "with open('1er_lda_model_title' , 'rb') as pickle_file:\n",
    "    lda_model_title = pickle.load(pickle_file)"
   ]
  },
  {
   "cell_type": "markdown",
   "metadata": {
    "colab_type": "text",
    "id": "RlJHcC793KHV"
   },
   "source": [
    "### Build Model with lemm data"
   ]
  },
  {
   "cell_type": "code",
   "execution_count": 16,
   "metadata": {
    "colab": {
     "base_uri": "https://localhost:8080/",
     "height": 194
    },
    "colab_type": "code",
    "id": "7Jj4wb2Zey7q",
    "outputId": "3a4a42a8-30cf-4e50-efe3-eacb327c7f8d"
   },
   "outputs": [
    {
     "data": {
      "text/plain": [
       "['transition',\n",
       " 'surpopulation',\n",
       " 'climat',\n",
       " 'pollution air eau',\n",
       " 'economie ecologie',\n",
       " 'égalité traitement',\n",
       " 'gardien terre passeur enfant',\n",
       " 'pollution',\n",
       " 'compagnie aviation',\n",
       " 'ferroutage']"
      ]
     },
     "execution_count": 16,
     "metadata": {},
     "output_type": "execute_result"
    }
   ],
   "source": [
    "lemm_title=lemm_data['title']\n",
    "list(lemm_title[:10])"
   ]
  },
  {
   "cell_type": "code",
   "execution_count": 17,
   "metadata": {
    "colab": {
     "base_uri": "https://localhost:8080/",
     "height": 34
    },
    "colab_type": "code",
    "id": "j_HVQYLge7tI",
    "outputId": "6112ddb1-64a8-42ae-cca2-cc878cbe86d0"
   },
   "outputs": [
    {
     "data": {
      "text/plain": [
       "0"
      ]
     },
     "execution_count": 17,
     "metadata": {},
     "output_type": "execute_result"
    }
   ],
   "source": [
    "lemm_title.fillna('',inplace=True)\n",
    "count_nan = len(lemm_title) - lemm_title.count()\n",
    "count_nan"
   ]
  },
  {
   "cell_type": "code",
   "execution_count": 19,
   "metadata": {},
   "outputs": [
    {
     "name": "stdout",
     "output_type": "stream",
     "text": [
      "[(0,\n",
      "  '0.117*\"écologie\" + 0.048*\"énergie\" + 0.030*\"climat\" + 0.021*\"développement\" '\n",
      "  '+ 0.018*\"action\" + 0.018*\"production\" + 0.017*\"ville\" + 0.014*\"conscience\" '\n",
      "  '+ 0.013*\"santé\" + 0.013*\"temps\"'),\n",
      " (1,\n",
      "  '0.096*\"environnement\" + 0.080*\"transport\" + 0.077*\"ecologie\" + '\n",
      "  '0.033*\"enfant\" + 0.024*\"avenir\" + 0.024*\"véhicule\" + 0.023*\"terre\" + '\n",
      "  '0.022*\"économie\" + 0.022*\"eau\" + 0.020*\"carbone\"'),\n",
      " (2,\n",
      "  '0.064*\"pollution\" + 0.031*\"consommation\" + 0.030*\"pollueur\" + '\n",
      "  '0.029*\"france\" + 0.022*\"monde\" + 0.022*\"biodiversité\" + 0.021*\"produit\" + '\n",
      "  '0.020*\"solution\" + 0.020*\"déchet\" + 0.019*\"proposition\"'),\n",
      " (3,\n",
      "  '0.178*\"transition\" + 0.047*\"urgence\" + 0.036*\"vie\" + 0.032*\"air\" + '\n",
      "  '0.029*\"priorité\" + 0.025*\"agriculture\" + 0.021*\"energie\" + '\n",
      "  '0.014*\"ferroutage\" + 0.014*\"mesure\" + 0.012*\"plan\"')]\n",
      "\n",
      "Perplexity:  -7.0423603510553985\n",
      "\n",
      "Coherence Score:  0.4411955926299005\n"
     ]
    }
   ],
   "source": [
    "data = list(lemm_title)\n",
    "lda_model2, corpus, id2word = get_topics(data, n_topics=4)"
   ]
  },
  {
   "cell_type": "code",
   "execution_count": 20,
   "metadata": {
    "colab": {
     "base_uri": "https://localhost:8080/",
     "height": 1022
    },
    "colab_type": "code",
    "id": "K1pJPh_hhkoE",
    "outputId": "32dc2710-a837-4ea3-bc0d-1c201c813f3e"
   },
   "outputs": [
    {
     "name": "stderr",
     "output_type": "stream",
     "text": [
      "/Users/siwarabbes/anaconda3/lib/python3.7/site-packages/pyLDAvis/_prepare.py:257: FutureWarning: Sorting because non-concatenation axis is not aligned. A future version\n",
      "of pandas will change to not sort by default.\n",
      "\n",
      "To accept the future behavior, pass 'sort=False'.\n",
      "\n",
      "To retain the current behavior and silence the warning, pass 'sort=True'.\n",
      "\n",
      "  return pd.concat([default_term_info] + list(topic_dfs))\n"
     ]
    },
    {
     "data": {
      "text/html": [
       "\n",
       "<link rel=\"stylesheet\" type=\"text/css\" href=\"https://cdn.rawgit.com/bmabey/pyLDAvis/files/ldavis.v1.0.0.css\">\n",
       "\n",
       "\n",
       "<div id=\"ldavis_el45671122320513608473248967\"></div>\n",
       "<script type=\"text/javascript\">\n",
       "\n",
       "var ldavis_el45671122320513608473248967_data = {\"mdsDat\": {\"x\": [0.3527889666900025, -0.10936754170636559, -0.1224969217925874, -0.1209245031910495], \"y\": [-0.0019590853373483478, 0.039734120140463756, -0.298164506829619, 0.2603894720265036], \"topics\": [1, 2, 3, 4], \"cluster\": [1, 1, 1, 1], \"Freq\": [29.005983352661133, 24.482845306396484, 24.034944534301758, 22.476226806640625]}, \"tinfo\": {\"Category\": [\"Default\", \"Default\", \"Default\", \"Default\", \"Default\", \"Default\", \"Default\", \"Default\", \"Default\", \"Default\", \"Default\", \"Default\", \"Default\", \"Default\", \"Default\", \"Default\", \"Default\", \"Default\", \"Default\", \"Default\", \"Default\", \"Default\", \"Default\", \"Default\", \"Default\", \"Default\", \"Default\", \"Default\", \"Default\", \"Default\", \"Topic1\", \"Topic1\", \"Topic1\", \"Topic1\", \"Topic1\", \"Topic1\", \"Topic1\", \"Topic1\", \"Topic1\", \"Topic1\", \"Topic1\", \"Topic1\", \"Topic1\", \"Topic1\", \"Topic1\", \"Topic1\", \"Topic1\", \"Topic1\", \"Topic1\", \"Topic1\", \"Topic1\", \"Topic1\", \"Topic1\", \"Topic1\", \"Topic1\", \"Topic1\", \"Topic1\", \"Topic1\", \"Topic1\", \"Topic1\", \"Topic2\", \"Topic2\", \"Topic2\", \"Topic2\", \"Topic2\", \"Topic2\", \"Topic2\", \"Topic2\", \"Topic2\", \"Topic2\", \"Topic2\", \"Topic2\", \"Topic2\", \"Topic2\", \"Topic2\", \"Topic2\", \"Topic2\", \"Topic2\", \"Topic2\", \"Topic2\", \"Topic2\", \"Topic2\", \"Topic2\", \"Topic2\", \"Topic2\", \"Topic2\", \"Topic2\", \"Topic2\", \"Topic2\", \"Topic2\", \"Topic3\", \"Topic3\", \"Topic3\", \"Topic3\", \"Topic3\", \"Topic3\", \"Topic3\", \"Topic3\", \"Topic3\", \"Topic3\", \"Topic3\", \"Topic3\", \"Topic3\", \"Topic3\", \"Topic3\", \"Topic3\", \"Topic3\", \"Topic3\", \"Topic3\", \"Topic3\", \"Topic3\", \"Topic3\", \"Topic3\", \"Topic3\", \"Topic3\", \"Topic3\", \"Topic3\", \"Topic3\", \"Topic3\", \"Topic3\", \"Topic4\", \"Topic4\", \"Topic4\", \"Topic4\", \"Topic4\", \"Topic4\", \"Topic4\", \"Topic4\", \"Topic4\", \"Topic4\", \"Topic4\", \"Topic4\", \"Topic4\", \"Topic4\", \"Topic4\", \"Topic4\", \"Topic4\", \"Topic4\", \"Topic4\", \"Topic4\", \"Topic4\", \"Topic4\", \"Topic4\", \"Topic4\", \"Topic4\", \"Topic4\", \"Topic4\", \"Topic4\", \"Topic4\", \"Topic4\"], \"Freq\": [6248.0, 3756.0, 3283.0, 2764.0, 2630.0, 2659.0, 1548.0, 1635.0, 1243.0, 1143.0, 1131.0, 1266.0, 1231.0, 1214.0, 966.0, 1001.0, 891.0, 837.0, 813.0, 909.0, 786.0, 900.0, 773.0, 887.0, 768.0, 741.0, 829.0, 828.0, 695.0, 662.0, 2659.177490234375, 1266.0850830078125, 1230.640869140625, 1213.9874267578125, 899.8017578125, 908.4047241210938, 886.853271484375, 829.1906127929688, 827.3895874023438, 773.2808227539062, 769.5266723632812, 732.2981567382812, 591.3710327148438, 572.9817504882812, 567.5208740234375, 537.7872924804688, 458.3703308105469, 416.9981689453125, 409.501953125, 389.00244140625, 389.3759765625, 385.2514953613281, 363.46722412109375, 360.86883544921875, 345.24664306640625, 355.5799865722656, 347.7306823730469, 330.45880126953125, 334.3002014160156, 303.804931640625, 6247.5078125, 1634.9547119140625, 1242.847900390625, 1130.5513916015625, 1000.5164184570312, 890.455810546875, 740.38720703125, 494.0882263183594, 491.6178894042969, 425.23760986328125, 414.5562744140625, 409.4501647949219, 412.22491455078125, 400.9465637207031, 374.3126220703125, 352.5325622558594, 347.98553466796875, 311.0411376953125, 292.3192138671875, 288.9797058105469, 287.4962463378906, 250.77919006347656, 229.04763793945312, 216.55516052246094, 235.4256134033203, 223.70925903320312, 217.6094970703125, 205.50086975097656, 207.2374725341797, 194.7864990234375, 3282.561279296875, 2763.944580078125, 2629.307373046875, 1142.2286376953125, 836.8378295898438, 812.4468994140625, 785.5533447265625, 772.7770385742188, 768.0983276367188, 694.88427734375, 567.2517700195312, 465.1455993652344, 462.4248046875, 430.8196105957031, 422.8283386230469, 360.5934143066406, 307.1051025390625, 299.18646240234375, 300.65570068359375, 292.9215393066406, 288.9027404785156, 258.8576965332031, 262.36590576171875, 257.8601989746094, 226.36415100097656, 218.1384735107422, 207.535888671875, 209.4366912841797, 209.33583068847656, 207.26193237304688, 3755.31005859375, 1547.4638671875, 966.0513305664062, 662.2103881835938, 583.063232421875, 567.793212890625, 556.6343383789062, 451.22283935546875, 427.3354187011719, 430.0939025878906, 419.5694274902344, 407.5086975097656, 410.6978759765625, 380.7117919921875, 367.6801452636719, 354.73284912109375, 350.971923828125, 351.2012939453125, 362.5000305175781, 316.28131103515625, 300.2892150878906, 280.0275573730469, 277.10003662109375, 272.7821350097656, 259.2015686035156, 248.84996032714844, 246.17645263671875, 235.68333435058594, 226.99179077148438, 222.4464874267578], \"Term\": [\"transition\", \"\\u00e9cologie\", \"environnement\", \"transport\", \"ecologie\", \"pollution\", \"\\u00e9nergie\", \"urgence\", \"vie\", \"enfant\", \"air\", \"consommation\", \"pollueur\", \"france\", \"climat\", \"priorit\\u00e9\", \"agriculture\", \"avenir\", \"v\\u00e9hicule\", \"monde\", \"terre\", \"biodiversit\\u00e9\", \"\\u00e9conomie\", \"produit\", \"eau\", \"energie\", \"solution\", \"d\\u00e9chet\", \"carbone\", \"d\\u00e9veloppement\", \"pollution\", \"consommation\", \"pollueur\", \"france\", \"biodiversit\\u00e9\", \"monde\", \"produit\", \"solution\", \"d\\u00e9chet\", \"proposition\", \"contribution\", \"protection\", \"sens\", \"entreprise\", \"nature\", \"voiture\", \"niveau\", \"gaspillage\", \"pays\", \"exemple\", \"respect\", \"isolation\", \"\\u00e9tat\", \"recherche\", \"place\", \"responsable\", \"id\\u00e9e\", \"sauvon\", \"ressource\", \"t\\u00e9l\\u00e9travail\", \"transition\", \"urgence\", \"vie\", \"air\", \"priorit\\u00e9\", \"agriculture\", \"energie\", \"ferroutage\", \"mesure\", \"plan\", \"projet\", \"camion\", \"recyclage\", \"responsabilit\\u00e9\", \"probl\\u00e8me\", \"qualit\\u00e9\", \"g\\u00e9n\\u00e9ration\", \"mode\", \"compte\", \"hydrog\\u00e8ne\", \"financement\", \"construction\", \"circuit\", \"kilom\\u00e8tre\", \"oui\", \"europe\", \"nombre\", \"mobilit\\u00e9\", \"face\", \"route\", \"environnement\", \"transport\", \"ecologie\", \"enfant\", \"avenir\", \"v\\u00e9hicule\", \"terre\", \"\\u00e9conomie\", \"eau\", \"carbone\", \"heure\", \"fiscalit\\u00e9\", \"service\", \"tva\", \"fin\", \"an\", \"comportement\", \"croissance\", \"homme\", \"particulier\", \"lobby\", \"\\u00e9ducation\", \"\\u00e9mission\", \"taxer\", \"investissement\", \"population\", \"etat\", \"achat\", \"mati\\u00e8re\", \"d\\u00e9croissance\", \"\\u00e9cologie\", \"\\u00e9nergie\", \"climat\", \"d\\u00e9veloppement\", \"action\", \"production\", \"ville\", \"conscience\", \"temps\", \"sant\\u00e9\", \"prise\", \"soci\\u00e9t\\u00e9\", \"taxation\", \"\\u00e9lectricit\\u00e9\", \"mod\\u00e8le\", \"affaire\", \"b\", \"citoyen\", \"d\\u00e9cision\", \"emballage\", \"education\", \"d\\u00e9bat\", \"economie\", \"prix\", \"vert\", \"pesticide\", \"campagne\", \"effort\", \"aide\", \"lutte\"], \"Total\": [6248.0, 3756.0, 3283.0, 2764.0, 2630.0, 2659.0, 1548.0, 1635.0, 1243.0, 1143.0, 1131.0, 1266.0, 1231.0, 1214.0, 966.0, 1001.0, 891.0, 837.0, 813.0, 909.0, 786.0, 900.0, 773.0, 887.0, 768.0, 741.0, 829.0, 828.0, 695.0, 662.0, 2659.96435546875, 1266.8798828125, 1231.4261474609375, 1214.773193359375, 900.5836181640625, 909.20166015625, 887.6397094726562, 829.9779663085938, 828.1775512695312, 774.0684204101562, 770.3106079101562, 733.080810546875, 592.1492309570312, 573.7578125, 568.30908203125, 538.5638427734375, 459.1585388183594, 417.7958068847656, 410.2867126464844, 389.7861633300781, 390.16064453125, 386.0613708496094, 364.2478942871094, 361.67138671875, 346.01873779296875, 356.3806457519531, 348.5183410644531, 331.2462463378906, 335.101806640625, 304.6075439453125, 6248.27783203125, 1635.722900390625, 1243.6251220703125, 1131.3389892578125, 1001.2914428710938, 891.2236938476562, 741.1549682617188, 494.85906982421875, 492.3907470703125, 426.00146484375, 415.3270263671875, 410.22222900390625, 413.0047607421875, 401.7231750488281, 375.0907897949219, 353.30426025390625, 348.76605224609375, 311.80780029296875, 293.0939636230469, 289.76312255859375, 288.2768859863281, 251.5682830810547, 229.826416015625, 217.3055419921875, 236.24639892578125, 224.4960479736328, 218.3939666748047, 206.27081298828125, 208.01513671875, 195.569091796875, 3283.343017578125, 2764.729248046875, 2630.089599609375, 1143.011474609375, 837.6199951171875, 813.2274169921875, 786.3394165039062, 773.5618896484375, 768.8820190429688, 695.6688232421875, 568.033203125, 465.92059326171875, 463.2253112792969, 431.6016845703125, 423.60888671875, 361.3941650390625, 307.89813232421875, 299.96868896484375, 301.45086669921875, 293.7075500488281, 289.68414306640625, 259.64801025390625, 263.1729431152344, 258.6680908203125, 227.1409149169922, 218.92140197753906, 208.29884338378906, 210.21609497070312, 210.12063598632812, 208.04920959472656, 3756.100830078125, 1548.253173828125, 966.83642578125, 662.99853515625, 583.8424072265625, 568.5712280273438, 557.4163208007812, 452.0099182128906, 428.12939453125, 430.9029235839844, 420.3706970214844, 408.29913330078125, 411.5076904296875, 381.5235290527344, 368.4678039550781, 355.52008056640625, 351.7703857421875, 352.0042419433594, 363.3310852050781, 317.0513000488281, 301.1023864746094, 280.8169250488281, 277.904052734375, 273.578369140625, 259.99383544921875, 249.62583923339844, 246.98193359375, 236.45887756347656, 227.77011108398438, 223.2211456298828], \"loglift\": [30.0, 29.0, 28.0, 27.0, 26.0, 25.0, 24.0, 23.0, 22.0, 21.0, 20.0, 19.0, 18.0, 17.0, 16.0, 15.0, 14.0, 13.0, 12.0, 11.0, 10.0, 9.0, 8.0, 7.0, 6.0, 5.0, 4.0, 3.0, 2.0, 1.0, 1.2374000549316406, 1.2369999885559082, 1.2369999885559082, 1.2369999885559082, 1.236799955368042, 1.236799955368042, 1.236799955368042, 1.2367000579833984, 1.2367000579833984, 1.2366000413894653, 1.2366000413894653, 1.2366000413894653, 1.2364000082015991, 1.236299991607666, 1.236299991607666, 1.236199975013733, 1.2359000444412231, 1.23580002784729, 1.23580002784729, 1.235700011253357, 1.235700011253357, 1.2355999946594238, 1.2354999780654907, 1.2353999614715576, 1.2353999614715576, 1.2353999614715576, 1.2353999614715576, 1.2352999448776245, 1.2352999448776245, 1.2350000143051147, 1.407099962234497, 1.4067000150680542, 1.406599998474121, 1.406499981880188, 1.4063999652862549, 1.4062999486923218, 1.4062000513076782, 1.4055999517440796, 1.4055999517440796, 1.405400037765503, 1.4053000211715698, 1.4053000211715698, 1.4053000211715698, 1.4053000211715698, 1.4050999879837036, 1.4049999713897705, 1.4049999713897705, 1.4047000408172607, 1.4046000242233276, 1.4045000076293945, 1.4045000076293945, 1.404099941253662, 1.4038000106811523, 1.4036999940872192, 1.4036999940872192, 1.4036999940872192, 1.4035999774932861, 1.403499960899353, 1.403499960899353, 1.4032000303268433, 1.4254000186920166, 1.4254000186920166, 1.4254000186920166, 1.4249999523162842, 1.4247000217437744, 1.4247000217437744, 1.4247000217437744, 1.4246000051498413, 1.4246000051498413, 1.4244999885559082, 1.424299955368042, 1.4240000247955322, 1.4239000082015991, 1.423799991607666, 1.423799991607666, 1.4234000444412231, 1.4230999946594238, 1.4230999946594238, 1.4229999780654907, 1.4229999780654907, 1.4229999780654907, 1.4226000308990479, 1.4226000308990479, 1.4225000143051147, 1.4221999645233154, 1.4220999479293823, 1.4220000505447388, 1.4219000339508057, 1.4219000339508057, 1.4219000339508057, 1.4924999475479126, 1.4922000169754028, 1.4918999671936035, 1.4915000200271606, 1.4914000034332275, 1.4912999868392944, 1.4912999868392944, 1.4910000562667847, 1.4909000396728516, 1.4908000230789185, 1.4908000230789185, 1.4908000230789185, 1.4907000064849854, 1.4905999898910522, 1.4905999898910522, 1.4904999732971191, 1.490399956703186, 1.490399956703186, 1.490399956703186, 1.4903000593185425, 1.4900000095367432, 1.48989999294281, 1.489799976348877, 1.489799976348877, 1.4896999597549438, 1.4895999431610107, 1.489400029182434, 1.489400029182434, 1.489300012588501, 1.4891999959945679], \"logprob\": [30.0, 29.0, 28.0, 27.0, 26.0, 25.0, 24.0, 23.0, 22.0, 21.0, 20.0, 19.0, 18.0, 17.0, 16.0, 15.0, 14.0, 13.0, 12.0, 11.0, 10.0, 9.0, 8.0, 7.0, 6.0, 5.0, 4.0, 3.0, 2.0, 1.0, -2.7469000816345215, -3.489000082015991, -3.517400026321411, -3.531100034713745, -3.8304998874664307, -3.821000099182129, -3.8450000286102295, -3.9123001098632812, -3.914400100708008, -3.982100009918213, -3.9869000911712646, -4.036499977111816, -4.25029993057251, -4.281899929046631, -4.291399955749512, -4.345300197601318, -4.505000114440918, -4.599599838256836, -4.617800235748291, -4.669099807739258, -4.6682000160217285, -4.678800106048584, -4.736999988555908, -4.744200229644775, -4.78849983215332, -4.758999824523926, -4.781300067901611, -4.832200050354004, -4.820700168609619, -4.916299819946289, -1.7232999801635742, -3.063800096511841, -3.3380000591278076, -3.4326999187469482, -3.5548999309539795, -3.6714999675750732, -3.8559999465942383, -4.260499954223633, -4.265500068664551, -4.4105000495910645, -4.435999870300293, -4.448400020599365, -4.4415998458862305, -4.469399929046631, -4.538099765777588, -4.5980000495910645, -4.611000061035156, -4.723299980163574, -4.785299777984619, -4.796800136566162, -4.802000045776367, -4.938600063323975, -5.029300212860107, -5.085299968719482, -5.001800060272217, -5.052800178527832, -5.08050012588501, -5.137700080871582, -5.129300117492676, -5.191299915313721, -2.348299980163574, -2.5202999114990234, -2.5703001022338867, -3.4040000438690186, -3.715100049972534, -3.7446999549865723, -3.7783000469207764, -3.7946999073028564, -3.800800085067749, -3.9010000228881836, -4.103899955749512, -4.3024001121521, -4.308199882507324, -4.379000186920166, -4.397799968719482, -4.557000160217285, -4.71750020980835, -4.74370002746582, -4.738800048828125, -4.764800071716309, -4.778600215911865, -4.888400077819824, -4.875, -4.892300128936768, -5.022600173950195, -5.059599876403809, -5.109399795532227, -5.100299835205078, -5.100800037384033, -5.1107001304626465, -2.1468000411987305, -3.0332999229431152, -3.504499912261963, -3.8821001052856445, -4.009399890899658, -4.035900115966797, -4.055799961090088, -4.265699863433838, -4.320099830627441, -4.313700199127197, -4.338399887084961, -4.367599964141846, -4.359799861907959, -4.4355998039245605, -4.4704999923706055, -4.50629997253418, -4.517000198364258, -4.516300201416016, -4.4847002029418945, -4.620999813079834, -4.672900199890137, -4.742800235748291, -4.753300189971924, -4.769000053405762, -4.820099830627441, -4.860799789428711, -4.871600151062012, -4.915200233459473, -4.9527997970581055, -4.9730000495910645]}, \"token.table\": {\"Topic\": [3, 4, 4, 2, 4, 2, 3, 3, 4, 1, 2, 4, 3, 2, 4, 4, 3, 2, 4, 1, 2, 1, 3, 4, 1, 4, 3, 4, 3, 3, 4, 4, 4, 4, 2, 3, 1, 3, 3, 2, 1, 2, 2, 3, 2, 3, 1, 1, 2, 3, 3, 2, 1, 3, 1, 2, 3, 4, 3, 2, 2, 2, 4, 1, 1, 1, 2, 2, 3, 1, 4, 1, 2, 1, 1, 3, 2, 4, 4, 2, 4, 1, 2, 1, 1, 2, 1, 2, 1, 2, 1, 1, 2, 4, 1, 1, 3, 4, 1, 4, 3, 4, 3, 2, 3, 3, 1, 2, 4, 2, 4, 1, 3, 4, 3, 3, 4, 3, 4, 1], \"Freq\": [0.9942150115966797, 0.9985571503639221, 0.9985371232032776, 0.9986269474029541, 0.996618926525116, 0.9997003674507141, 0.9989092946052551, 0.9992598295211792, 0.9978099465370178, 0.999351978302002, 0.9970205426216125, 0.9960242509841919, 0.999038577079773, 0.9964041709899902, 0.9971470832824707, 0.99913489818573, 0.9970830082893372, 0.996267557144165, 0.9977657198905945, 0.9993054866790771, 0.9977410435676575, 0.9995967745780945, 0.9967706799507141, 0.9970908761024475, 0.9985781311988831, 0.9990887641906738, 0.994956910610199, 0.9984939098358154, 0.9988528490066528, 0.9995856881141663, 0.9967468976974487, 0.9963388442993164, 0.9980593919754028, 0.9966841340065002, 0.9984416365623474, 0.9991150498390198, 0.9986792206764221, 0.9998955130577087, 0.9985653162002563, 0.9977903962135315, 0.9979830980300903, 0.9951198697090149, 0.9982640147209167, 0.9985626339912415, 0.9955706000328064, 0.9980241656303406, 0.9993634819984436, 0.9980952143669128, 0.9978035092353821, 0.9981811046600342, 0.9985043406486511, 0.9973663687705994, 0.9985127449035645, 0.9949770569801331, 0.9972507953643799, 0.9985939264297485, 0.9976382851600647, 0.9945294260978699, 0.9946666955947876, 0.9992064237594604, 0.9986870884895325, 0.9974092841148376, 0.9987304210662842, 0.9986783266067505, 0.9994561672210693, 0.9974768161773682, 0.9981960654258728, 0.9947241544723511, 0.997590959072113, 0.9993011951446533, 0.9974929094314575, 0.9970558285713196, 0.9976491332054138, 0.9996539354324341, 0.9996374845504761, 0.9957911968231201, 0.9997089505195618, 0.9991181492805481, 0.9978858828544617, 0.9970919489860535, 0.998995304107666, 0.9992793202400208, 0.9992126226425171, 0.9986197352409363, 0.9985256791114807, 0.9991388320922852, 0.9981436729431152, 0.9975671768188477, 0.997025191783905, 0.9981998205184937, 0.998931884765625, 0.9967120289802551, 0.9970901012420654, 0.9979045987129211, 0.9962376952171326, 0.9980592131614685, 0.9973548054695129, 0.9992673397064209, 0.9988216757774353, 0.9987662434577942, 0.9974172115325928, 0.9973620176315308, 0.9995683431625366, 0.9999555349349976, 0.9997362494468689, 0.9986059069633484, 0.9980055093765259, 0.9995580315589905, 0.9961774945259094, 0.9994973540306091, 0.9992531538009644, 0.9989530444145203, 0.9984906911849976, 0.9997069239616394, 0.9992736577987671, 0.9975042939186096, 0.998627781867981, 0.9955430626869202, 0.9991905689239502, 0.9965740442276001], \"Term\": [\"achat\", \"action\", \"affaire\", \"agriculture\", \"aide\", \"air\", \"an\", \"avenir\", \"b\", \"biodiversit\\u00e9\", \"camion\", \"campagne\", \"carbone\", \"circuit\", \"citoyen\", \"climat\", \"comportement\", \"compte\", \"conscience\", \"consommation\", \"construction\", \"contribution\", \"croissance\", \"d\\u00e9bat\", \"d\\u00e9chet\", \"d\\u00e9cision\", \"d\\u00e9croissance\", \"d\\u00e9veloppement\", \"eau\", \"ecologie\", \"economie\", \"education\", \"effort\", \"emballage\", \"energie\", \"enfant\", \"entreprise\", \"environnement\", \"etat\", \"europe\", \"exemple\", \"face\", \"ferroutage\", \"fin\", \"financement\", \"fiscalit\\u00e9\", \"france\", \"gaspillage\", \"g\\u00e9n\\u00e9ration\", \"heure\", \"homme\", \"hydrog\\u00e8ne\", \"id\\u00e9e\", \"investissement\", \"isolation\", \"kilom\\u00e8tre\", \"lobby\", \"lutte\", \"mati\\u00e8re\", \"mesure\", \"mobilit\\u00e9\", \"mode\", \"mod\\u00e8le\", \"monde\", \"nature\", \"niveau\", \"nombre\", \"oui\", \"particulier\", \"pays\", \"pesticide\", \"place\", \"plan\", \"pollueur\", \"pollution\", \"population\", \"priorit\\u00e9\", \"prise\", \"prix\", \"probl\\u00e8me\", \"production\", \"produit\", \"projet\", \"proposition\", \"protection\", \"qualit\\u00e9\", \"recherche\", \"recyclage\", \"respect\", \"responsabilit\\u00e9\", \"responsable\", \"ressource\", \"route\", \"sant\\u00e9\", \"sauvon\", \"sens\", \"service\", \"soci\\u00e9t\\u00e9\", \"solution\", \"taxation\", \"taxer\", \"temps\", \"terre\", \"transition\", \"transport\", \"tva\", \"t\\u00e9l\\u00e9travail\", \"urgence\", \"vert\", \"vie\", \"ville\", \"voiture\", \"v\\u00e9hicule\", \"\\u00e9cologie\", \"\\u00e9conomie\", \"\\u00e9ducation\", \"\\u00e9lectricit\\u00e9\", \"\\u00e9mission\", \"\\u00e9nergie\", \"\\u00e9tat\"]}, \"R\": 30, \"lambda.step\": 0.01, \"plot.opts\": {\"xlab\": \"PC1\", \"ylab\": \"PC2\"}, \"topic.order\": [3, 4, 2, 1]};\n",
       "\n",
       "function LDAvis_load_lib(url, callback){\n",
       "  var s = document.createElement('script');\n",
       "  s.src = url;\n",
       "  s.async = true;\n",
       "  s.onreadystatechange = s.onload = callback;\n",
       "  s.onerror = function(){console.warn(\"failed to load library \" + url);};\n",
       "  document.getElementsByTagName(\"head\")[0].appendChild(s);\n",
       "}\n",
       "\n",
       "if(typeof(LDAvis) !== \"undefined\"){\n",
       "   // already loaded: just create the visualization\n",
       "   !function(LDAvis){\n",
       "       new LDAvis(\"#\" + \"ldavis_el45671122320513608473248967\", ldavis_el45671122320513608473248967_data);\n",
       "   }(LDAvis);\n",
       "}else if(typeof define === \"function\" && define.amd){\n",
       "   // require.js is available: use it to load d3/LDAvis\n",
       "   require.config({paths: {d3: \"https://cdnjs.cloudflare.com/ajax/libs/d3/3.5.5/d3.min\"}});\n",
       "   require([\"d3\"], function(d3){\n",
       "      window.d3 = d3;\n",
       "      LDAvis_load_lib(\"https://cdn.rawgit.com/bmabey/pyLDAvis/files/ldavis.v1.0.0.js\", function(){\n",
       "        new LDAvis(\"#\" + \"ldavis_el45671122320513608473248967\", ldavis_el45671122320513608473248967_data);\n",
       "      });\n",
       "    });\n",
       "}else{\n",
       "    // require.js not available: dynamically load d3 & LDAvis\n",
       "    LDAvis_load_lib(\"https://cdnjs.cloudflare.com/ajax/libs/d3/3.5.5/d3.min.js\", function(){\n",
       "         LDAvis_load_lib(\"https://cdn.rawgit.com/bmabey/pyLDAvis/files/ldavis.v1.0.0.js\", function(){\n",
       "                 new LDAvis(\"#\" + \"ldavis_el45671122320513608473248967\", ldavis_el45671122320513608473248967_data);\n",
       "            })\n",
       "         });\n",
       "}\n",
       "</script>"
      ],
      "text/plain": [
       "PreparedData(topic_coordinates=              x         y  topics  cluster       Freq\n",
       "topic                                                \n",
       "2      0.352789 -0.001959       1        1  29.005983\n",
       "3     -0.109368  0.039734       2        1  24.482845\n",
       "1     -0.122497 -0.298165       3        1  24.034945\n",
       "0     -0.120925  0.260389       4        1  22.476227, topic_info=     Category         Freq           Term        Total  loglift  logprob\n",
       "term                                                                    \n",
       "0     Default  6248.000000     transition  6248.000000  30.0000  30.0000\n",
       "27    Default  3756.000000       écologie  3756.000000  29.0000  29.0000\n",
       "18    Default  3283.000000  environnement  3283.000000  28.0000  28.0000\n",
       "17    Default  2764.000000      transport  2764.000000  27.0000  27.0000\n",
       "6     Default  2630.000000       ecologie  2630.000000  26.0000  26.0000\n",
       "5     Default  2659.000000      pollution  2659.000000  25.0000  25.0000\n",
       "68    Default  1548.000000        énergie  1548.000000  24.0000  24.0000\n",
       "112   Default  1635.000000        urgence  1635.000000  23.0000  23.0000\n",
       "79    Default  1243.000000            vie  1243.000000  22.0000  22.0000\n",
       "10    Default  1143.000000         enfant  1143.000000  21.0000  21.0000\n",
       "3     Default  1131.000000            air  1131.000000  20.0000  20.0000\n",
       "98    Default  1266.000000   consommation  1266.000000  19.0000  19.0000\n",
       "125   Default  1231.000000       pollueur  1231.000000  18.0000  18.0000\n",
       "58    Default  1214.000000         france  1214.000000  17.0000  17.0000\n",
       "2     Default   966.000000         climat   966.000000  16.0000  16.0000\n",
       "43    Default  1001.000000       priorité  1001.000000  15.0000  15.0000\n",
       "38    Default   891.000000    agriculture   891.000000  14.0000  14.0000\n",
       "194   Default   837.000000         avenir   837.000000  13.0000  13.0000\n",
       "22    Default   813.000000       véhicule   813.000000  12.0000  12.0000\n",
       "192   Default   909.000000          monde   909.000000  11.0000  11.0000\n",
       "13    Default   786.000000          terre   786.000000  10.0000  10.0000\n",
       "162   Default   900.000000   biodiversité   900.000000   9.0000   9.0000\n",
       "416   Default   773.000000       économie   773.000000   8.0000   8.0000\n",
       "264   Default   887.000000        produit   887.000000   7.0000   7.0000\n",
       "4     Default   768.000000            eau   768.000000   6.0000   6.0000\n",
       "89    Default   741.000000        energie   741.000000   5.0000   5.0000\n",
       "155   Default   829.000000       solution   829.000000   4.0000   4.0000\n",
       "157   Default   828.000000         déchet   828.000000   3.0000   3.0000\n",
       "29    Default   695.000000        carbone   695.000000   2.0000   2.0000\n",
       "218   Default   662.000000  développement   662.000000   1.0000   1.0000\n",
       "...       ...          ...            ...          ...      ...      ...\n",
       "27     Topic4  3755.310059       écologie  3756.100830   1.4925  -2.1468\n",
       "68     Topic4  1547.463867        énergie  1548.253174   1.4922  -3.0333\n",
       "2      Topic4   966.051331         climat   966.836426   1.4919  -3.5045\n",
       "218    Topic4   662.210388  développement   662.998535   1.4915  -3.8821\n",
       "359    Topic4   583.063232         action   583.842407   1.4914  -4.0094\n",
       "39     Topic4   567.793213     production   568.571228   1.4913  -4.0359\n",
       "88     Topic4   556.634338          ville   557.416321   1.4913  -4.0558\n",
       "257    Topic4   451.222839     conscience   452.009918   1.4910  -4.2657\n",
       "228    Topic4   427.335419          temps   428.129395   1.4909  -4.3201\n",
       "204    Topic4   430.093903          santé   430.902924   1.4908  -4.3137\n",
       "258    Topic4   419.569427          prise   420.370697   1.4908  -4.3384\n",
       "252    Topic4   407.508698        société   408.299133   1.4908  -4.3676\n",
       "255    Topic4   410.697876       taxation   411.507690   1.4907  -4.3598\n",
       "326    Topic4   380.711792    électricité   381.523529   1.4906  -4.4356\n",
       "381    Topic4   367.680145         modèle   368.467804   1.4906  -4.4705\n",
       "740    Topic4   354.732849        affaire   355.520081   1.4905  -4.5063\n",
       "30     Topic4   350.971924              b   351.770386   1.4904  -4.5170\n",
       "37     Topic4   351.201294        citoyen   352.004242   1.4904  -4.5163\n",
       "242    Topic4   362.500031       décision   363.331085   1.4904  -4.4847\n",
       "113    Topic4   316.281311      emballage   317.051300   1.4903  -4.6210\n",
       "422    Topic4   300.289215      education   301.102386   1.4900  -4.6729\n",
       "251    Topic4   280.027557          débat   280.816925   1.4899  -4.7428\n",
       "7      Topic4   277.100037       economie   277.904053   1.4898  -4.7533\n",
       "203    Topic4   272.782135           prix   273.578369   1.4898  -4.7690\n",
       "692    Topic4   259.201569           vert   259.993835   1.4897  -4.8201\n",
       "198    Topic4   248.849960      pesticide   249.625839   1.4896  -4.8608\n",
       "332    Topic4   246.176453       campagne   246.981934   1.4894  -4.8716\n",
       "684    Topic4   235.683334         effort   236.458878   1.4894  -4.9152\n",
       "374    Topic4   226.991791           aide   227.770111   1.4893  -4.9528\n",
       "363    Topic4   222.446487          lutte   223.221146   1.4892  -4.9730\n",
       "\n",
       "[150 rows x 6 columns], token_table=      Topic      Freq           Term\n",
       "term                                \n",
       "92        3  0.994215          achat\n",
       "359       4  0.998557         action\n",
       "740       4  0.998537        affaire\n",
       "38        2  0.998627    agriculture\n",
       "374       4  0.996619           aide\n",
       "3         2  0.999700            air\n",
       "25        3  0.998909             an\n",
       "194       3  0.999260         avenir\n",
       "30        4  0.997810              b\n",
       "162       1  0.999352   biodiversité\n",
       "41        2  0.997021         camion\n",
       "332       4  0.996024       campagne\n",
       "29        3  0.999039        carbone\n",
       "854       2  0.996404        circuit\n",
       "37        4  0.997147        citoyen\n",
       "2         4  0.999135         climat\n",
       "241       3  0.997083   comportement\n",
       "663       2  0.996268         compte\n",
       "257       4  0.997766     conscience\n",
       "98        1  0.999305   consommation\n",
       "308       2  0.997741   construction\n",
       "317       1  0.999597   contribution\n",
       "19        3  0.996771     croissance\n",
       "251       4  0.997091          débat\n",
       "157       1  0.998578         déchet\n",
       "242       4  0.999089       décision\n",
       "567       3  0.994957   décroissance\n",
       "218       4  0.998494  développement\n",
       "4         3  0.998853            eau\n",
       "6         3  0.999586       ecologie\n",
       "...     ...       ...            ...\n",
       "100       1  0.998932    responsable\n",
       "128       1  0.996712      ressource\n",
       "305       2  0.997090          route\n",
       "204       4  0.997905          santé\n",
       "474       1  0.996238         sauvon\n",
       "44        1  0.998059           sens\n",
       "338       3  0.997355        service\n",
       "252       4  0.999267        société\n",
       "155       1  0.998822       solution\n",
       "255       4  0.998766       taxation\n",
       "532       3  0.997417          taxer\n",
       "228       4  0.997362          temps\n",
       "13        3  0.999568          terre\n",
       "0         2  0.999956     transition\n",
       "17        3  0.999736      transport\n",
       "57        3  0.998606            tva\n",
       "143       1  0.998006    télétravail\n",
       "112       2  0.999558        urgence\n",
       "692       4  0.996177           vert\n",
       "79        2  0.999497            vie\n",
       "88        4  0.999253          ville\n",
       "322       1  0.998953        voiture\n",
       "22        3  0.998491       véhicule\n",
       "27        4  0.999707       écologie\n",
       "416       3  0.999274       économie\n",
       "491       3  0.997504      éducation\n",
       "326       4  0.998628    électricité\n",
       "683       3  0.995543       émission\n",
       "68        4  0.999191        énergie\n",
       "271       1  0.996574           état\n",
       "\n",
       "[120 rows x 3 columns], R=30, lambda_step=0.01, plot_opts={'xlab': 'PC1', 'ylab': 'PC2'}, topic_order=[3, 4, 2, 1])"
      ]
     },
     "execution_count": 20,
     "metadata": {},
     "output_type": "execute_result"
    }
   ],
   "source": [
    "pyLDAvis.enable_notebook()\n",
    "vis = pyLDAvis.gensim.prepare(lda_model2, corpus, id2word)\n",
    "vis"
   ]
  },
  {
   "cell_type": "markdown",
   "metadata": {},
   "source": [
    "We can notice that lemmatized data give better results since it only keeps nouns which better describe the problems."
   ]
  },
  {
   "cell_type": "markdown",
   "metadata": {
    "colab_type": "text",
    "id": "i9BvCHoSQnIP"
   },
   "source": [
    "## Topic Modeling For Problems column"
   ]
  },
  {
   "cell_type": "code",
   "execution_count": 21,
   "metadata": {
    "colab": {
     "base_uri": "https://localhost:8080/",
     "height": 443
    },
    "colab_type": "code",
    "id": "-GJoQx2FQtPr",
    "outputId": "06e2b7bb-75de-4495-86ae-8df661f5cfec"
   },
   "outputs": [
    {
     "name": "stdout",
     "output_type": "stream",
     "text": [
      "[(0,\n",
      "  '0.022*\"problèmes\" + 0.018*\"importants\" + 0.017*\"déchets\" + 0.016*\"toutes\" + '\n",
      "  '0.015*\"environnement\" + 0.014*\"liés\" + 0.012*\"ressources\" + 0.011*\"autres\" '\n",
      "  '+ 0.009*\"planète\" + 0.007*\"propositions\"'),\n",
      " (1,\n",
      "  '0.428*\"pollution\" + 0.386*\"air\" + 0.010*\"pollutions\" + '\n",
      "  '0.008*\"surconsommation\" + 0.008*\"fois\" + 0.007*\"plastiques\" + '\n",
      "  '0.004*\"énergies\" + 0.004*\"sol\" + 0.003*\"fossiles\" + 0.003*\"agricoles\"'),\n",
      " (2,\n",
      "  '0.029*\"climatique\" + 0.026*\"eau\" + 0.019*\"problème\" + 0.016*\"important\" + '\n",
      "  '0.015*\"ensemble\" + 0.015*\"lié\" + 0.014*\"dérèglement\" + 0.012*\"terre\" + '\n",
      "  '0.011*\"réchauffement\" + 0.010*\"consommation\"'),\n",
      " (3,\n",
      "  '0.242*\"climatiques\" + 0.240*\"dérèglements\" + 0.227*\"sécheresse\" + '\n",
      "  '0.227*\"crue\" + 0.014*\"érosion\" + 0.012*\"littoral\" + 0.000*\"analyser\" + '\n",
      "  '0.000*\"anticipées\" + 0.000*\"intoxications\" + 0.000*\"récurrents\"'),\n",
      " (4,\n",
      "  '0.247*\"biodiversité\" + 0.234*\"disparition\" + 0.231*\"espèces\" + '\n",
      "  '0.221*\"certaines\" + 0.014*\"sols\" + 0.002*\"dechets\" + '\n",
      "  '0.001*\"artificialisation\" + 0.000*\"imperméabilisation\" + 0.000*\"ruralité\" + '\n",
      "  '0.000*\"entrepreneuriat\"')]\n",
      "\n",
      "Perplexity:  -5.5774151512366945\n",
      "\n",
      "Coherence Score:  0.4440060372636803\n"
     ]
    }
   ],
   "source": [
    "cleaned_problems = cleaned_data['problems']\n",
    "cleaned_problems.fillna('',inplace=True)\n",
    "lda_model, corpus, id2word = get_topics(cleaned_problems, n_topics=5)"
   ]
  },
  {
   "cell_type": "code",
   "execution_count": 22,
   "metadata": {
    "colab": {},
    "colab_type": "code",
    "id": "d9WmoGFDAX40"
   },
   "outputs": [
    {
     "name": "stderr",
     "output_type": "stream",
     "text": [
      "/Users/siwarabbes/anaconda3/lib/python3.7/site-packages/pyLDAvis/_prepare.py:257: FutureWarning: Sorting because non-concatenation axis is not aligned. A future version\n",
      "of pandas will change to not sort by default.\n",
      "\n",
      "To accept the future behavior, pass 'sort=False'.\n",
      "\n",
      "To retain the current behavior and silence the warning, pass 'sort=True'.\n",
      "\n",
      "  return pd.concat([default_term_info] + list(topic_dfs))\n"
     ]
    },
    {
     "data": {
      "text/html": [
       "\n",
       "<link rel=\"stylesheet\" type=\"text/css\" href=\"https://cdn.rawgit.com/bmabey/pyLDAvis/files/ldavis.v1.0.0.css\">\n",
       "\n",
       "\n",
       "<div id=\"ldavis_el45671122375632408372837453\"></div>\n",
       "<script type=\"text/javascript\">\n",
       "\n",
       "var ldavis_el45671122375632408372837453_data = {\"mdsDat\": {\"x\": [0.20283223890036925, -0.3564424280206873, 0.20274894564818127, -0.11981723478337741, 0.070678478255514], \"y\": [0.07731874985961534, 0.22418312824621378, 0.07715305301424832, -0.39552437360259, 0.016869442482512594], \"topics\": [1, 2, 3, 4, 5], \"cluster\": [1, 1, 1, 1, 1], \"Freq\": [25.68022346496582, 24.336708068847656, 20.32758903503418, 17.807680130004883, 11.847793579101562]}, \"tinfo\": {\"Category\": [\"Default\", \"Default\", \"Default\", \"Default\", \"Default\", \"Default\", \"Default\", \"Default\", \"Default\", \"Default\", \"Default\", \"Default\", \"Default\", \"Default\", \"Default\", \"Default\", \"Default\", \"Default\", \"Default\", \"Default\", \"Default\", \"Default\", \"Default\", \"Default\", \"Default\", \"Default\", \"Default\", \"Default\", \"Default\", \"Default\", \"Topic1\", \"Topic1\", \"Topic1\", \"Topic1\", \"Topic1\", \"Topic1\", \"Topic1\", \"Topic1\", \"Topic1\", \"Topic1\", \"Topic1\", \"Topic1\", \"Topic1\", \"Topic1\", \"Topic1\", \"Topic1\", \"Topic1\", \"Topic1\", \"Topic1\", \"Topic1\", \"Topic1\", \"Topic1\", \"Topic1\", \"Topic1\", \"Topic1\", \"Topic1\", \"Topic1\", \"Topic1\", \"Topic1\", \"Topic1\", \"Topic1\", \"Topic2\", \"Topic2\", \"Topic2\", \"Topic2\", \"Topic2\", \"Topic2\", \"Topic2\", \"Topic2\", \"Topic2\", \"Topic2\", \"Topic2\", \"Topic2\", \"Topic2\", \"Topic2\", \"Topic2\", \"Topic2\", \"Topic2\", \"Topic2\", \"Topic2\", \"Topic2\", \"Topic2\", \"Topic2\", \"Topic2\", \"Topic2\", \"Topic2\", \"Topic2\", \"Topic2\", \"Topic2\", \"Topic2\", \"Topic2\", \"Topic2\", \"Topic2\", \"Topic2\", \"Topic2\", \"Topic2\", \"Topic2\", \"Topic2\", \"Topic2\", \"Topic2\", \"Topic2\", \"Topic2\", \"Topic2\", \"Topic2\", \"Topic2\", \"Topic2\", \"Topic2\", \"Topic2\", \"Topic2\", \"Topic2\", \"Topic2\", \"Topic2\", \"Topic3\", \"Topic3\", \"Topic3\", \"Topic3\", \"Topic3\", \"Topic3\", \"Topic3\", \"Topic3\", \"Topic3\", \"Topic3\", \"Topic3\", \"Topic3\", \"Topic3\", \"Topic3\", \"Topic3\", \"Topic3\", \"Topic3\", \"Topic3\", \"Topic3\", \"Topic3\", \"Topic3\", \"Topic3\", \"Topic3\", \"Topic3\", \"Topic3\", \"Topic3\", \"Topic3\", \"Topic3\", \"Topic3\", \"Topic3\", \"Topic3\", \"Topic4\", \"Topic4\", \"Topic4\", \"Topic4\", \"Topic4\", \"Topic4\", \"Topic4\", \"Topic4\", \"Topic4\", \"Topic4\", \"Topic4\", \"Topic4\", \"Topic4\", \"Topic4\", \"Topic4\", \"Topic4\", \"Topic4\", \"Topic4\", \"Topic4\", \"Topic4\", \"Topic4\", \"Topic4\", \"Topic4\", \"Topic4\", \"Topic4\", \"Topic4\", \"Topic4\", \"Topic4\", \"Topic4\", \"Topic4\", \"Topic4\", \"Topic4\", \"Topic4\", \"Topic4\", \"Topic4\", \"Topic4\", \"Topic4\", \"Topic4\", \"Topic4\", \"Topic4\", \"Topic4\", \"Topic4\", \"Topic5\", \"Topic5\", \"Topic5\", \"Topic5\", \"Topic5\", \"Topic5\", \"Topic5\", \"Topic5\", \"Topic5\", \"Topic5\", \"Topic5\", \"Topic5\", \"Topic5\", \"Topic5\", \"Topic5\", \"Topic5\", \"Topic5\", \"Topic5\", \"Topic5\", \"Topic5\", \"Topic5\", \"Topic5\", \"Topic5\", \"Topic5\", \"Topic5\", \"Topic5\", \"Topic5\", \"Topic5\", \"Topic5\", \"Topic5\", \"Topic5\"], \"Freq\": [19696.0, 17762.0, 22939.0, 22706.0, 21470.0, 21450.0, 17121.0, 16195.0, 15981.0, 15298.0, 2304.0, 2017.0, 1807.0, 2928.0, 1746.0, 1464.0, 1556.0, 1515.0, 1232.0, 1191.0, 1393.0, 1153.0, 1291.0, 1134.0, 999.0, 1239.0, 1163.0, 985.0, 1088.0, 895.0, 1807.140625, 1745.4404296875, 1555.439697265625, 1514.747802734375, 1392.638671875, 1238.248046875, 1087.4969482421875, 946.1190185546875, 709.9100952148438, 645.5429077148438, 637.0816040039062, 625.03125, 614.93017578125, 580.9083862304688, 573.853515625, 496.5409851074219, 474.3155517578125, 468.532958984375, 466.5809020996094, 463.7828674316406, 464.660888671875, 454.90667724609375, 457.0713806152344, 435.4033203125, 428.5245056152344, 422.70849609375, 413.8640441894531, 405.933837890625, 397.6996154785156, 391.5027160644531, 2191.233154296875, 22938.3203125, 22705.880859375, 21469.603515625, 21449.7890625, 1290.47216796875, 1162.5355224609375, 1.044193983078003, 2.759692668914795, 0.7858696579933167, 1.3039228916168213, 0.23611843585968018, 1.0722612142562866, 1.0722612142562866, 0.4496294856071472, 0.2651440501213074, 1.066804051399231, 0.22739344835281372, 0.2313625067472458, 0.5501353144645691, 0.5500268340110779, 0.43994978070259094, 0.20692169666290283, 0.21581390500068665, 0.42554232478141785, 0.42554232478141785, 0.27016234397888184, 0.19852995872497559, 0.19852995872497559, 0.1983175426721573, 0.1983175426721573, 1.0868655443191528, 0.3101814389228821, 1.767065167427063, 1.3466733694076538, 1.6591835021972656, 1.3975260257720947, 1.7353720664978027, 0.8218312859535217, 0.7412198185920715, 1.0989114046096802, 2.697580575942993, 2.697580575942993, 0.920756459236145, 0.920756459236145, 0.920756459236145, 0.9207562208175659, 0.9206557273864746, 0.9206206202507019, 0.9196211695671082, 1.2293459177017212, 1.1152719259262085, 2303.806640625, 2016.303955078125, 1464.0753173828125, 1232.133544921875, 1191.1875, 1152.8255615234375, 1133.3995361328125, 984.7562866210938, 894.5997924804688, 818.6221313476562, 589.5015258789062, 552.5701904296875, 553.6650390625, 549.7239990234375, 548.1143798828125, 486.57720947265625, 465.8055725097656, 448.65875244140625, 444.8191223144531, 420.0074462890625, 412.1700439453125, 409.5014343261719, 404.1033935546875, 396.99261474609375, 392.8695373535156, 378.0722961425781, 375.7838134765625, 372.09136962890625, 372.24444580078125, 363.8486328125, 736.48681640625, 17120.6953125, 16195.1298828125, 15980.5126953125, 15297.392578125, 998.6113891601562, 156.7439727783203, 96.22805786132812, 27.291900634765625, 4.732077598571777, 4.732077598571777, 4.67971658706665, 2.466953992843628, 1.9969029426574707, 3.2095954418182373, 1.1048935651779175, 1.1465903520584106, 2.0497939586639404, 1.3875079154968262, 0.43081343173980713, 0.4677577614784241, 0.4981052875518799, 0.5980235934257507, 0.29236897826194763, 0.29236897826194763, 0.8949658870697021, 1.2363663911819458, 0.33678752183914185, 0.5715841054916382, 0.21402102708816528, 0.2569248676300049, 1.8156569004058838, 1.9055782556533813, 1.275590419769287, 3.615912437438965, 3.615912437438965, 3.5576834678649902, 2.784176826477051, 1.2323483228683472, 0.9839662909507751, 0.8015428781509399, 1.066893458366394, 0.9739783406257629, 19695.396484375, 17762.09765625, 477.49688720703125, 383.3411865234375, 350.5333251953125, 334.42083740234375, 196.56243896484375, 184.53097534179688, 151.66749572753906, 148.69700622558594, 136.12652587890625, 144.00717163085938, 119.14942169189453, 109.86341094970703, 100.03370666503906, 99.90335845947266, 93.70613861083984, 90.96089935302734, 87.56184387207031, 92.2733154296875, 82.56237030029297, 84.87071228027344, 82.65974426269531, 83.26878356933594, 79.14398193359375, 64.04249572753906, 62.3182487487793, 62.531524658203125, 60.23385238647461, 55.88422775268555, 74.65233612060547], \"Term\": [\"pollution\", \"air\", \"climatiques\", \"d\\u00e9r\\u00e8glements\", \"s\\u00e9cheresse\", \"crue\", \"biodiversit\\u00e9\", \"disparition\", \"esp\\u00e8ces\", \"certaines\", \"climatique\", \"eau\", \"importants\", \"probl\\u00e8mes\", \"d\\u00e9chets\", \"probl\\u00e8me\", \"toutes\", \"environnement\", \"important\", \"ensemble\", \"li\\u00e9s\", \"li\\u00e9\", \"\\u00e9rosion\", \"d\\u00e9r\\u00e8glement\", \"sols\", \"ressources\", \"littoral\", \"terre\", \"autres\", \"r\\u00e9chauffement\", \"importants\", \"d\\u00e9chets\", \"toutes\", \"environnement\", \"li\\u00e9s\", \"ressources\", \"autres\", \"plan\\u00e8te\", \"propositions\", \"produits\", \"ci\", \"vie\", \"dessus\", \"nature\", \"naturelles\", \"\\u00e9nergie\", \"pays\", \"compte\", \"monde\", \"production\", \"sant\\u00e9\", \"gaspillage\", \"r\\u00e9ponses\", \"humaine\", \"niveau\", \"agriculture\", \"quatre\", \"france\", \"temps\", \"toute\", \"probl\\u00e8mes\", \"climatiques\", \"d\\u00e9r\\u00e8glements\", \"s\\u00e9cheresse\", \"crue\", \"\\u00e9rosion\", \"littoral\", \"disparit\\u00e9\", \"analyser\", \"littolra\", \"littioral\", \"primmordiaux\", \"bouleversant\", \"d\\u00e9r\\u00e9gement\", \"emm\\u00e8ne\", \"arficialisation\", \"toit\", \"animalel\", \"\\u00e9spaces\", \"commis\", \"ravages\", \"capitaloc\\u00e8ne\", \"biodiversut\\u00e9\", \"superficiels\", \"polluait\", \"cantonner\", \"r\\u00e9gl\\u00e9s\", \"ement\", \"intim\", \"tentations\", \"transhumanistes\", \"inondation\", \"risquer\", \"r\\u00e9currents\", \"diminue\", \"tremblements\", \"d\\u00e8r\\u00e8glements\", \"\\u00e9pisodes\", \"duchesse\", \"lot\", \"climatqiues\", \"intoxications\", \"anticip\\u00e9es\", \"scot\", \"territoriale\", \"sch\\u00e9ma\", \"parvenir\", \"nettes\", \"domination\", \"d\\u00e9c\\u00e8s\", \"limitant\", \"longues\", \"climatique\", \"eau\", \"probl\\u00e8me\", \"important\", \"ensemble\", \"li\\u00e9\", \"d\\u00e9r\\u00e8glement\", \"terre\", \"r\\u00e9chauffement\", \"consommation\", \"pesticides\", \"global\", \"oc\\u00e9ans\", \"autre\", \"points\", \"cons\\u00e9quences\", \"choisir\", \"donc\", \"entre\", \"mer\", \"th\\u00e8mes\", \"cit\\u00e9s\", \"cette\", \"climat\", \"changement\", \"gestion\", \"effet\", \"destruction\", \"\\u00e9cologie\", \"dont\", \"probl\\u00e8mes\", \"biodiversit\\u00e9\", \"disparition\", \"esp\\u00e8ces\", \"certaines\", \"sols\", \"dechets\", \"artificialisation\", \"imperm\\u00e9abilisation\", \"entrepreneuriat\", \"ruralit\\u00e9\", \"acc\\u00e9l\\u00e9rant\", \"bit\\u00fbme\", \"incidents\", \"gener\\u00e9e\", \"littolra\", \"disparit\\u00e9\", \"diminue\", \"duchesse\", \"polinisateurs\", \"secumule\", \"deregelement\", \"d\\u00e9calage\", \"recycles\", \"recylables\", \"motocycles\", \"inondation\", \"leau\", \"auuuuttre\", \"menages\", \"arficialisation\", \"surnatalit\\u00e9\", \"particulierement\", \"climatqiues\", \"intoxications\", \"anticip\\u00e9es\", \"ajoute\", \"limitant\", \"appauvrissements\", \"littioral\", \"lot\", \"consumm\\u00e9ristes\", \"sordide\", \"pollution\", \"air\", \"pollutions\", \"surconsommation\", \"fois\", \"plastiques\", \"\\u00e9nergies\", \"sol\", \"fossiles\", \"agricoles\", \"industrielle\", \"transport\", \"faune\", \"d\\u00e9mographie\", \"lumineuse\", \"activit\\u00e9s\", \"nappes\", \"renouvelables\", \"d\\u00e9r\\u00e9glements\", \"emballages\", \"flore\", \"comportement\", \"humaines\", \"routes\", \"g\\u00e9n\\u00e9rale\", \"phr\\u00e9atiques\", \"sonore\", \"routier\", \"aliments\", \"disparitions\", \"g\\u00e9n\\u00e9ral\"], \"Total\": [19696.0, 17762.0, 22939.0, 22706.0, 21470.0, 21450.0, 17121.0, 16195.0, 15981.0, 15298.0, 2304.0, 2017.0, 1807.0, 2928.0, 1746.0, 1464.0, 1556.0, 1515.0, 1232.0, 1191.0, 1393.0, 1153.0, 1291.0, 1134.0, 999.0, 1239.0, 1163.0, 985.0, 1088.0, 895.0, 1807.9254150390625, 1746.2236328125, 1556.222412109375, 1515.530029296875, 1393.4208984375, 1239.03466796875, 1088.27880859375, 946.904296875, 710.6925659179688, 646.3243408203125, 637.8602294921875, 625.8155517578125, 615.7097778320312, 581.6912841796875, 574.6415405273438, 497.3209228515625, 475.1003112792969, 469.31146240234375, 467.36529541015625, 464.56427001953125, 465.4451599121094, 455.6884765625, 457.8583984375, 436.1862487792969, 429.30950927734375, 423.4876403808594, 414.6525573730469, 406.7131042480469, 398.49163818359375, 392.2953796386719, 2928.277587890625, 22939.12890625, 22706.689453125, 21470.41015625, 21450.595703125, 1291.3206787109375, 1163.4495849609375, 3.7527925968170166, 10.241332054138184, 3.170921564102173, 5.675944805145264, 1.0958796739578247, 4.992852210998535, 4.992852210998535, 2.103261709213257, 1.2489657402038574, 5.059605121612549, 1.0798393487930298, 1.103693962097168, 2.647327184677124, 2.6485989093780518, 2.1427407264709473, 1.0182467699050903, 1.0678246021270752, 2.1217668056488037, 2.1217668056488037, 1.3573861122131348, 1.0064427852630615, 1.0064427852630615, 1.005818486213684, 1.005818486213684, 5.569553852081299, 1.5799269676208496, 9.413630485534668, 7.183778762817383, 8.982261657714844, 7.582235813140869, 9.835023880004883, 4.893652439117432, 4.466021537780762, 7.230372905731201, 26.704633712768555, 26.704633712768555, 8.602202415466309, 8.602202415466309, 8.602202415466309, 8.60221004486084, 8.604562759399414, 8.605392456054688, 8.65412425994873, 26.887189865112305, 23.124235153198242, 2304.598876953125, 2017.1005859375, 1464.8681640625, 1232.925048828125, 1191.979736328125, 1153.6151123046875, 1134.1917724609375, 985.5499267578125, 895.3906860351562, 819.4177856445312, 590.3042602539062, 553.3609619140625, 554.4617309570312, 550.5151977539062, 548.9071044921875, 487.3692626953125, 466.5970153808594, 449.4523620605469, 445.6101989746094, 420.8031005859375, 412.9651794433594, 410.3020935058594, 404.8966979980469, 397.7856140136719, 393.6634826660156, 378.86737060546875, 376.57427978515625, 372.8824768066406, 373.03851318359375, 364.643798828125, 2928.277587890625, 17121.52734375, 16195.9580078125, 15981.33984375, 15298.220703125, 999.518798828125, 157.59910583496094, 97.34835052490234, 28.176799774169922, 5.556966781616211, 5.556985378265381, 6.5695271492004395, 4.284585952758789, 4.677083492279053, 9.152182579040527, 3.170921564102173, 3.7527925968170166, 7.183778762817383, 4.893652439117432, 1.542842984199524, 1.6938254833221436, 1.8099501132965088, 2.184863805770874, 1.2578500509262085, 1.2578500509262085, 3.963883638381958, 5.569553852081299, 1.6014193296432495, 2.7411885261535645, 1.0389015674591064, 1.2489657402038574, 9.762974739074707, 10.4031400680542, 7.230372905731201, 26.704633712768555, 26.704633712768555, 29.423612594604492, 26.887189865112305, 8.163131713867188, 5.675944805145264, 4.466021537780762, 9.97453498840332, 9.232681274414062, 19696.2265625, 17762.927734375, 478.3488464355469, 384.1884765625, 351.4176940917969, 335.2731628417969, 197.46058654785156, 185.39796447753906, 152.5105743408203, 149.55950927734375, 136.97879028320312, 144.95361328125, 119.99224853515625, 110.7057113647461, 100.87714385986328, 100.74882507324219, 94.53759002685547, 91.80792999267578, 88.40908813476562, 93.20729064941406, 83.40641021728516, 85.7410659790039, 83.51303100585938, 84.1502456665039, 79.99961853027344, 64.87232208251953, 63.14745330810547, 63.39747619628906, 61.0681266784668, 56.74286651611328, 275.260986328125], \"loglift\": [30.0, 29.0, 28.0, 27.0, 26.0, 25.0, 24.0, 23.0, 22.0, 21.0, 20.0, 19.0, 18.0, 17.0, 16.0, 15.0, 14.0, 13.0, 12.0, 11.0, 10.0, 9.0, 8.0, 7.0, 6.0, 5.0, 4.0, 3.0, 2.0, 1.0, 1.3589999675750732, 1.3589999675750732, 1.3588999509811401, 1.3588999509811401, 1.3588999509811401, 1.3588000535964966, 1.3587000370025635, 1.3586000204086304, 1.358299970626831, 1.358199954032898, 1.358199954032898, 1.358199954032898, 1.358199954032898, 1.3581000566482544, 1.3581000566482544, 1.3579000234603882, 1.357800006866455, 1.357800006866455, 1.357800006866455, 1.357800006866455, 1.357800006866455, 1.357699990272522, 1.357699990272522, 1.357699990272522, 1.3575999736785889, 1.3575999736785889, 1.3574999570846558, 1.3574999570846558, 1.3574999570846558, 1.3573999404907227, 1.0694999694824219, 1.413100004196167, 1.413100004196167, 1.413100004196167, 1.413100004196167, 1.412500023841858, 1.4124000072479248, 0.1339000016450882, 0.10189999639987946, 0.018200000748038292, -0.05770000070333481, -0.121799997985363, -0.1251000016927719, -0.1251000016927719, -0.12960000336170197, -0.13660000264644623, -0.14339999854564667, -0.14470000565052032, -0.14920000731945038, -0.15800000727176666, -0.15860000252723694, -0.17000000178813934, -0.18029999732971191, -0.1858000010251999, -0.19349999725818634, -0.19349999725818634, -0.20110000669956207, -0.210099995136261, -0.210099995136261, -0.21050000190734863, -0.21050000190734863, -0.2207999974489212, -0.21480000019073486, -0.2597000002861023, -0.26100000739097595, -0.27570000290870667, -0.27790001034736633, -0.3215000033378601, -0.3709999918937683, -0.38280001282691956, -0.4708000123500824, -0.8792999982833862, -0.8792999982833862, -0.821399986743927, -0.821399986743927, -0.821399986743927, -0.821399986743927, -0.8217999935150146, -0.8219000101089478, -0.8285999894142151, -1.6720000505447388, -1.6186000108718872, 1.5928000211715698, 1.5928000211715698, 1.5925999879837036, 1.5924999713897705, 1.5924999713897705, 1.5924999713897705, 1.5924999713897705, 1.5923999547958374, 1.5923000574111938, 1.5922000408172607, 1.5917999744415283, 1.5917999744415283, 1.5917999744415283, 1.5917999744415283, 1.5916999578475952, 1.591599941253662, 1.5915000438690186, 1.5914000272750854, 1.5914000272750854, 1.5913000106811523, 1.5913000106811523, 1.5911999940872192, 1.5911999940872192, 1.5911999940872192, 1.5911999940872192, 1.5910999774932861, 1.5910999774932861, 1.5910999774932861, 1.5910999774932861, 1.590999960899353, 0.21289999783039093, 1.7254999876022339, 1.7254999876022339, 1.7254999876022339, 1.7254999876022339, 1.7245999574661255, 1.7201000452041626, 1.7139999866485596, 1.693600058555603, 1.5649000406265259, 1.5648000240325928, 1.386299967765808, 1.1734999418258667, 0.8744999766349792, 0.6776999831199646, 0.6712999939918518, 0.5397999882698059, 0.4715000092983246, 0.4650999903678894, 0.4498000144958496, 0.43869999051094055, 0.43529999256134033, 0.42989999055862427, 0.266400009393692, 0.266400009393692, 0.23729999363422394, 0.22040000557899475, 0.1662999987602234, 0.15780000388622284, 0.14569999277591705, 0.14429999887943268, 0.04340000078082085, 0.028200000524520874, -0.00930000003427267, -0.27399998903274536, -0.27399998903274536, -0.3871000111103058, -0.5422000288963318, -0.16519999504089355, -0.026900000870227814, 0.007799999788403511, -0.5097000002861023, -0.5235999822616577, 2.132999897003174, 2.132999897003174, 2.131200075149536, 2.1308000087738037, 2.130500078201294, 2.130500078201294, 2.128499984741211, 2.1282999515533447, 2.127500057220459, 2.12719988822937, 2.126800060272217, 2.126499891281128, 2.125999927520752, 2.1254000663757324, 2.1245999336242676, 2.1245999336242676, 2.1242001056671143, 2.123800039291382, 2.1233999729156494, 2.122999906539917, 2.1229000091552734, 2.12280011177063, 2.12280011177063, 2.122499942779541, 2.122299909591675, 2.1201999187469482, 2.119800090789795, 2.11929988861084, 2.11929988861084, 2.117799997329712, 0.8281999826431274], \"logprob\": [30.0, 29.0, 28.0, 27.0, 26.0, 25.0, 24.0, 23.0, 22.0, 21.0, 20.0, 19.0, 18.0, 17.0, 16.0, 15.0, 14.0, 13.0, 12.0, 11.0, 10.0, 9.0, 8.0, 7.0, 6.0, 5.0, 4.0, 3.0, 2.0, 1.0, -4.011899948120117, -4.046599864959717, -4.161799907684326, -4.188300132751465, -4.27239990234375, -4.389900207519531, -4.519700050354004, -4.658999919891357, -4.946199893951416, -5.041299819946289, -5.054500102996826, -5.073500156402588, -5.089799880981445, -5.1468000411987305, -5.158999919891357, -5.303699970245361, -5.3495001792907715, -5.361700057983398, -5.365900039672852, -5.3719000816345215, -5.369999885559082, -5.391300201416016, -5.386499881744385, -5.435100078582764, -5.451000213623047, -5.464700222015381, -5.485799789428711, -5.505199909210205, -5.525700092315674, -5.541399955749512, -3.8190999031066895, -1.417099952697754, -1.4271999597549438, -1.483199954032898, -1.4840999841690063, -4.294899940490723, -4.3993000984191895, -11.414400100708008, -10.442500114440918, -11.698599815368652, -11.19219970703125, -12.901000022888184, -11.387800216674805, -11.387800216674805, -12.2568998336792, -12.785099983215332, -11.392900466918945, -12.938699722290039, -12.92140007019043, -12.05519962310791, -12.055399894714355, -12.27869987487793, -13.032999992370605, -12.991000175476074, -12.312000274658203, -12.312000274658203, -12.766300201416016, -13.074399948120117, -13.074399948120117, -13.075499534606934, -13.075499534606934, -11.374300003051758, -12.628199577331543, -10.888299942016602, -11.15999984741211, -10.951299667358398, -11.122900009155273, -10.906399726867676, -11.653800010681152, -11.757100105285645, -11.363300323486328, -10.465299606323242, -10.465299606323242, -11.540200233459473, -11.540200233459473, -11.540200233459473, -11.540200233459473, -11.540300369262695, -11.540300369262695, -11.541399955749512, -11.251099586486816, -11.34850025177002, -3.5353000164031982, -3.668600082397461, -3.988600015640259, -4.161099910736084, -4.194900035858154, -4.22760009765625, -4.24459981918335, -4.385200023651123, -4.481200218200684, -4.570000171661377, -4.8983001708984375, -4.9629998207092285, -4.960999965667725, -4.968200206756592, -4.971099853515625, -5.090199947357178, -5.133800029754639, -5.171299934387207, -5.179900169372559, -5.237299919128418, -5.256199836730957, -5.262700080871582, -5.275899887084961, -5.293700218200684, -5.304100036621094, -5.34250020980835, -5.348599910736084, -5.358500003814697, -5.358099937438965, -5.380899906158447, -4.6757001876831055, -1.3971999883651733, -1.4528000354766846, -1.4660999774932861, -1.5097999572753906, -4.238900184631348, -6.09060001373291, -6.578499794006348, -7.838699817657471, -9.590900421142578, -9.590900421142578, -9.60200023651123, -10.242300033569336, -10.453700065612793, -9.979100227355957, -11.045499801635742, -11.008500099182129, -10.427499771118164, -10.81779956817627, -11.987299919128418, -11.905099868774414, -11.84220027923584, -11.65939998626709, -12.375, -12.375, -11.256199836730957, -10.933099746704102, -12.233599662780762, -11.70460033416748, -12.68690013885498, -12.504199981689453, -10.548800468444824, -10.500499725341797, -10.901900291442871, -9.85990047454834, -9.85990047454834, -9.876199722290039, -10.121299743652344, -10.936300277709961, -11.161399841308594, -11.366499900817871, -11.080499649047852, -11.171600341796875, -0.8496000170707703, -0.9528999924659729, -4.569200038909912, -4.78879976272583, -4.878300189971924, -4.9253997802734375, -5.4567999839782715, -5.519999980926514, -5.716100215911865, -5.735899925231934, -5.82420015335083, -5.767899990081787, -5.957399845123291, -6.03849983215332, -6.132299900054932, -6.133600234985352, -6.1975998878479, -6.22730016708374, -6.265399932861328, -6.2129998207092285, -6.32420015335083, -6.296599864959717, -6.322999954223633, -6.315700054168701, -6.366499900817871, -6.578199863433838, -6.605500221252441, -6.602099895477295, -6.639500141143799, -6.7144999504089355, -6.424900054931641]}, \"token.table\": {\"Topic\": [1, 4, 5, 5, 1, 5, 1, 3, 4, 5, 1, 2, 3, 5, 1, 2, 3, 4, 5, 1, 4, 5, 4, 3, 1, 1, 3, 4, 4, 1, 4, 1, 2, 3, 4, 5, 3, 1, 5, 4, 3, 3, 3, 1, 3, 3, 3, 2, 1, 2, 3, 4, 5, 1, 2, 5, 1, 3, 1, 3, 4, 3, 2, 4, 1, 1, 3, 1, 2, 3, 4, 5, 4, 5, 1, 2, 3, 4, 1, 2, 3, 5, 3, 3, 2, 3, 4, 5, 1, 2, 3, 5, 3, 4, 1, 1, 2, 3, 5, 5, 3, 2, 1, 2, 3, 4, 5, 5, 3, 3, 5, 3, 3, 3, 4, 1, 4, 5, 5, 5, 5, 1, 1, 4, 5, 3, 3, 3, 5, 5, 1, 5, 4, 3, 1, 2, 3, 4, 5, 2, 4, 5, 1, 2, 3, 4, 5, 1, 2, 3, 4, 5, 2, 3, 4, 5, 2, 4, 5, 2, 3, 1, 1, 2, 3, 5, 2, 3, 4, 5, 5, 3, 1, 1, 3, 4, 5, 1, 1, 1, 2, 3, 5, 1, 3, 1, 3, 4, 5, 1, 2, 3, 5, 1, 3, 5, 1, 5, 3, 3, 3, 5, 5, 3, 1, 3, 1, 1, 1, 1, 1, 2, 5, 1, 5, 5, 4, 3, 1, 2, 3, 4, 5, 1, 1, 1, 2, 3, 5, 1, 2, 3, 5, 3, 5, 4, 5, 1, 3, 4, 5, 5, 1, 3, 4, 2, 1, 3, 1, 2, 3, 5, 3, 1, 2, 3, 4, 5, 1, 1, 5, 1, 2, 3, 1, 3, 1, 5, 1, 2, 3, 4, 5, 2], \"Freq\": [0.15221795439720154, 0.7610898017883301, 0.9925674200057983, 0.9962589740753174, 0.9988484978675842, 0.9999477863311768, 0.815671443939209, 0.03398630768060684, 0.13594523072242737, 0.9825092554092407, 0.1952870935201645, 0.29293063282966614, 0.29293063282966614, 0.1952870935201645, 0.4868068993091583, 0.1123400554060936, 0.18723341822624207, 0.14978674054145813, 0.07489337027072906, 0.6125100255012512, 0.12250200659036636, 0.24500401318073273, 0.9861491918563843, 0.9990641474723816, 0.998824954032898, 0.3648052513599396, 0.3648052513599396, 0.3648052513599396, 0.9999691843986511, 0.2333947867155075, 0.466789573431015, 0.20028631389141083, 0.20028631389141083, 0.20028631389141083, 0.20028631389141083, 0.40057262778282166, 0.47130534052848816, 0.4666920304298401, 0.4666920304298401, 0.9999201893806458, 0.9977853894233704, 0.998314619064331, 0.9987204670906067, 0.998651385307312, 0.9992637038230896, 0.9980250597000122, 0.9997401237487793, 0.9999507665634155, 0.2766109108924866, 0.1383054554462433, 0.2766109108924866, 0.1383054554462433, 0.1383054554462433, 0.37773948907852173, 0.37773948907852173, 0.9913569092750549, 0.9993363618850708, 0.9994901418685913, 0.7017871141433716, 0.10025530308485031, 0.10025530308485031, 0.9992423057556152, 0.9999722242355347, 0.9961985349655151, 0.5525014400482178, 0.998847246170044, 0.9976333379745483, 0.13920250535011292, 0.13920250535011292, 0.27840501070022583, 0.27840501070022583, 0.13920250535011292, 0.9999408721923828, 0.9869081974029541, 0.26646822690963745, 0.26646822690963745, 0.26646822690963745, 0.26646822690963745, 0.34861862659454346, 0.11620620638132095, 0.34861862659454346, 0.11620620638132095, 0.9989935159683228, 0.9982344508171082, 0.20434634387493134, 0.20434634387493134, 0.20434634387493134, 0.20434634387493134, 0.13188721239566803, 0.13188721239566803, 0.3956616520881653, 0.26377442479133606, 0.4576944410800934, 0.4576944410800934, 0.9992992877960205, 0.3466555178165436, 0.11555184423923492, 0.3466555178165436, 0.11555184423923492, 0.9936253428459167, 0.9989492297172546, 0.9999696612358093, 0.20028631389141083, 0.20028631389141083, 0.20028631389141083, 0.20028631389141083, 0.40057262778282166, 0.9953727722167969, 0.9994543790817261, 0.9984750151634216, 0.9870472550392151, 0.4754520058631897, 0.9991780519485474, 0.9986306428909302, 0.8997714519500732, 0.999650239944458, 0.9999787211418152, 0.9917307496070862, 0.9951273798942566, 0.9988114237785339, 0.9966521859169006, 0.9982466697692871, 0.9984891414642334, 0.32779067754745483, 0.5463177561759949, 0.997710645198822, 0.9993476867675781, 0.7265831828117371, 0.2724686861038208, 0.9875047206878662, 0.9972804188728333, 0.9938568472862244, 0.9582351446151733, 0.9992496967315674, 0.999488115310669, 0.21380846202373505, 0.4276169240474701, 0.4276169240474701, 0.9928544163703918, 0.17954759299755096, 0.17954759299755096, 0.5386427640914917, 0.4868068993091583, 0.1123400554060936, 0.18723341822624207, 0.14978674054145813, 0.07489337027072906, 0.03719243407249451, 0.03719243407249451, 0.7810410857200623, 0.11157729476690292, 0.03719243407249451, 0.1761821210384369, 0.3523642420768738, 0.1761821210384369, 0.1761821210384369, 0.315365731716156, 0.315365731716156, 0.315365731716156, 0.9996135830879211, 0.9994667768478394, 0.9996979236602783, 0.04324467480182648, 0.04324467480182648, 0.8648934960365295, 0.04324467480182648, 0.22391293942928314, 0.4478258788585663, 0.22391293942928314, 0.22391293942928314, 0.9913048148155212, 0.9980915188789368, 0.9992184042930603, 0.5045557022094727, 0.25227785110473633, 0.25227785110473633, 0.9943134784698486, 0.9988116025924683, 0.9988836050033569, 0.3486522436141968, 0.11621741205453873, 0.3486522436141968, 0.11621741205453873, 0.9992790818214417, 0.999167263507843, 0.28837448358535767, 0.38449928164482117, 0.19224964082241058, 0.09612482041120529, 0.348747581243515, 0.1162491962313652, 0.348747581243515, 0.1162491962313652, 0.9976840615272522, 0.9994845986366272, 0.9865532517433167, 0.9990450143814087, 0.9962025880813599, 0.9983474612236023, 0.648154079914093, 0.47130534052848816, 0.9999377131462097, 0.9971802234649658, 0.9994073510169983, 0.7482213973999023, 0.2513422966003418, 0.9987853765487671, 0.999498188495636, 0.9990255236625671, 0.9984262585639954, 0.3775581121444702, 0.3775581121444702, 0.991199791431427, 0.9991649389266968, 0.986331045627594, 0.9937304258346558, 0.8997684121131897, 0.9995636940002441, 0.10622894018888474, 0.21245788037776947, 0.21245788037776947, 0.10622894018888474, 0.3186868131160736, 0.9981251955032349, 0.9990435838699341, 0.3487479090690613, 0.11624930053949356, 0.3487479090690613, 0.11624930053949356, 0.3487479090690613, 0.11624930053949356, 0.3487479090690613, 0.11624930053949356, 0.5903795957565308, 0.9978534579277039, 0.9994809627532959, 0.9818289875984192, 0.5415545105934143, 0.32493269443511963, 0.10831090062856674, 0.10831090062856674, 0.9969065189361572, 0.20485559105873108, 0.6145668029785156, 0.20485559105873108, 0.9999808669090271, 0.9987662434577942, 0.9994419813156128, 0.3487479090690613, 0.11624930053949356, 0.3487479090690613, 0.11624930053949356, 0.9976627826690674, 0.19764387607574463, 0.19764387607574463, 0.19764387607574463, 0.19764387607574463, 0.39528775215148926, 0.9992470741271973, 0.9992145299911499, 0.9934212565422058, 0.1113305389881134, 0.2226610779762268, 0.6679832339286804, 0.9986968040466309, 0.9972160458564758, 0.9993547201156616, 0.9976674318313599, 0.10167743265628815, 0.2033548653125763, 0.30503231287002563, 0.10167743265628815, 0.30503231287002563, 0.9989772439002991], \"Term\": [\"acc\\u00e9l\\u00e9rant\", \"acc\\u00e9l\\u00e9rant\", \"activit\\u00e9s\", \"agricoles\", \"agriculture\", \"air\", \"ajoute\", \"ajoute\", \"ajoute\", \"aliments\", \"analyser\", \"analyser\", \"analyser\", \"analyser\", \"anticip\\u00e9es\", \"anticip\\u00e9es\", \"anticip\\u00e9es\", \"anticip\\u00e9es\", \"anticip\\u00e9es\", \"appauvrissements\", \"appauvrissements\", \"appauvrissements\", \"artificialisation\", \"autre\", \"autres\", \"auuuuttre\", \"auuuuttre\", \"auuuuttre\", \"biodiversit\\u00e9\", \"bit\\u00fbme\", \"bit\\u00fbme\", \"bouleversant\", \"bouleversant\", \"bouleversant\", \"bouleversant\", \"bouleversant\", \"cantonner\", \"capitaloc\\u00e8ne\", \"capitaloc\\u00e8ne\", \"certaines\", \"cette\", \"changement\", \"choisir\", \"ci\", \"cit\\u00e9s\", \"climat\", \"climatique\", \"climatiques\", \"climatqiues\", \"climatqiues\", \"climatqiues\", \"climatqiues\", \"climatqiues\", \"commis\", \"commis\", \"comportement\", \"compte\", \"consommation\", \"consumm\\u00e9ristes\", \"consumm\\u00e9ristes\", \"consumm\\u00e9ristes\", \"cons\\u00e9quences\", \"crue\", \"dechets\", \"deregelement\", \"dessus\", \"destruction\", \"diminue\", \"diminue\", \"diminue\", \"diminue\", \"diminue\", \"disparition\", \"disparitions\", \"disparit\\u00e9\", \"disparit\\u00e9\", \"disparit\\u00e9\", \"disparit\\u00e9\", \"domination\", \"domination\", \"domination\", \"domination\", \"donc\", \"dont\", \"duchesse\", \"duchesse\", \"duchesse\", \"duchesse\", \"d\\u00e8r\\u00e8glements\", \"d\\u00e8r\\u00e8glements\", \"d\\u00e8r\\u00e8glements\", \"d\\u00e8r\\u00e8glements\", \"d\\u00e9calage\", \"d\\u00e9calage\", \"d\\u00e9chets\", \"d\\u00e9c\\u00e8s\", \"d\\u00e9c\\u00e8s\", \"d\\u00e9c\\u00e8s\", \"d\\u00e9c\\u00e8s\", \"d\\u00e9mographie\", \"d\\u00e9r\\u00e8glement\", \"d\\u00e9r\\u00e8glements\", \"d\\u00e9r\\u00e9gement\", \"d\\u00e9r\\u00e9gement\", \"d\\u00e9r\\u00e9gement\", \"d\\u00e9r\\u00e9gement\", \"d\\u00e9r\\u00e9gement\", \"d\\u00e9r\\u00e9glements\", \"eau\", \"effet\", \"emballages\", \"emm\\u00e8ne\", \"ensemble\", \"entre\", \"entrepreneuriat\", \"environnement\", \"esp\\u00e8ces\", \"faune\", \"flore\", \"fois\", \"fossiles\", \"france\", \"gaspillage\", \"gener\\u00e9e\", \"gener\\u00e9e\", \"gestion\", \"global\", \"g\\u00e9n\\u00e9ral\", \"g\\u00e9n\\u00e9ral\", \"g\\u00e9n\\u00e9rale\", \"humaine\", \"humaines\", \"imperm\\u00e9abilisation\", \"important\", \"importants\", \"incidents\", \"incidents\", \"incidents\", \"industrielle\", \"inondation\", \"inondation\", \"inondation\", \"intoxications\", \"intoxications\", \"intoxications\", \"intoxications\", \"intoxications\", \"limitant\", \"limitant\", \"limitant\", \"limitant\", \"limitant\", \"littioral\", \"littioral\", \"littioral\", \"littioral\", \"littolra\", \"littolra\", \"littolra\", \"littoral\", \"li\\u00e9\", \"li\\u00e9s\", \"longues\", \"longues\", \"longues\", \"longues\", \"lot\", \"lot\", \"lot\", \"lot\", \"lumineuse\", \"mer\", \"monde\", \"motocycles\", \"motocycles\", \"motocycles\", \"nappes\", \"nature\", \"naturelles\", \"nettes\", \"nettes\", \"nettes\", \"nettes\", \"niveau\", \"oc\\u00e9ans\", \"particulierement\", \"particulierement\", \"particulierement\", \"particulierement\", \"parvenir\", \"parvenir\", \"parvenir\", \"parvenir\", \"pays\", \"pesticides\", \"phr\\u00e9atiques\", \"plan\\u00e8te\", \"plastiques\", \"points\", \"polinisateurs\", \"polluait\", \"pollution\", \"pollutions\", \"probl\\u00e8me\", \"probl\\u00e8mes\", \"probl\\u00e8mes\", \"production\", \"produits\", \"propositions\", \"quatre\", \"ravages\", \"ravages\", \"renouvelables\", \"ressources\", \"routes\", \"routier\", \"ruralit\\u00e9\", \"r\\u00e9chauffement\", \"r\\u00e9currents\", \"r\\u00e9currents\", \"r\\u00e9currents\", \"r\\u00e9currents\", \"r\\u00e9currents\", \"r\\u00e9ponses\", \"sant\\u00e9\", \"sch\\u00e9ma\", \"sch\\u00e9ma\", \"sch\\u00e9ma\", \"sch\\u00e9ma\", \"scot\", \"scot\", \"scot\", \"scot\", \"secumule\", \"sol\", \"sols\", \"sonore\", \"sordide\", \"sordide\", \"sordide\", \"sordide\", \"surconsommation\", \"surnatalit\\u00e9\", \"surnatalit\\u00e9\", \"surnatalit\\u00e9\", \"s\\u00e9cheresse\", \"temps\", \"terre\", \"territoriale\", \"territoriale\", \"territoriale\", \"territoriale\", \"th\\u00e8mes\", \"toit\", \"toit\", \"toit\", \"toit\", \"toit\", \"toute\", \"toutes\", \"transport\", \"tremblements\", \"tremblements\", \"tremblements\", \"vie\", \"\\u00e9cologie\", \"\\u00e9nergie\", \"\\u00e9nergies\", \"\\u00e9pisodes\", \"\\u00e9pisodes\", \"\\u00e9pisodes\", \"\\u00e9pisodes\", \"\\u00e9pisodes\", \"\\u00e9rosion\"]}, \"R\": 30, \"lambda.step\": 0.01, \"plot.opts\": {\"xlab\": \"PC1\", \"ylab\": \"PC2\"}, \"topic.order\": [1, 4, 3, 5, 2]};\n",
       "\n",
       "function LDAvis_load_lib(url, callback){\n",
       "  var s = document.createElement('script');\n",
       "  s.src = url;\n",
       "  s.async = true;\n",
       "  s.onreadystatechange = s.onload = callback;\n",
       "  s.onerror = function(){console.warn(\"failed to load library \" + url);};\n",
       "  document.getElementsByTagName(\"head\")[0].appendChild(s);\n",
       "}\n",
       "\n",
       "if(typeof(LDAvis) !== \"undefined\"){\n",
       "   // already loaded: just create the visualization\n",
       "   !function(LDAvis){\n",
       "       new LDAvis(\"#\" + \"ldavis_el45671122375632408372837453\", ldavis_el45671122375632408372837453_data);\n",
       "   }(LDAvis);\n",
       "}else if(typeof define === \"function\" && define.amd){\n",
       "   // require.js is available: use it to load d3/LDAvis\n",
       "   require.config({paths: {d3: \"https://cdnjs.cloudflare.com/ajax/libs/d3/3.5.5/d3.min\"}});\n",
       "   require([\"d3\"], function(d3){\n",
       "      window.d3 = d3;\n",
       "      LDAvis_load_lib(\"https://cdn.rawgit.com/bmabey/pyLDAvis/files/ldavis.v1.0.0.js\", function(){\n",
       "        new LDAvis(\"#\" + \"ldavis_el45671122375632408372837453\", ldavis_el45671122375632408372837453_data);\n",
       "      });\n",
       "    });\n",
       "}else{\n",
       "    // require.js not available: dynamically load d3 & LDAvis\n",
       "    LDAvis_load_lib(\"https://cdnjs.cloudflare.com/ajax/libs/d3/3.5.5/d3.min.js\", function(){\n",
       "         LDAvis_load_lib(\"https://cdn.rawgit.com/bmabey/pyLDAvis/files/ldavis.v1.0.0.js\", function(){\n",
       "                 new LDAvis(\"#\" + \"ldavis_el45671122375632408372837453\", ldavis_el45671122375632408372837453_data);\n",
       "            })\n",
       "         });\n",
       "}\n",
       "</script>"
      ],
      "text/plain": [
       "PreparedData(topic_coordinates=              x         y  topics  cluster       Freq\n",
       "topic                                                \n",
       "0      0.202832  0.077319       1        1  25.680223\n",
       "3     -0.356442  0.224183       2        1  24.336708\n",
       "2      0.202749  0.077153       3        1  20.327589\n",
       "4     -0.119817 -0.395524       4        1  17.807680\n",
       "1      0.070678  0.016869       5        1  11.847794, topic_info=     Category          Freq             Term         Total  loglift  logprob\n",
       "term                                                                        \n",
       "97    Default  19696.000000        pollution  19696.000000  30.0000  30.0000\n",
       "96    Default  17762.000000              air  17762.000000  29.0000  29.0000\n",
       "92    Default  22939.000000      climatiques  22939.000000  28.0000  28.0000\n",
       "94    Default  22706.000000     dérèglements  22706.000000  27.0000  27.0000\n",
       "95    Default  21470.000000       sécheresse  21470.000000  26.0000  26.0000\n",
       "93    Default  21450.000000             crue  21450.000000  25.0000  25.0000\n",
       "11    Default  17121.000000     biodiversité  17121.000000  24.0000  24.0000\n",
       "99    Default  16195.000000      disparition  16195.000000  23.0000  23.0000\n",
       "100   Default  15981.000000          espèces  15981.000000  22.0000  22.0000\n",
       "98    Default  15298.000000        certaines  15298.000000  21.0000  21.0000\n",
       "17    Default   2304.000000       climatique   2304.000000  20.0000  20.0000\n",
       "37    Default   2017.000000              eau   2017.000000  19.0000  19.0000\n",
       "421   Default   1807.000000       importants   1807.000000  18.0000  18.0000\n",
       "74    Default   2928.000000        problèmes   2928.000000  17.0000  17.0000\n",
       "123   Default   1746.000000          déchets   1746.000000  16.0000  16.0000\n",
       "198   Default   1464.000000         problème   1464.000000  15.0000  15.0000\n",
       "285   Default   1556.000000           toutes   1556.000000  14.0000  14.0000\n",
       "269   Default   1515.000000    environnement   1515.000000  13.0000  13.0000\n",
       "196   Default   1232.000000        important   1232.000000  12.0000  12.0000\n",
       "38    Default   1191.000000         ensemble   1191.000000  11.0000  11.0000\n",
       "164   Default   1393.000000             liés   1393.000000  10.0000  10.0000\n",
       "481   Default   1153.000000              lié   1153.000000   9.0000   9.0000\n",
       "137   Default   1291.000000          érosion   1291.000000   8.0000   8.0000\n",
       "35    Default   1134.000000      dérèglement   1134.000000   7.0000   7.0000\n",
       "146   Default    999.000000             sols    999.000000   6.0000   6.0000\n",
       "353   Default   1239.000000       ressources   1239.000000   5.0000   5.0000\n",
       "136   Default   1163.000000         littoral   1163.000000   4.0000   4.0000\n",
       "508   Default    985.000000            terre    985.000000   3.0000   3.0000\n",
       "395   Default   1088.000000           autres   1088.000000   2.0000   2.0000\n",
       "298   Default    895.000000    réchauffement    895.000000   1.0000   1.0000\n",
       "...       ...           ...              ...           ...      ...      ...\n",
       "96     Topic5  17762.097656              air  17762.927734   2.1330  -0.9529\n",
       "276    Topic5    477.496887       pollutions    478.348846   2.1312  -4.5692\n",
       "251    Topic5    383.341187  surconsommation    384.188477   2.1308  -4.7888\n",
       "1009   Topic5    350.533325             fois    351.417694   2.1305  -4.8783\n",
       "431    Topic5    334.420837       plastiques    335.273163   2.1305  -4.9254\n",
       "277    Topic5    196.562439         énergies    197.460587   2.1285  -5.4568\n",
       "260    Topic5    184.530975              sol    185.397964   2.1283  -5.5200\n",
       "592    Topic5    151.667496         fossiles    152.510574   2.1275  -5.7161\n",
       "823    Topic5    148.697006        agricoles    149.559509   2.1272  -5.7359\n",
       "1725   Topic5    136.126526     industrielle    136.978790   2.1268  -5.8242\n",
       "193    Topic5    144.007172        transport    144.953613   2.1265  -5.7679\n",
       "706    Topic5    119.149422            faune    119.992249   2.1260  -5.9574\n",
       "907    Topic5    109.863411      démographie    110.705711   2.1254  -6.0385\n",
       "1427   Topic5    100.033707        lumineuse    100.877144   2.1246  -6.1323\n",
       "825    Topic5     99.903358        activités    100.748825   2.1246  -6.1336\n",
       "880    Topic5     93.706139           nappes     94.537590   2.1242  -6.1976\n",
       "2008   Topic5     90.960899    renouvelables     91.807930   2.1238  -6.2273\n",
       "259    Topic5     87.561844     déréglements     88.409088   2.1234  -6.2654\n",
       "453    Topic5     92.273315       emballages     93.207291   2.1230  -6.2130\n",
       "707    Topic5     82.562370            flore     83.406410   2.1229  -6.3242\n",
       "1087   Topic5     84.870712     comportement     85.741066   2.1228  -6.2966\n",
       "827    Topic5     82.659744         humaines     83.513031   2.1228  -6.3230\n",
       "189    Topic5     83.268784           routes     84.150246   2.1225  -6.3157\n",
       "306    Topic5     79.143982         générale     79.999619   2.1223  -6.3665\n",
       "935    Topic5     64.042496      phréatiques     64.872322   2.1202  -6.5782\n",
       "2153   Topic5     62.318249           sonore     63.147453   2.1198  -6.6055\n",
       "1353   Topic5     62.531525          routier     63.397476   2.1193  -6.6021\n",
       "1019   Topic5     60.233852         aliments     61.068127   2.1193  -6.6395\n",
       "1828   Topic5     55.884228     disparitions     56.742867   2.1178  -6.7145\n",
       "275    Topic5     74.652336          général    275.260986   0.8282  -6.4249\n",
       "\n",
       "[216 rows x 6 columns], token_table=       Topic      Freq               Term\n",
       "term                                     \n",
       "7945       1  0.152218         accélérant\n",
       "7945       4  0.761090         accélérant\n",
       "825        5  0.992567          activités\n",
       "823        5  0.996259          agricoles\n",
       "267        1  0.998848        agriculture\n",
       "96         5  0.999948                air\n",
       "4871       1  0.815671             ajoute\n",
       "4871       3  0.033986             ajoute\n",
       "4871       4  0.135945             ajoute\n",
       "1019       5  0.982509           aliments\n",
       "9717       1  0.195287           analyser\n",
       "9717       2  0.292931           analyser\n",
       "9717       3  0.292931           analyser\n",
       "9717       5  0.195287           analyser\n",
       "17523      1  0.486807         anticipées\n",
       "17523      2  0.112340         anticipées\n",
       "17523      3  0.187233         anticipées\n",
       "17523      4  0.149787         anticipées\n",
       "17523      5  0.074893         anticipées\n",
       "17887      1  0.612510   appauvrissements\n",
       "17887      4  0.122502   appauvrissements\n",
       "17887      5  0.245004   appauvrissements\n",
       "227        4  0.986149  artificialisation\n",
       "457        3  0.999064              autre\n",
       "395        1  0.998825             autres\n",
       "17372      1  0.364805          auuuuttre\n",
       "17372      3  0.364805          auuuuttre\n",
       "17372      4  0.364805          auuuuttre\n",
       "11         4  0.999969       biodiversité\n",
       "17577      1  0.233395             bitûme\n",
       "...      ...       ...                ...\n",
       "957        4  0.204856        surnatalité\n",
       "95         2  0.999981         sécheresse\n",
       "210        1  0.998766              temps\n",
       "508        3  0.999442              terre\n",
       "17866      1  0.348748       territoriale\n",
       "17866      2  0.116249       territoriale\n",
       "17866      3  0.348748       territoriale\n",
       "17866      5  0.116249       territoriale\n",
       "1240       3  0.997663             thèmes\n",
       "8112       1  0.197644               toit\n",
       "8112       2  0.197644               toit\n",
       "8112       3  0.197644               toit\n",
       "8112       4  0.197644               toit\n",
       "8112       5  0.395288               toit\n",
       "209        1  0.999247              toute\n",
       "285        1  0.999215             toutes\n",
       "193        5  0.993421          transport\n",
       "7128       1  0.111331       tremblements\n",
       "7128       2  0.222661       tremblements\n",
       "7128       3  0.667983       tremblements\n",
       "203        1  0.998697                vie\n",
       "114        3  0.997216           écologie\n",
       "338        1  0.999355            énergie\n",
       "277        5  0.997667           énergies\n",
       "6423       1  0.101677           épisodes\n",
       "6423       2  0.203355           épisodes\n",
       "6423       3  0.305032           épisodes\n",
       "6423       4  0.101677           épisodes\n",
       "6423       5  0.305032           épisodes\n",
       "137        2  0.998977            érosion\n",
       "\n",
       "[274 rows x 3 columns], R=30, lambda_step=0.01, plot_opts={'xlab': 'PC1', 'ylab': 'PC2'}, topic_order=[1, 4, 3, 5, 2])"
      ]
     },
     "execution_count": 22,
     "metadata": {},
     "output_type": "execute_result"
    }
   ],
   "source": [
    "pyLDAvis.enable_notebook()\n",
    "vis = pyLDAvis.gensim.prepare(lda_model, corpus, id2word)\n",
    "vis"
   ]
  },
  {
   "cell_type": "markdown",
   "metadata": {},
   "source": [
    "Problems column gave better results than the title which seems logic since it is the one that more probably contain problems."
   ]
  },
  {
   "cell_type": "markdown",
   "metadata": {
    "colab_type": "text",
    "id": "FeoV1jwgQtcE"
   },
   "source": [
    "## Topic Modeling For Problems response column\n",
    "\n"
   ]
  },
  {
   "cell_type": "code",
   "execution_count": 23,
   "metadata": {
    "colab": {
     "base_uri": "https://localhost:8080/",
     "height": 443
    },
    "colab_type": "code",
    "id": "MAFM04I8Qwkw",
    "outputId": "b790277e-b0a1-42f3-a32d-f9a4a97e99e7"
   },
   "outputs": [
    {
     "name": "stdout",
     "output_type": "stream",
     "text": [
      "[(0,\n",
      "  '0.023*\"transports\" + 0.018*\"développer\" + 0.016*\"transport\" + 0.016*\"taxer\" '\n",
      "  '+ 0.015*\"favoriser\" + 0.014*\"réduire\" + 0.014*\"consommation\" + '\n",
      "  '0.014*\"énergie\" + 0.013*\"entreprises\" + 0.013*\"énergies\"'),\n",
      " (1,\n",
      "  '0.013*\"pays\" + 0.012*\"environnement\" + 0.012*\"écologique\" + '\n",
      "  '0.010*\"transition\" + 0.010*\"niveau\" + 0.008*\"politique\" + 0.008*\"prendre\" + '\n",
      "  '0.007*\"contre\" + 0.007*\"planète\" + 0.006*\"rendre\"'),\n",
      " (2,\n",
      "  '0.044*\"produits\" + 0.028*\"interdire\" + 0.025*\"agriculture\" + '\n",
      "  '0.019*\"pesticides\" + 0.016*\"bio\" + 0.014*\"fran\" + 0.011*\"agriculteurs\" + '\n",
      "  '0.008*\"autres\" + 0.008*\"agricoles\" + 0.008*\"produit\"'),\n",
      " (3,\n",
      "  '0.016*\"arrêter\" + 0.015*\"eau\" + 0.014*\"villes\" + 0.011*\"pollution\" + '\n",
      "  '0.010*\"créer\" + 0.010*\"zones\" + 0.009*\"pollueurs\" + 0.009*\"nature\" + '\n",
      "  '0.009*\"ville\" + 0.008*\"grandes\"'),\n",
      " (4,\n",
      "  '0.011*\"voiture\" + 0.010*\"exemple\" + 0.009*\"donc\" + 0.009*\"pollution\" + '\n",
      "  '0.009*\"vie\" + 0.009*\"voitures\" + 0.008*\"changer\" + 0.008*\"france\" + '\n",
      "  '0.008*\"monde\" + 0.007*\"carbone\"')]\n",
      "\n",
      "Perplexity:  -8.542512439058116\n",
      "\n",
      "Coherence Score:  0.4306390990464897\n"
     ]
    }
   ],
   "source": [
    "data = list(cleaned_data['reponse_probleme'])\n",
    "lda_model, corpus, id2word = get_topics(data, n_topics=5)"
   ]
  },
  {
   "cell_type": "code",
   "execution_count": 25,
   "metadata": {},
   "outputs": [
    {
     "name": "stderr",
     "output_type": "stream",
     "text": [
      "/Users/siwarabbes/anaconda3/lib/python3.7/site-packages/pyLDAvis/_prepare.py:257: FutureWarning: Sorting because non-concatenation axis is not aligned. A future version\n",
      "of pandas will change to not sort by default.\n",
      "\n",
      "To accept the future behavior, pass 'sort=False'.\n",
      "\n",
      "To retain the current behavior and silence the warning, pass 'sort=True'.\n",
      "\n",
      "  return pd.concat([default_term_info] + list(topic_dfs))\n"
     ]
    },
    {
     "data": {
      "text/html": [
       "\n",
       "<link rel=\"stylesheet\" type=\"text/css\" href=\"https://cdn.rawgit.com/bmabey/pyLDAvis/files/ldavis.v1.0.0.css\">\n",
       "\n",
       "\n",
       "<div id=\"ldavis_el45671122380786165527213617\"></div>\n",
       "<script type=\"text/javascript\">\n",
       "\n",
       "var ldavis_el45671122380786165527213617_data = {\"mdsDat\": {\"x\": [0.12022776076344222, 0.11202643330804724, -0.08194274211066907, 0.20802375647806198, -0.3583352084388824], \"y\": [0.039864514481131784, -0.15100263330973607, -0.29867041736545624, 0.23747910371722775, 0.17232943247683277], \"topics\": [1, 2, 3, 4, 5], \"cluster\": [1, 1, 1, 1, 1], \"Freq\": [24.36937713623047, 24.26968002319336, 22.288782119750977, 15.658025741577148, 13.414139747619629]}, \"tinfo\": {\"Category\": [\"Default\", \"Default\", \"Default\", \"Default\", \"Default\", \"Default\", \"Default\", \"Default\", \"Default\", \"Default\", \"Default\", \"Default\", \"Default\", \"Default\", \"Default\", \"Default\", \"Default\", \"Default\", \"Default\", \"Default\", \"Default\", \"Default\", \"Default\", \"Default\", \"Default\", \"Default\", \"Default\", \"Default\", \"Default\", \"Default\", \"Topic1\", \"Topic1\", \"Topic1\", \"Topic1\", \"Topic1\", \"Topic1\", \"Topic1\", \"Topic1\", \"Topic1\", \"Topic1\", \"Topic1\", \"Topic1\", \"Topic1\", \"Topic1\", \"Topic1\", \"Topic1\", \"Topic1\", \"Topic1\", \"Topic1\", \"Topic1\", \"Topic1\", \"Topic1\", \"Topic1\", \"Topic1\", \"Topic1\", \"Topic1\", \"Topic1\", \"Topic1\", \"Topic1\", \"Topic1\", \"Topic1\", \"Topic1\", \"Topic1\", \"Topic1\", \"Topic1\", \"Topic1\", \"Topic2\", \"Topic2\", \"Topic2\", \"Topic2\", \"Topic2\", \"Topic2\", \"Topic2\", \"Topic2\", \"Topic2\", \"Topic2\", \"Topic2\", \"Topic2\", \"Topic2\", \"Topic2\", \"Topic2\", \"Topic2\", \"Topic2\", \"Topic2\", \"Topic2\", \"Topic2\", \"Topic2\", \"Topic2\", \"Topic2\", \"Topic2\", \"Topic2\", \"Topic2\", \"Topic2\", \"Topic2\", \"Topic2\", \"Topic2\", \"Topic2\", \"Topic2\", \"Topic2\", \"Topic2\", \"Topic2\", \"Topic2\", \"Topic2\", \"Topic2\", \"Topic2\", \"Topic3\", \"Topic3\", \"Topic3\", \"Topic3\", \"Topic3\", \"Topic3\", \"Topic3\", \"Topic3\", \"Topic3\", \"Topic3\", \"Topic3\", \"Topic3\", \"Topic3\", \"Topic3\", \"Topic3\", \"Topic3\", \"Topic3\", \"Topic3\", \"Topic3\", \"Topic3\", \"Topic3\", \"Topic3\", \"Topic3\", \"Topic3\", \"Topic3\", \"Topic3\", \"Topic3\", \"Topic3\", \"Topic3\", \"Topic3\", \"Topic3\", \"Topic3\", \"Topic3\", \"Topic3\", \"Topic3\", \"Topic3\", \"Topic3\", \"Topic3\", \"Topic3\", \"Topic3\", \"Topic3\", \"Topic4\", \"Topic4\", \"Topic4\", \"Topic4\", \"Topic4\", \"Topic4\", \"Topic4\", \"Topic4\", \"Topic4\", \"Topic4\", \"Topic4\", \"Topic4\", \"Topic4\", \"Topic4\", \"Topic4\", \"Topic4\", \"Topic4\", \"Topic4\", \"Topic4\", \"Topic4\", \"Topic4\", \"Topic4\", \"Topic4\", \"Topic4\", \"Topic4\", \"Topic4\", \"Topic4\", \"Topic4\", \"Topic4\", \"Topic4\", \"Topic4\", \"Topic4\", \"Topic4\", \"Topic4\", \"Topic4\", \"Topic4\", \"Topic4\", \"Topic4\", \"Topic5\", \"Topic5\", \"Topic5\", \"Topic5\", \"Topic5\", \"Topic5\", \"Topic5\", \"Topic5\", \"Topic5\", \"Topic5\", \"Topic5\", \"Topic5\", \"Topic5\", \"Topic5\", \"Topic5\", \"Topic5\", \"Topic5\", \"Topic5\", \"Topic5\", \"Topic5\", \"Topic5\", \"Topic5\", \"Topic5\", \"Topic5\", \"Topic5\", \"Topic5\", \"Topic5\", \"Topic5\", \"Topic5\", \"Topic5\", \"Topic5\", \"Topic5\", \"Topic5\", \"Topic5\", \"Topic5\", \"Topic5\", \"Topic5\"], \"Freq\": [14522.0, 12798.0, 9153.0, 8372.0, 9889.0, 8991.0, 8861.0, 6386.0, 8076.0, 7771.0, 8019.0, 6077.0, 7434.0, 5397.0, 5768.0, 6946.0, 5515.0, 7160.0, 6885.0, 8839.0, 6307.0, 9620.0, 4527.0, 8679.0, 6309.0, 6202.0, 6453.0, 5882.0, 5281.0, 5580.0, 6308.326171875, 5579.30908203125, 5445.52734375, 5308.77880859375, 4972.32763671875, 4556.205078125, 4238.33251953125, 3830.80126953125, 3519.58984375, 3467.9775390625, 3292.225341796875, 3228.298828125, 3249.43505859375, 3134.763671875, 3083.27001953125, 3039.23828125, 2900.03125, 2831.1201171875, 2825.392822265625, 2831.578857421875, 2746.478271484375, 2729.334716796875, 2726.99755859375, 2584.51904296875, 2571.92578125, 2528.37255859375, 2472.711669921875, 2461.92333984375, 2431.580810546875, 2403.958984375, 6229.79638671875, 3696.1923828125, 4110.95849609375, 5452.3330078125, 4681.89306640625, 3250.886962890625, 8018.9208984375, 7159.20556640625, 6884.240234375, 6201.32421875, 5881.75927734375, 4942.0400390625, 4172.22607421875, 4104.150390625, 3738.677001953125, 3629.69140625, 3600.7939453125, 3234.435791015625, 3000.7578125, 3030.479736328125, 2841.112548828125, 2624.158935546875, 2504.782958984375, 2506.3994140625, 2436.466552734375, 2387.781494140625, 2373.45556640625, 2376.008056640625, 2231.33349609375, 2236.879638671875, 2156.306884765625, 2124.3935546875, 2103.70556640625, 2072.722412109375, 2031.1773681640625, 2022.1341552734375, 4480.7099609375, 3404.573486328125, 2320.718017578125, 2542.1103515625, 2304.84423828125, 3478.086181640625, 3600.7236328125, 2486.765869140625, 2601.8203125, 12798.125, 9888.748046875, 8990.4541015625, 8860.3427734375, 8075.17724609375, 7770.75390625, 7433.84228515625, 6946.01806640625, 6307.02685546875, 5281.03173828125, 4326.58154296875, 4021.427978515625, 3747.65234375, 3738.183349609375, 3701.413818359375, 3413.87451171875, 3431.926513671875, 3380.25830078125, 3169.9404296875, 3178.541259765625, 3119.580322265625, 3102.625244140625, 2999.3798828125, 2969.075439453125, 2960.294677734375, 2952.836181640625, 2596.349853515625, 2457.680908203125, 2425.34033203125, 2310.89404296875, 6190.4208984375, 4207.94091796875, 7568.7138671875, 7147.19384765625, 5828.572265625, 5520.32861328125, 3274.9765625, 3344.758056640625, 3471.519775390625, 3521.128173828125, 3196.362548828125, 6077.03271484375, 5767.72509765625, 5514.16796875, 3999.84033203125, 3749.191650390625, 3603.046875, 3518.89013671875, 3468.748291015625, 3251.43115234375, 3022.345947265625, 2973.41357421875, 2634.05078125, 2587.538818359375, 2452.636474609375, 2181.09228515625, 2159.746337890625, 2118.02783203125, 2066.1982421875, 1919.7947998046875, 1905.517822265625, 1862.4947509765625, 1849.4168701171875, 1815.4090576171875, 1845.6064453125, 1783.066650390625, 1735.3192138671875, 1710.41162109375, 1612.600830078125, 1587.105224609375, 1496.1446533203125, 1687.9315185546875, 1975.4678955078125, 2936.9189453125, 4167.6875, 2280.59423828125, 2542.435546875, 2175.413330078125, 1974.2476806640625, 14521.814453125, 9152.884765625, 8371.5166015625, 6385.2734375, 5397.0361328125, 4526.8759765625, 3655.497802734375, 2518.742919921875, 2389.37255859375, 2346.06005859375, 2183.043701171875, 2165.402587890625, 2005.87353515625, 2025.1929931640625, 1973.165771484375, 1947.838134765625, 1866.0389404296875, 1722.951416015625, 1693.923583984375, 1642.427734375, 1601.7724609375, 1597.839599609375, 1579.3421630859375, 1515.2850341796875, 1509.915283203125, 1498.930419921875, 1329.6563720703125, 1269.5924072265625, 1225.780029296875, 1225.8123779296875, 1912.14453125, 2512.574462890625, 2706.049072265625, 1756.1358642578125, 2107.591064453125, 1611.7294921875, 1754.131591796875], \"Term\": [\"produits\", \"transports\", \"interdire\", \"agriculture\", \"d\\u00e9velopper\", \"transport\", \"taxer\", \"pesticides\", \"favoriser\", \"r\\u00e9duire\", \"pays\", \"arr\\u00eater\", \"\\u00e9nergie\", \"bio\", \"eau\", \"\\u00e9nergies\", \"villes\", \"environnement\", \"\\u00e9cologique\", \"consommation\", \"commun\", \"pollution\", \"fran\", \"entreprises\", \"voiture\", \"transition\", \"v\\u00e9hicules\", \"niveau\", \"d\\u00e9chets\", \"donc\", \"voiture\", \"donc\", \"vie\", \"voitures\", \"changer\", \"monde\", \"carbone\", \"citoyens\", \"ans\", \"impact\", \"travail\", \"beaucoup\", \"\\u00e9conomie\", \"\\u00e9lectriques\", \"temps\", \"industriels\", \"syst\\u00e8me\", \"ceux\", \"personnes\", \"taxes\", \"peu\", \"hui\", \"aujourd\", \"chauffage\", \"lieu\", \"mode\", \"diesel\", \"encore\", \"solution\", \"pourquoi\", \"exemple\", \"prix\", \"cette\", \"pollution\", \"france\", \"chaque\", \"pays\", \"environnement\", \"\\u00e9cologique\", \"transition\", \"niveau\", \"politique\", \"contre\", \"plan\\u00e8te\", \"rendre\", \"doivent\", \"\\u00e9cologie\", \"mesures\", \"climatique\", \"dont\", \"imposer\", \"\\u00e9conomique\", \"plan\", \"ressources\", \"compte\", \"changement\", \"politiques\", \"hydrog\\u00e8ne\", \"europe\", \"sens\", \"mod\\u00e8le\", \"projets\", \"\\u00e9chelle\", \"climat\", \"actions\", \"priorit\\u00e9\", \"prendre\", \"probl\\u00e8me\", \"mani\\u00e8re\", \"modes\", \"mise\", \"place\", \"mettre\", \"toute\", \"toutes\", \"transports\", \"d\\u00e9velopper\", \"transport\", \"taxer\", \"favoriser\", \"r\\u00e9duire\", \"\\u00e9nergie\", \"\\u00e9nergies\", \"commun\", \"d\\u00e9chets\", \"solutions\", \"animaux\", \"polluants\", \"nucl\\u00e9aire\", \"gaz\", \"camions\", \"effet\", \"diminuer\", \"renouvelables\", \"inciter\", \"\\u00e9missions\", \"b\", \"polluantes\", \"\\u00e9lectricit\\u00e9\", \"utiliser\", \"encourager\", \"emballages\", \"serre\", \"particuliers\", \"isolation\", \"v\\u00e9hicules\", \"co\", \"consommation\", \"entreprises\", \"production\", \"limiter\", \"recherche\", \"\\u00e9lectrique\", \"taxe\", \"mettre\", \"place\", \"arr\\u00eater\", \"eau\", \"villes\", \"cr\\u00e9er\", \"zones\", \"pollueurs\", \"nature\", \"ville\", \"grandes\", \"esp\\u00e8ces\", \"consommer\", \"terme\", \"d\\u00e9placements\", \"gros\", \"chasse\", \"territoire\", \"espaces\", \"v\\u00e9lo\", \"permettre\", \"marchandises\", \"respecter\", \"routes\", \"prot\\u00e9ger\", \"centrales\", \"industries\", \"petites\", \"proximit\\u00e9\", \"bateaux\", \"haies\", \"certaines\", \"protection\", \"grands\", \"biodiversit\\u00e9\", \"pollution\", \"air\", \"limiter\", \"toutes\", \"o\", \"produits\", \"interdire\", \"agriculture\", \"pesticides\", \"bio\", \"fran\", \"agriculteurs\", \"agricoles\", \"sant\\u00e9\", \"interdiction\", \"grande\", \"qualit\\u00e9\", \"agricole\", \"payer\", \"\\u00e9levage\", \"locaux\", \"chimiques\", \"vivre\", \"citoyen\", \"viande\", \"glyphosate\", \"voir\", \"arbres\", \"terres\", \"cesser\", \"locale\", \"durable\", \"usines\", \"p\\u00eache\", \"industrielle\", \"stopper\", \"produit\", \"autres\", \"local\", \"etc\", \"sols\", \"utilisation\"], \"Total\": [14522.0, 12798.0, 9153.0, 8372.0, 9889.0, 8991.0, 8861.0, 6386.0, 8076.0, 7771.0, 8019.0, 6077.0, 7434.0, 5397.0, 5768.0, 6946.0, 5515.0, 7160.0, 6885.0, 8839.0, 6307.0, 9620.0, 4527.0, 8679.0, 6309.0, 6202.0, 6453.0, 5882.0, 5281.0, 5580.0, 6309.17041015625, 5580.15283203125, 5446.37451171875, 5309.62548828125, 4973.1728515625, 4557.04931640625, 4239.1796875, 3831.64794921875, 3520.434814453125, 3468.82568359375, 3293.069580078125, 3229.141357421875, 3250.285888671875, 3135.610595703125, 3084.113525390625, 3040.09326171875, 2900.879638671875, 2831.965576171875, 2826.23779296875, 2832.428955078125, 2747.3212890625, 2730.177490234375, 2727.84033203125, 2585.366455078125, 2572.775146484375, 2529.2177734375, 2473.552490234375, 2462.766845703125, 2432.422119140625, 2404.7998046875, 7537.1123046875, 4328.21142578125, 5774.76513671875, 9620.662109375, 8927.1884765625, 5085.56787109375, 8019.76806640625, 7160.05078125, 6885.08251953125, 6202.16748046875, 5882.6025390625, 4942.88134765625, 4173.0732421875, 4104.99853515625, 3739.53564453125, 3630.537353515625, 3601.640380859375, 3235.280517578125, 3001.59912109375, 3031.33203125, 2841.96435546875, 2624.99853515625, 2505.625732421875, 2507.247314453125, 2437.31005859375, 2388.6240234375, 2374.294677734375, 2376.86865234375, 2232.175537109375, 2237.726318359375, 2157.15087890625, 2125.241455078125, 2104.549560546875, 2073.564453125, 2032.0164794921875, 2022.978271484375, 4901.4091796875, 3886.0244140625, 2411.55029296875, 3054.102294921875, 2568.579345703125, 6937.4951171875, 7595.81640625, 3622.306396484375, 5110.1787109375, 12798.9794921875, 9889.6015625, 8991.3076171875, 8861.1962890625, 8076.03173828125, 7771.60888671875, 7434.69287109375, 6946.869140625, 6307.88232421875, 5281.8876953125, 4327.44384765625, 4022.322265625, 3748.505615234375, 3739.037841796875, 3702.266357421875, 3414.7255859375, 3432.78564453125, 3381.111572265625, 3170.790771484375, 3179.39794921875, 3120.43212890625, 3103.481201171875, 3000.2333984375, 2969.93115234375, 2961.154052734375, 2953.694091796875, 2597.20361328125, 2458.5322265625, 2426.1953125, 2311.744873046875, 6453.43017578125, 4326.875, 8839.2822265625, 8679.7109375, 7082.56787109375, 8063.41455078125, 3839.70068359375, 4185.099609375, 5096.5029296875, 7595.81640625, 6937.4951171875, 6077.8916015625, 5768.58349609375, 5515.0224609375, 4000.703369140625, 3750.04345703125, 3603.90576171875, 3519.7451171875, 3469.60546875, 3252.28955078125, 3023.19775390625, 2974.280029296875, 2634.919921875, 2588.397705078125, 2453.498046875, 2181.943359375, 2160.605712890625, 2118.87841796875, 2067.058349609375, 1920.6591796875, 1906.3916015625, 1863.3505859375, 1850.2755126953125, 1816.2655029296875, 1846.479248046875, 1783.928466796875, 1736.184814453125, 1711.2747802734375, 1613.460693359375, 1587.95556640625, 1497.0045166015625, 1737.1888427734375, 2110.2646484375, 3779.4287109375, 9620.662109375, 3441.219482421875, 8063.41455078125, 5110.1787109375, 3327.472412109375, 14522.66015625, 9153.732421875, 8372.3623046875, 6386.1162109375, 5397.88037109375, 4527.7275390625, 3656.341552734375, 2519.589111328125, 2390.2216796875, 2346.905517578125, 2183.89599609375, 2166.255859375, 2006.7169189453125, 2026.0498046875, 1974.0126953125, 1948.6900634765625, 1866.87890625, 1723.8045654296875, 1694.7872314453125, 1643.2752685546875, 1602.615478515625, 1598.692626953125, 1580.191650390625, 1516.1312255859375, 1510.7642822265625, 1499.7791748046875, 1330.5076904296875, 1270.4493408203125, 1226.624267578125, 1226.6668701171875, 1987.7138671875, 2718.65087890625, 7524.5224609375, 2767.905517578125, 5293.2783203125, 2336.055419921875, 4473.181640625], \"loglift\": [30.0, 29.0, 28.0, 27.0, 26.0, 25.0, 24.0, 23.0, 22.0, 21.0, 20.0, 19.0, 18.0, 17.0, 16.0, 15.0, 14.0, 13.0, 12.0, 11.0, 10.0, 9.0, 8.0, 7.0, 6.0, 5.0, 4.0, 3.0, 2.0, 1.0, 1.4117000102996826, 1.4117000102996826, 1.4117000102996826, 1.4117000102996826, 1.4117000102996826, 1.4117000102996826, 1.4115999937057495, 1.4115999937057495, 1.4115999937057495, 1.4115999937057495, 1.4115999937057495, 1.4115999937057495, 1.4115999937057495, 1.4115999937057495, 1.4115999937057495, 1.4115999937057495, 1.4115999937057495, 1.4114999771118164, 1.4114999771118164, 1.4114999771118164, 1.4114999771118164, 1.4114999771118164, 1.4114999771118164, 1.4114999771118164, 1.4114999771118164, 1.4114999771118164, 1.4114999771118164, 1.4114999771118164, 1.4114999771118164, 1.4114999771118164, 1.2213000059127808, 1.253999948501587, 1.0720000267028809, 0.843999981880188, 0.7663999795913696, 0.9643999934196472, 1.4157999753952026, 1.4157999753952026, 1.4157999753952026, 1.4157999753952026, 1.4157999753952026, 1.4157999753952026, 1.4156999588012695, 1.4156999588012695, 1.4156999588012695, 1.4156999588012695, 1.4156999588012695, 1.4156999588012695, 1.4156999588012695, 1.4156999588012695, 1.4155999422073364, 1.4155999422073364, 1.4155999422073364, 1.4155999422073364, 1.4155999422073364, 1.4155999422073364, 1.4155999422073364, 1.4155999422073364, 1.4155999422073364, 1.4155999422073364, 1.4155999422073364, 1.4155000448226929, 1.4155000448226929, 1.4155000448226929, 1.4155000448226929, 1.4155000448226929, 1.326200008392334, 1.2836999893188477, 1.377500057220459, 1.2324999570846558, 1.3076000213623047, 0.7254999876022339, 0.6694999933242798, 1.0398000478744507, 0.7408999800682068, 1.5010000467300415, 1.5010000467300415, 1.5010000467300415, 1.5010000467300415, 1.5010000467300415, 1.5010000467300415, 1.5010000467300415, 1.5010000467300415, 1.5010000467300415, 1.5009000301361084, 1.5009000301361084, 1.5009000301361084, 1.5009000301361084, 1.5009000301361084, 1.5009000301361084, 1.5008000135421753, 1.5008000135421753, 1.5008000135421753, 1.5008000135421753, 1.5008000135421753, 1.5008000135421753, 1.5008000135421753, 1.5008000135421753, 1.5008000135421753, 1.5008000135421753, 1.5008000135421753, 1.5008000135421753, 1.5006999969482422, 1.5006999969482422, 1.5006999969482422, 1.4594999551773071, 1.4731999635696411, 1.345900058746338, 1.3068000078201294, 1.3062000274658203, 1.1222000122070312, 1.3420000076293945, 1.2769999504089355, 1.1171000003814697, 0.7322999835014343, 0.7261999845504761, 1.8539999723434448, 1.8539999723434448, 1.8539999723434448, 1.8539999723434448, 1.8539999723434448, 1.8538999557495117, 1.8538999557495117, 1.8538999557495117, 1.8538999557495117, 1.8538999557495117, 1.8538999557495117, 1.8538999557495117, 1.8538999557495117, 1.8538000583648682, 1.8538000583648682, 1.8538000583648682, 1.8538000583648682, 1.8538000583648682, 1.853700041770935, 1.853700041770935, 1.853700041770935, 1.853700041770935, 1.853700041770935, 1.853700041770935, 1.853700041770935, 1.853700041770935, 1.853700041770935, 1.853700041770935, 1.853700041770935, 1.853600025177002, 1.8253999948501587, 1.7882000207901, 1.6019999980926514, 1.0176000595092773, 1.4428000450134277, 0.699999988079071, 1.0002000331878662, 1.332200050354004, 2.0088000297546387, 2.0088000297546387, 2.0088000297546387, 2.008699893951416, 2.008699893951416, 2.008699893951416, 2.0085999965667725, 2.008500099182129, 2.008500099182129, 2.008500099182129, 2.008500099182129, 2.008500099182129, 2.0083999633789062, 2.0083999633789062, 2.0083999633789062, 2.0083999633789062, 2.0083999633789062, 2.0083999633789062, 2.0083999633789062, 2.0083000659942627, 2.0083000659942627, 2.0083000659942627, 2.0083000659942627, 2.0083000659942627, 2.0083000659942627, 2.0083000659942627, 2.00819993019104, 2.00819993019104, 2.00819993019104, 2.00819993019104, 1.9701000452041626, 1.9299999475479126, 0.9861999750137329, 1.5539000034332275, 1.0880000591278076, 1.6376999616622925, 1.072700023651123], \"logprob\": [30.0, 29.0, 28.0, 27.0, 26.0, 25.0, 24.0, 23.0, 22.0, 21.0, 20.0, 19.0, 18.0, 17.0, 16.0, 15.0, 14.0, 13.0, 12.0, 11.0, 10.0, 9.0, 8.0, 7.0, 6.0, 5.0, 4.0, 3.0, 2.0, 1.0, -4.55210018157959, -4.674900054931641, -4.699100017547607, -4.724599838256836, -4.79010009765625, -4.877500057220459, -4.94980001449585, -5.050899982452393, -5.1356000900268555, -5.150400161743164, -5.202400207519531, -5.2220001220703125, -5.2154998779296875, -5.251399993896484, -5.267899990081787, -5.282299995422363, -5.32919979095459, -5.353300094604492, -5.355299949645996, -5.353099822998047, -5.383600234985352, -5.389900207519531, -5.390699863433838, -5.444399833679199, -5.4492998123168945, -5.466400146484375, -5.48859977722168, -5.493000030517578, -5.50540018081665, -5.5167999267578125, -4.564599990844727, -5.086599826812744, -4.980299949645996, -4.69789981842041, -4.850200176239014, -5.215000152587891, -4.308000087738037, -4.42140007019043, -4.460599899291992, -4.565100193023682, -4.618000030517578, -4.792099952697754, -4.961400032043457, -4.977799892425537, -5.071100234985352, -5.1006999015808105, -5.108699798583984, -5.216000080108643, -5.290999889373779, -5.281099796295166, -5.345600128173828, -5.425099849700928, -5.47160005569458, -5.4710001945495605, -5.499300003051758, -5.519499778747559, -5.5254998207092285, -5.524400234222412, -5.587200164794922, -5.584799766540527, -5.621399879455566, -5.63640022277832, -5.646100044250488, -5.660999774932861, -5.68120002746582, -5.685699939727783, -4.890100002288818, -5.164700031280518, -5.547999858856201, -5.4567999839782715, -5.554800033569336, -5.143400192260742, -5.108699798583984, -5.478899955749512, -5.433599948883057, -3.7553999423980713, -4.013299942016602, -4.108500003814697, -4.1230998039245605, -4.21589994430542, -4.254300117492676, -4.298699855804443, -4.366499900817871, -4.4629998207092285, -4.640600204467773, -4.839900016784668, -4.913099765777588, -4.98360013961792, -4.986100196838379, -4.995999813079834, -5.0767998695373535, -5.071599960327148, -5.086699962615967, -5.151000022888184, -5.1483001708984375, -5.166999816894531, -5.172399997711182, -5.206299781799316, -5.216400146484375, -5.219399929046631, -5.22189998626709, -5.350599765777588, -5.4054999351501465, -5.418700218200684, -5.467100143432617, -4.4816999435424805, -4.867700099945068, -4.280700206756592, -4.3379998207092285, -4.541900157928467, -4.59630012512207, -5.1184000968933105, -5.097300052642822, -5.060100078582764, -5.045899868011475, -5.1427001953125, -4.14709997177124, -4.1992998123168945, -4.24429988861084, -4.565299987792969, -4.630099773406982, -4.6697998046875, -4.69350004196167, -4.707799911499023, -4.772500038146973, -4.845600128173828, -4.8618998527526855, -4.983099937438965, -5.000899791717529, -5.0543999671936035, -5.171800136566162, -5.181600093841553, -5.201099872589111, -5.225900173187256, -5.2993998527526855, -5.30679988861084, -5.329699993133545, -5.336699962615967, -5.355299949645996, -5.338799953460693, -5.373300075531006, -5.400400161743164, -5.414899826049805, -5.473700046539307, -5.489699840545654, -5.548699855804443, -5.428100109100342, -5.2708001136779785, -4.874199867248535, -4.524199962615967, -5.127200126647949, -5.018499851226807, -5.1743998527526855, -5.271399974822998, -3.121299982070923, -3.582900047302246, -3.672100067138672, -3.9428999423980713, -4.111100196838379, -4.286900043487549, -4.500699996948242, -4.873199939727783, -4.925899982452393, -4.944200038909912, -5.016200065612793, -5.0243000984191895, -5.100800037384033, -5.091300010681152, -5.117300033569336, -5.130199909210205, -5.173099994659424, -5.252900123596191, -5.269899845123291, -5.3007001876831055, -5.325799942016602, -5.3282999992370605, -5.339900016784668, -5.38129997253418, -5.384900093078613, -5.392199993133545, -5.51200008392334, -5.558199882507324, -5.593299865722656, -5.593299865722656, -5.14870023727417, -4.8755998611450195, -4.801400184631348, -5.233799934387207, -5.051400184631348, -5.3196001052856445, -5.234899997711182]}, \"token.table\": {\"Topic\": [2, 5, 5, 5, 5, 1, 4, 3, 1, 5, 4, 1, 1, 2, 3, 4, 5, 3, 4, 1, 5, 2, 4, 5, 3, 1, 4, 4, 5, 1, 2, 1, 2, 1, 1, 2, 4, 1, 5, 5, 1, 2, 2, 1, 3, 3, 2, 2, 3, 4, 2, 4, 1, 3, 2, 1, 2, 5, 3, 4, 3, 4, 3, 3, 1, 3, 2, 3, 2, 4, 4, 2, 3, 4, 5, 2, 1, 2, 3, 3, 5, 1, 2, 3, 3, 5, 5, 4, 4, 5, 4, 4, 1, 2, 1, 2, 3, 5, 1, 4, 5, 5, 3, 1, 3, 4, 3, 5, 5, 5, 2, 3, 4, 2, 2, 3, 4, 2, 4, 1, 2, 4, 2, 1, 4, 2, 3, 2, 4, 3, 5, 2, 4, 1, 5, 4, 1, 2, 3, 4, 2, 2, 2, 2, 3, 3, 4, 1, 4, 1, 1, 2, 2, 1, 3, 1, 2, 3, 5, 3, 5, 5, 2, 2, 4, 4, 4, 5, 5, 2, 3, 2, 3, 4, 2, 4, 3, 5, 2, 3, 4, 5, 1, 3, 4, 5, 1, 1, 3, 3, 1, 1, 4, 5, 4, 1, 2, 4, 2, 3, 4, 2, 3, 3, 1, 5, 3, 5, 3, 5, 1, 4, 4, 5, 5, 1, 1, 1, 3, 4, 4, 2, 2, 2, 1, 2, 3, 1, 3, 1, 5, 3, 3, 3], \"Freq\": [0.9994997978210449, 0.9996427297592163, 0.9997661709785461, 0.9996330738067627, 0.9999567270278931, 0.33708980679512024, 0.6628463864326477, 0.9996712803840637, 0.9998764991760254, 0.9992458820343018, 0.9998533129692078, 0.9996919631958008, 0.3197545111179352, 0.2906496822834015, 0.00890421960502863, 0.02099801041185856, 0.35962414741516113, 0.9998449683189392, 0.9997144937515259, 0.9996465444564819, 0.9998369216918945, 0.054505590349435806, 0.7771015763282776, 0.16827939450740814, 0.9997875094413757, 0.9997217059135437, 0.999740481376648, 0.9993289709091187, 0.9994941353797913, 0.7118903994560242, 0.28797706961631775, 0.9996590614318848, 0.9997387528419495, 0.9997641444206238, 0.6392599940299988, 0.3606283664703369, 0.9995676279067993, 0.9998582601547241, 0.9995291829109192, 0.9995355010032654, 0.9998309016227722, 0.9997277855873108, 0.9998003840446472, 0.027271414175629616, 0.9725263714790344, 0.9998601078987122, 0.9994624853134155, 0.14367681741714478, 0.8562912344932556, 0.9995696544647217, 0.9997428059577942, 0.9998241662979126, 0.9997766613960266, 0.999671220779419, 0.9998520016670227, 0.9997934103012085, 0.9995605945587158, 0.999618411064148, 0.9998319149017334, 0.999846339225769, 0.9999391436576843, 0.9998988509178162, 0.9997711181640625, 0.9995365738868713, 0.9996886253356934, 0.9997650384902954, 0.17650356888771057, 0.8234145045280457, 0.999853253364563, 0.9995854496955872, 0.999603807926178, 0.10711698234081268, 0.32418471574783325, 0.17040479183197021, 0.39824092388153076, 0.9994733929634094, 0.8265765309333801, 0.034761324524879456, 0.13864725828170776, 0.9998722672462463, 0.9998393058776855, 0.5244652628898621, 0.24856649339199066, 0.22694715857505798, 0.999657928943634, 0.9996159672737122, 0.999589741230011, 0.9996035099029541, 0.9359015822410583, 0.06349914520978928, 0.999796986579895, 0.9993982315063477, 0.9995687007904053, 0.9996345639228821, 0.9997619986534119, 0.9996606707572937, 0.9998748302459717, 0.9994563460350037, 0.9996404051780701, 0.9994795322418213, 0.9996141791343689, 0.9999200105667114, 0.9996777772903442, 0.9996986985206604, 0.6845735311508179, 0.31525105237960815, 0.365258127450943, 0.6344147324562073, 0.9994804859161377, 0.9996458888053894, 0.9624513983726501, 0.03732039034366608, 0.999794602394104, 0.9996042251586914, 0.4740767478942871, 0.463544636964798, 0.06240277364850044, 0.8973832130432129, 0.10239122807979584, 0.9995185136795044, 0.8323231339454651, 0.16731594502925873, 0.9994664788246155, 0.9997697472572327, 0.9997882843017578, 0.9998975992202759, 0.999722421169281, 0.40661492943763733, 0.5932430624961853, 0.9995073080062866, 0.9994818568229675, 0.999904215335846, 0.9996567964553833, 0.9995620250701904, 0.9998252391815186, 0.9993175864219666, 0.9995190501213074, 0.5013337135314941, 0.46068501472473145, 0.03790993615984917, 0.9997502565383911, 0.9997567534446716, 0.9998217225074768, 0.9994547367095947, 0.9995889067649841, 0.9998651146888733, 0.9997486472129822, 0.5666969418525696, 0.43323421478271484, 0.9996674060821533, 0.08568964153528214, 0.9142268896102905, 0.9995164275169373, 0.8539323806762695, 0.14578770101070404, 0.1237768828868866, 0.8762168288230896, 0.8230065703392029, 0.17691323161125183, 0.0754050463438034, 0.9243555665016174, 0.9999545216560364, 0.9994158744812012, 0.028206489980220795, 0.9716848134994507, 0.9993032217025757, 0.9992550611495972, 0.9994910955429077, 0.9994202852249146, 0.1468864530324936, 0.8529310822486877, 0.9998567700386047, 0.9997506141662598, 0.9992752075195312, 0.9995025396347046, 0.9993106126785278, 0.9999216794967651, 0.999488890171051, 0.9996753931045532, 0.9997835159301758, 0.3099241554737091, 0.6900521516799927, 0.9998264908790588, 0.9998974204063416, 0.03773178905248642, 0.9619090557098389, 0.9996967911720276, 0.31864985823631287, 0.6812514662742615, 0.9998649954795837, 0.9998485445976257, 0.9996389746665955, 0.9996508955955505, 0.9992538690567017, 0.9997196793556213, 0.07453814148902893, 0.6865791082382202, 0.238798126578331, 0.5091798305511475, 0.06516405940055847, 0.4256211221218109, 0.9998117685317993, 0.999854564666748, 0.9999234676361084, 0.9996752142906189, 0.9996463060379028, 0.6076211929321289, 0.39211463928222656, 0.9996102452278137, 0.9992239475250244, 0.9999312162399292, 0.9998254776000977, 0.9998146295547485, 0.9995332360267639, 0.9995667338371277, 0.999814510345459, 0.9998822212219238, 0.040598563849925995, 0.9591798186302185, 0.9994879961013794, 0.9997217655181885, 0.999738872051239, 0.999822199344635, 0.9998427629470825, 0.9996044039726257, 0.9996196031570435, 0.9996864795684814, 0.20071206986904144, 0.799264132976532, 0.9998052716255188, 0.9994869828224182, 0.9998615384101868, 0.9999067783355713, 0.9998748898506165], \"Term\": [\"actions\", \"agricole\", \"agricoles\", \"agriculteurs\", \"agriculture\", \"air\", \"air\", \"animaux\", \"ans\", \"arbres\", \"arr\\u00eater\", \"aujourd\", \"autres\", \"autres\", \"autres\", \"autres\", \"autres\", \"b\", \"bateaux\", \"beaucoup\", \"bio\", \"biodiversit\\u00e9\", \"biodiversit\\u00e9\", \"biodiversit\\u00e9\", \"camions\", \"carbone\", \"centrales\", \"certaines\", \"cesser\", \"cette\", \"cette\", \"ceux\", \"changement\", \"changer\", \"chaque\", \"chaque\", \"chasse\", \"chauffage\", \"chimiques\", \"citoyen\", \"citoyens\", \"climat\", \"climatique\", \"co\", \"co\", \"commun\", \"compte\", \"consommation\", \"consommation\", \"consommer\", \"contre\", \"cr\\u00e9er\", \"diesel\", \"diminuer\", \"doivent\", \"donc\", \"dont\", \"durable\", \"d\\u00e9chets\", \"d\\u00e9placements\", \"d\\u00e9velopper\", \"eau\", \"effet\", \"emballages\", \"encore\", \"encourager\", \"entreprises\", \"entreprises\", \"environnement\", \"espaces\", \"esp\\u00e8ces\", \"etc\", \"etc\", \"etc\", \"etc\", \"europe\", \"exemple\", \"exemple\", \"exemple\", \"favoriser\", \"fran\", \"france\", \"france\", \"france\", \"gaz\", \"glyphosate\", \"grande\", \"grandes\", \"grands\", \"grands\", \"gros\", \"haies\", \"hui\", \"hydrog\\u00e8ne\", \"impact\", \"imposer\", \"inciter\", \"industrielle\", \"industriels\", \"industries\", \"interdiction\", \"interdire\", \"isolation\", \"lieu\", \"limiter\", \"limiter\", \"local\", \"local\", \"locale\", \"locaux\", \"mani\\u00e8re\", \"mani\\u00e8re\", \"marchandises\", \"mesures\", \"mettre\", \"mettre\", \"mettre\", \"mise\", \"mise\", \"mode\", \"modes\", \"modes\", \"mod\\u00e8le\", \"monde\", \"nature\", \"niveau\", \"nucl\\u00e9aire\", \"o\", \"o\", \"particuliers\", \"payer\", \"pays\", \"permettre\", \"personnes\", \"pesticides\", \"petites\", \"peu\", \"place\", \"place\", \"place\", \"plan\", \"plan\\u00e8te\", \"politique\", \"politiques\", \"polluantes\", \"polluants\", \"pollueurs\", \"pollution\", \"pollution\", \"pourquoi\", \"prendre\", \"prendre\", \"priorit\\u00e9\", \"prix\", \"prix\", \"probl\\u00e8me\", \"probl\\u00e8me\", \"production\", \"production\", \"produit\", \"produit\", \"produits\", \"projets\", \"protection\", \"protection\", \"prot\\u00e9ger\", \"proximit\\u00e9\", \"p\\u00eache\", \"qualit\\u00e9\", \"recherche\", \"recherche\", \"rendre\", \"renouvelables\", \"respecter\", \"ressources\", \"routes\", \"r\\u00e9duire\", \"sant\\u00e9\", \"sens\", \"serre\", \"sols\", \"sols\", \"solution\", \"solutions\", \"stopper\", \"stopper\", \"syst\\u00e8me\", \"taxe\", \"taxe\", \"taxer\", \"taxes\", \"temps\", \"terme\", \"terres\", \"territoire\", \"toute\", \"toute\", \"toute\", \"toutes\", \"toutes\", \"toutes\", \"transition\", \"transport\", \"transports\", \"travail\", \"usines\", \"utilisation\", \"utilisation\", \"utiliser\", \"viande\", \"vie\", \"ville\", \"villes\", \"vivre\", \"voir\", \"voiture\", \"voitures\", \"v\\u00e9hicules\", \"v\\u00e9hicules\", \"v\\u00e9lo\", \"zones\", \"\\u00e9chelle\", \"\\u00e9cologie\", \"\\u00e9cologique\", \"\\u00e9conomie\", \"\\u00e9conomique\", \"\\u00e9lectricit\\u00e9\", \"\\u00e9lectrique\", \"\\u00e9lectrique\", \"\\u00e9lectriques\", \"\\u00e9levage\", \"\\u00e9missions\", \"\\u00e9nergie\", \"\\u00e9nergies\"]}, \"R\": 30, \"lambda.step\": 0.01, \"plot.opts\": {\"xlab\": \"PC1\", \"ylab\": \"PC2\"}, \"topic.order\": [5, 2, 1, 4, 3]};\n",
       "\n",
       "function LDAvis_load_lib(url, callback){\n",
       "  var s = document.createElement('script');\n",
       "  s.src = url;\n",
       "  s.async = true;\n",
       "  s.onreadystatechange = s.onload = callback;\n",
       "  s.onerror = function(){console.warn(\"failed to load library \" + url);};\n",
       "  document.getElementsByTagName(\"head\")[0].appendChild(s);\n",
       "}\n",
       "\n",
       "if(typeof(LDAvis) !== \"undefined\"){\n",
       "   // already loaded: just create the visualization\n",
       "   !function(LDAvis){\n",
       "       new LDAvis(\"#\" + \"ldavis_el45671122380786165527213617\", ldavis_el45671122380786165527213617_data);\n",
       "   }(LDAvis);\n",
       "}else if(typeof define === \"function\" && define.amd){\n",
       "   // require.js is available: use it to load d3/LDAvis\n",
       "   require.config({paths: {d3: \"https://cdnjs.cloudflare.com/ajax/libs/d3/3.5.5/d3.min\"}});\n",
       "   require([\"d3\"], function(d3){\n",
       "      window.d3 = d3;\n",
       "      LDAvis_load_lib(\"https://cdn.rawgit.com/bmabey/pyLDAvis/files/ldavis.v1.0.0.js\", function(){\n",
       "        new LDAvis(\"#\" + \"ldavis_el45671122380786165527213617\", ldavis_el45671122380786165527213617_data);\n",
       "      });\n",
       "    });\n",
       "}else{\n",
       "    // require.js not available: dynamically load d3 & LDAvis\n",
       "    LDAvis_load_lib(\"https://cdnjs.cloudflare.com/ajax/libs/d3/3.5.5/d3.min.js\", function(){\n",
       "         LDAvis_load_lib(\"https://cdn.rawgit.com/bmabey/pyLDAvis/files/ldavis.v1.0.0.js\", function(){\n",
       "                 new LDAvis(\"#\" + \"ldavis_el45671122380786165527213617\", ldavis_el45671122380786165527213617_data);\n",
       "            })\n",
       "         });\n",
       "}\n",
       "</script>"
      ],
      "text/plain": [
       "PreparedData(topic_coordinates=              x         y  topics  cluster       Freq\n",
       "topic                                                \n",
       "4      0.120228  0.039865       1        1  24.369377\n",
       "1      0.112026 -0.151003       2        1  24.269680\n",
       "0     -0.081943 -0.298670       3        1  22.288782\n",
       "3      0.208024  0.237479       4        1  15.658026\n",
       "2     -0.358335  0.172329       5        1  13.414140, topic_info=     Category          Freq           Term         Total  loglift  logprob\n",
       "term                                                                      \n",
       "457   Default  14522.000000       produits  14522.000000  30.0000  30.0000\n",
       "234   Default  12798.000000     transports  12798.000000  29.0000  29.0000\n",
       "371   Default   9153.000000      interdire   9153.000000  28.0000  28.0000\n",
       "259   Default   8372.000000    agriculture   8372.000000  27.0000  27.0000\n",
       "665   Default   9889.000000     développer   9889.000000  26.0000  26.0000\n",
       "233   Default   8991.000000      transport   8991.000000  25.0000  25.0000\n",
       "105   Default   8861.000000          taxer   8861.000000  24.0000  24.0000\n",
       "278   Default   6386.000000     pesticides   6386.000000  23.0000  23.0000\n",
       "447   Default   8076.000000      favoriser   8076.000000  22.0000  22.0000\n",
       "217   Default   7771.000000        réduire   7771.000000  21.0000  21.0000\n",
       "70    Default   8019.000000           pays   8019.000000  20.0000  20.0000\n",
       "261   Default   6077.000000        arrêter   6077.000000  19.0000  19.0000\n",
       "254   Default   7434.000000        énergie   7434.000000  18.0000  18.0000\n",
       "405   Default   5397.000000            bio   5397.000000  17.0000  17.0000\n",
       "37    Default   5768.000000            eau   5768.000000  16.0000  16.0000\n",
       "342   Default   6946.000000       énergies   6946.000000  15.0000  15.0000\n",
       "518   Default   5515.000000         villes   5515.000000  14.0000  14.0000\n",
       "421   Default   7160.000000  environnement   7160.000000  13.0000  13.0000\n",
       "443   Default   6885.000000     écologique   6885.000000  12.0000  12.0000\n",
       "24    Default   8839.000000   consommation   8839.000000  11.0000  11.0000\n",
       "140   Default   6307.000000         commun   6307.000000  10.0000  10.0000\n",
       "377   Default   9620.000000      pollution   9620.000000   9.0000   9.0000\n",
       "43    Default   4527.000000           fran   4527.000000   8.0000   8.0000\n",
       "100   Default   8679.000000    entreprises   8679.000000   7.0000   7.0000\n",
       "440   Default   6309.000000        voiture   6309.000000   6.0000   6.0000\n",
       "528   Default   6202.000000     transition   6202.000000   5.0000   5.0000\n",
       "519   Default   6453.000000      véhicules   6453.000000   4.0000   4.0000\n",
       "187   Default   5882.000000         niveau   5882.000000   3.0000   3.0000\n",
       "324   Default   5281.000000        déchets   5281.000000   2.0000   2.0000\n",
       "417   Default   5580.000000           donc   5580.000000   1.0000   1.0000\n",
       "...       ...           ...            ...           ...      ...      ...\n",
       "1544   Topic5   2518.742920      agricoles   2519.589111   2.0085  -4.8732\n",
       "287    Topic5   2389.372559          santé   2390.221680   2.0085  -4.9259\n",
       "1472   Topic5   2346.060059   interdiction   2346.905518   2.0085  -4.9442\n",
       "1142   Topic5   2183.043701         grande   2183.895996   2.0085  -5.0162\n",
       "1107   Topic5   2165.402588        qualité   2166.255859   2.0085  -5.0243\n",
       "106    Topic5   2005.873535       agricole   2006.716919   2.0084  -5.1008\n",
       "313    Topic5   2025.192993          payer   2026.049805   2.0084  -5.0913\n",
       "1437   Topic5   1973.165771        élevage   1974.012695   2.0084  -5.1173\n",
       "742    Topic5   1947.838135         locaux   1948.690063   2.0084  -5.1302\n",
       "1469   Topic5   1866.038940      chimiques   1866.878906   2.0084  -5.1731\n",
       "90     Topic5   1722.951416          vivre   1723.804565   2.0084  -5.2529\n",
       "1134   Topic5   1693.923584        citoyen   1694.787231   2.0084  -5.2699\n",
       "741    Topic5   1642.427734         viande   1643.275269   2.0083  -5.3007\n",
       "270    Topic5   1601.772461     glyphosate   1602.615479   2.0083  -5.3258\n",
       "1145   Topic5   1597.839600           voir   1598.692627   2.0083  -5.3283\n",
       "1547   Topic5   1579.342163         arbres   1580.191650   2.0083  -5.3399\n",
       "86     Topic5   1515.285034         terres   1516.131226   2.0083  -5.3813\n",
       "900    Topic5   1509.915283         cesser   1510.764282   2.0083  -5.3849\n",
       "453    Topic5   1498.930420         locale   1499.779175   2.0083  -5.3922\n",
       "264    Topic5   1329.656372        durable   1330.507690   2.0082  -5.5120\n",
       "1144   Topic5   1269.592407         usines   1270.449341   2.0082  -5.5582\n",
       "1434   Topic5   1225.780029          pêche   1226.624268   2.0082  -5.5933\n",
       "2159   Topic5   1225.812378   industrielle   1226.666870   2.0082  -5.5933\n",
       "1998   Topic5   1912.144531        stopper   1987.713867   1.9701  -5.1487\n",
       "338    Topic5   2512.574463        produit   2718.650879   1.9300  -4.8756\n",
       "125    Topic5   2706.049072         autres   7524.522461   0.9862  -4.8014\n",
       "668    Topic5   1756.135864          local   2767.905518   1.5539  -5.2338\n",
       "39     Topic5   2107.591064            etc   5293.278320   1.0880  -5.0514\n",
       "1851   Topic5   1611.729492           sols   2336.055420   1.6377  -5.3196\n",
       "340    Topic5   1754.131592    utilisation   4473.181641   1.0727  -5.2349\n",
       "\n",
       "[221 rows x 6 columns], token_table=      Topic      Freq          Term\n",
       "term                               \n",
       "2212      2  0.999500       actions\n",
       "106       5  0.999643      agricole\n",
       "1544      5  0.999766     agricoles\n",
       "258       5  0.999633  agriculteurs\n",
       "259       5  0.999957   agriculture\n",
       "1277      1  0.337090           air\n",
       "1277      4  0.662846           air\n",
       "493       3  0.999671       animaux\n",
       "119       1  0.999876           ans\n",
       "1547      5  0.999246        arbres\n",
       "261       4  0.999853       arrêter\n",
       "121       1  0.999692       aujourd\n",
       "125       1  0.319755        autres\n",
       "125       2  0.290650        autres\n",
       "125       3  0.008904        autres\n",
       "125       4  0.020998        autres\n",
       "125       5  0.359624        autres\n",
       "320       3  0.999845             b\n",
       "99        4  0.999714       bateaux\n",
       "130       1  0.999647      beaucoup\n",
       "405       5  0.999837           bio\n",
       "11        2  0.054506  biodiversité\n",
       "11        4  0.777102  biodiversité\n",
       "11        5  0.168279  biodiversité\n",
       "677       3  0.999788       camions\n",
       "479       1  0.999722       carbone\n",
       "315       4  0.999740     centrales\n",
       "1597      4  0.999329     certaines\n",
       "900       5  0.999494        cesser\n",
       "15        1  0.711890         cette\n",
       "...     ...       ...           ...\n",
       "235       1  0.999675       travail\n",
       "1144      5  0.999646        usines\n",
       "340       3  0.607621   utilisation\n",
       "340       5  0.392115   utilisation\n",
       "240       3  0.999610      utiliser\n",
       "741       5  0.999224        viande\n",
       "111       1  0.999931           vie\n",
       "543       4  0.999825         ville\n",
       "518       4  0.999815        villes\n",
       "90        5  0.999533         vivre\n",
       "1145      5  0.999567          voir\n",
       "440       1  0.999815       voiture\n",
       "441       1  0.999882      voitures\n",
       "519       1  0.040599     véhicules\n",
       "519       3  0.959180     véhicules\n",
       "3479      4  0.999488          vélo\n",
       "1714      4  0.999722         zones\n",
       "731       2  0.999739       échelle\n",
       "442       2  0.999822      écologie\n",
       "443       2  0.999843    écologique\n",
       "112       1  0.999604      économie\n",
       "659       2  0.999620    économique\n",
       "899       3  0.999686   électricité\n",
       "444       1  0.200712    électrique\n",
       "444       3  0.799264    électrique\n",
       "445       1  0.999805   électriques\n",
       "1437      5  0.999487       élevage\n",
       "306       3  0.999862     émissions\n",
       "254       3  0.999907       énergie\n",
       "342       3  0.999875      énergies\n",
       "\n",
       "[234 rows x 3 columns], R=30, lambda_step=0.01, plot_opts={'xlab': 'PC1', 'ylab': 'PC2'}, topic_order=[5, 2, 1, 4, 3])"
      ]
     },
     "execution_count": 25,
     "metadata": {},
     "output_type": "execute_result"
    }
   ],
   "source": [
    "pyLDAvis.enable_notebook()\n",
    "vis = pyLDAvis.gensim.prepare(lda_model, corpus, id2word)\n",
    "vis"
   ]
  },
  {
   "cell_type": "markdown",
   "metadata": {},
   "source": [
    "After constructing topics using different columns, 'problems' column gave the best results and the most understandable topics. Added to that it had the best coherence factor."
   ]
  },
  {
   "cell_type": "markdown",
   "metadata": {},
   "source": [
    "## Topic modeling for grouped not lemmatized problems :"
   ]
  },
  {
   "cell_type": "code",
   "execution_count": 51,
   "metadata": {},
   "outputs": [
    {
     "name": "stdout",
     "output_type": "stream",
     "text": [
      "[(0,\n",
      "  '0.007*\"fran\" + 0.005*\"ais\" + 0.005*\"france\" + 0.005*\"pays\" + '\n",
      "  '0.005*\"écologique\" + 0.004*\"état\" + 0.004*\"transition\" + 0.004*\"animaux\" + '\n",
      "  '0.004*\"comment\" + 0.004*\"taxe\"'),\n",
      " (1,\n",
      "  '0.208*\"biodiversité\" + 0.200*\"disparition\" + 0.196*\"espèces\" + '\n",
      "  '0.190*\"certaines\" + 0.002*\"chasse\" + 0.002*\"hiérarchiser\" + '\n",
      "  '0.002*\"phénomènes\" + 0.002*\"surexploitation\" + 0.001*\"pense\" + '\n",
      "  '0.001*\"faune\"'),\n",
      " (2,\n",
      "  '0.092*\"climatiques\" + 0.091*\"dérèglements\" + 0.088*\"sécheresse\" + '\n",
      "  '0.088*\"crue\" + 0.083*\"pollution\" + 0.074*\"air\" + 0.009*\"problèmes\" + '\n",
      "  '0.008*\"climatique\" + 0.006*\"eau\" + 0.006*\"toutes\"'),\n",
      " (3,\n",
      "  '0.011*\"ans\" + 0.006*\"celui\" + 0.006*\"depuis\" + 0.006*\"dont\" + '\n",
      "  '0.006*\"produit\" + 0.005*\"donner\" + 0.005*\"cas\" + 0.005*\"milliards\" + '\n",
      "  '0.005*\"nucléaires\" + 0.004*\"france\"')]\n",
      "\n",
      "Perplexity:  -5.829700346300796\n",
      "\n",
      "Coherence Score:  0.39745972159730875\n"
     ]
    }
   ],
   "source": [
    "grouped_problems = grouped_data['problems']\n",
    "grouped_problems.fillna('',inplace=True)\n",
    "lda_model, corpus, id2word = get_topics(grouped_problems, n_topics=4)"
   ]
  },
  {
   "cell_type": "code",
   "execution_count": 52,
   "metadata": {
    "colab": {},
    "colab_type": "code",
    "id": "vf0n1VcJQ1nx"
   },
   "outputs": [
    {
     "name": "stderr",
     "output_type": "stream",
     "text": [
      "/Users/siwarabbes/anaconda3/lib/python3.7/site-packages/pyLDAvis/_prepare.py:257: FutureWarning: Sorting because non-concatenation axis is not aligned. A future version\n",
      "of pandas will change to not sort by default.\n",
      "\n",
      "To accept the future behavior, pass 'sort=False'.\n",
      "\n",
      "To retain the current behavior and silence the warning, pass 'sort=True'.\n",
      "\n",
      "  return pd.concat([default_term_info] + list(topic_dfs))\n"
     ]
    },
    {
     "data": {
      "text/html": [
       "\n",
       "<link rel=\"stylesheet\" type=\"text/css\" href=\"https://cdn.rawgit.com/bmabey/pyLDAvis/files/ldavis.v1.0.0.css\">\n",
       "\n",
       "\n",
       "<div id=\"ldavis_el45671123415963448385367138\"></div>\n",
       "<script type=\"text/javascript\">\n",
       "\n",
       "var ldavis_el45671123415963448385367138_data = {\"mdsDat\": {\"x\": [-0.27450167456216634, 0.3569685799718944, -0.05788283217811318, -0.024584073231614986], \"y\": [0.24497249437165752, 0.14474463968681403, -0.1800438534501988, -0.20967328060827267], \"topics\": [1, 2, 3, 4], \"cluster\": [1, 1, 1, 1], \"Freq\": [65.98966217041016, 20.859981536865234, 8.070568084716797, 5.0797905921936035]}, \"tinfo\": {\"Category\": [\"Default\", \"Default\", \"Default\", \"Default\", \"Default\", \"Default\", \"Default\", \"Default\", \"Default\", \"Default\", \"Default\", \"Default\", \"Default\", \"Default\", \"Default\", \"Default\", \"Default\", \"Default\", \"Default\", \"Default\", \"Default\", \"Default\", \"Default\", \"Default\", \"Default\", \"Default\", \"Default\", \"Default\", \"Default\", \"Default\", \"Topic1\", \"Topic1\", \"Topic1\", \"Topic1\", \"Topic1\", \"Topic1\", \"Topic1\", \"Topic1\", \"Topic1\", \"Topic1\", \"Topic1\", \"Topic1\", \"Topic1\", \"Topic1\", \"Topic1\", \"Topic1\", \"Topic1\", \"Topic1\", \"Topic1\", \"Topic1\", \"Topic1\", \"Topic1\", \"Topic1\", \"Topic1\", \"Topic1\", \"Topic1\", \"Topic1\", \"Topic1\", \"Topic1\", \"Topic1\", \"Topic1\", \"Topic1\", \"Topic2\", \"Topic2\", \"Topic2\", \"Topic2\", \"Topic2\", \"Topic2\", \"Topic2\", \"Topic2\", \"Topic2\", \"Topic2\", \"Topic2\", \"Topic2\", \"Topic2\", \"Topic2\", \"Topic2\", \"Topic2\", \"Topic2\", \"Topic2\", \"Topic2\", \"Topic2\", \"Topic2\", \"Topic2\", \"Topic2\", \"Topic2\", \"Topic2\", \"Topic2\", \"Topic2\", \"Topic2\", \"Topic2\", \"Topic2\", \"Topic2\", \"Topic2\", \"Topic2\", \"Topic2\", \"Topic2\", \"Topic2\", \"Topic2\", \"Topic2\", \"Topic2\", \"Topic2\", \"Topic2\", \"Topic2\", \"Topic2\", \"Topic2\", \"Topic3\", \"Topic3\", \"Topic3\", \"Topic3\", \"Topic3\", \"Topic3\", \"Topic3\", \"Topic3\", \"Topic3\", \"Topic3\", \"Topic3\", \"Topic3\", \"Topic3\", \"Topic3\", \"Topic3\", \"Topic3\", \"Topic3\", \"Topic3\", \"Topic3\", \"Topic3\", \"Topic3\", \"Topic3\", \"Topic3\", \"Topic3\", \"Topic3\", \"Topic3\", \"Topic3\", \"Topic3\", \"Topic3\", \"Topic3\", \"Topic3\", \"Topic3\", \"Topic3\", \"Topic3\", \"Topic3\", \"Topic3\", \"Topic3\", \"Topic3\", \"Topic3\", \"Topic3\", \"Topic3\", \"Topic3\", \"Topic3\", \"Topic3\", \"Topic3\", \"Topic3\", \"Topic3\", \"Topic3\", \"Topic3\", \"Topic3\", \"Topic3\", \"Topic3\", \"Topic3\", \"Topic3\", \"Topic4\", \"Topic4\", \"Topic4\", \"Topic4\", \"Topic4\", \"Topic4\", \"Topic4\", \"Topic4\", \"Topic4\", \"Topic4\", \"Topic4\", \"Topic4\", \"Topic4\", \"Topic4\", \"Topic4\", \"Topic4\", \"Topic4\", \"Topic4\", \"Topic4\", \"Topic4\", \"Topic4\", \"Topic4\", \"Topic4\", \"Topic4\", \"Topic4\", \"Topic4\", \"Topic4\", \"Topic4\", \"Topic4\", \"Topic4\", \"Topic4\", \"Topic4\", \"Topic4\", \"Topic4\", \"Topic4\", \"Topic4\", \"Topic4\", \"Topic4\", \"Topic4\", \"Topic4\", \"Topic4\", \"Topic4\", \"Topic4\", \"Topic4\", \"Topic4\"], \"Freq\": [16781.0, 15908.0, 15598.0, 15140.0, 23188.0, 22980.0, 22103.0, 22044.0, 20959.0, 18587.0, 2344.0, 602.0, 1335.0, 1936.0, 476.0, 413.0, 291.0, 398.0, 404.0, 221.0, 1625.0, 1623.0, 568.0, 391.0, 440.0, 538.0, 338.0, 238.0, 298.0, 1334.0, 23187.33984375, 22980.1640625, 22043.705078125, 22102.6015625, 2343.91650390625, 1935.996826171875, 1624.583740234375, 1623.03466796875, 1333.75390625, 1330.628173828125, 1311.45361328125, 1164.8111572265625, 1155.6002197265625, 1149.9141845703125, 1104.603515625, 1098.54541015625, 1028.51171875, 972.4019775390625, 958.5065307617188, 865.64306640625, 882.1258544921875, 805.6442260742188, 762.6168212890625, 710.6304321289062, 20937.74609375, 630.5621337890625, 18564.189453125, 605.9362182617188, 567.3191528320312, 512.3942260742188, 1282.7535400390625, 1073.263916015625, 15139.33203125, 15593.951171875, 15895.46875, 133.01348876953125, 119.30498504638672, 122.9327392578125, 105.02227020263672, 95.36920928955078, 89.35067749023438, 77.24546813964844, 72.0001449584961, 69.76822662353516, 62.138580322265625, 16563.80078125, 53.931968688964844, 51.76393508911133, 50.25648498535156, 49.25550079345703, 41.80601501464844, 44.44480514526367, 39.83163070678711, 39.66997146606445, 40.44475555419922, 46.634010314941406, 38.19956588745117, 42.192527770996094, 35.79983901977539, 41.97101974487305, 40.08351135253906, 38.53867721557617, 41.15735626220703, 179.75352478027344, 40.2467041015625, 108.7540283203125, 42.73857498168945, 85.47435760498047, 83.25102233886719, 76.77086639404297, 51.19253921508789, 54.94383239746094, 55.49409484863281, 53.054447174072266, 48.102535247802734, 46.48733139038086, 113.71358489990234, 106.13436889648438, 103.69377136230469, 93.82746124267578, 89.84196472167969, 84.68513488769531, 82.61647033691406, 74.96849060058594, 89.90101623535156, 72.45046997070312, 66.66642761230469, 74.72530364990234, 63.55459976196289, 64.68011474609375, 71.11408996582031, 64.11270904541016, 71.62407684326172, 56.87720489501953, 53.820919036865234, 57.167625427246094, 53.847999572753906, 50.89041519165039, 51.24061584472656, 49.77457046508789, 54.913047790527344, 47.21014404296875, 45.06919479370117, 53.524436950683594, 46.91588592529297, 44.86690902709961, 47.69878005981445, 48.95319747924805, 162.420166015625, 206.99722290039062, 134.78639221191406, 66.24734497070312, 112.94132232666016, 119.24544525146484, 87.60530853271484, 157.79286193847656, 154.39248657226562, 129.87770080566406, 101.22370147705078, 142.37501525878906, 130.82839965820312, 108.50572204589844, 85.80999755859375, 91.589111328125, 71.50210571289062, 99.75239562988281, 95.5300521850586, 79.72040557861328, 80.76636505126953, 72.5289306640625, 220.56959533691406, 116.1356201171875, 121.22732543945312, 106.81063842773438, 96.66126251220703, 98.65260314941406, 81.20711517333984, 78.07223510742188, 80.34974670410156, 73.21219635009766, 71.46053314208984, 69.56397247314453, 60.05691146850586, 61.6788444519043, 59.184059143066406, 53.013240814208984, 50.51799011230469, 49.0814094543457, 50.46874237060547, 48.162757873535156, 43.941165924072266, 70.91979217529297, 40.31705856323242, 42.620182037353516, 40.5803108215332, 40.59245300292969, 40.58333969116211, 40.02383804321289, 35.13898468017578, 35.90732192993164, 36.542503356933594, 95.46198272705078, 38.973876953125, 113.69095611572266, 57.78728485107422, 88.47249603271484, 70.860595703125, 85.53605651855469, 80.84762573242188, 84.92569732666016, 58.27684020996094, 65.6381607055664, 52.62095260620117, 52.2907600402832, 51.1617317199707], \"Term\": [\"biodiversit\\u00e9\", \"disparition\", \"esp\\u00e8ces\", \"certaines\", \"climatiques\", \"d\\u00e9r\\u00e8glements\", \"s\\u00e9cheresse\", \"crue\", \"pollution\", \"air\", \"probl\\u00e8mes\", \"vie\", \"environnement\", \"climatique\", \"question\", \"france\", \"dont\", \"pays\", \"\\u00e9cologique\", \"ans\", \"eau\", \"toutes\", \"produits\", \"cette\", \"sant\\u00e9\", \"donc\", \"transition\", \"fran\", \"animaux\", \"li\\u00e9s\", \"climatiques\", \"d\\u00e9r\\u00e8glements\", \"crue\", \"s\\u00e9cheresse\", \"probl\\u00e8mes\", \"climatique\", \"eau\", \"toutes\", \"li\\u00e9s\", \"probl\\u00e8me\", \"d\\u00e9chets\", \"importants\", \"\\u00e9rosion\", \"important\", \"li\\u00e9\", \"sols\", \"ensemble\", \"ressources\", \"littoral\", \"d\\u00e9r\\u00e8glement\", \"terre\", \"plan\\u00e8te\", \"r\\u00e9chauffement\", \"propositions\", \"pollution\", \"pesticides\", \"air\", \"ci\", \"dessus\", \"r\\u00e9ponses\", \"environnement\", \"autres\", \"certaines\", \"esp\\u00e8ces\", \"disparition\", \"hi\\u00e9rarchiser\", \"surexploitation\", \"ph\\u00e9nom\\u00e8nes\", \"faune\", \"aliments\", \"potable\", \"flore\", \"questionnaire\", \"priorit\\u00e9s\", \"\\u00e9troitement\", \"biodiversit\\u00e9\", \"v\\u00e9g\\u00e9tales\", \"energetique\", \"abattage\", \"ds\", \"ecologique\", \"glaciers\", \"pr\\u00e9server\", \"contribue\", \"pourra\", \"menac\\u00e9e\", \"scientifique\", \"poubelles\", \"individus\", \"nuisibles\", \"catastrophe\", \"collectif\", \"disant\", \"chasse\", \"etroitement\", \"pense\", \"corps\", \"polluants\", \"possible\", \"grands\", \"acc\\u00e8s\", \"biodiversite\", \"argent\", \"environnementales\", \"bon\", \"concerne\", \"taxe\", \"voiture\", \"diesel\", \"interdire\", \"supprimer\", \"voitures\", \"v\\u00e9hicules\", \"taxer\", \"m\\u00eames\", \"loi\", \"achat\", \"oiseaux\", \"d\\u00e9velopper\", \"vis\", \"compris\", \"ordures\", \"comportements\", \"km\", \"\\u00e9lectriques\", \"favoriser\", \"passe\", \"payer\", \"cet\", \"v\\u00e9hicule\", \"mauvais\", \"aides\", \"moteurs\", \"celles\", \"fiscalit\\u00e9\", \"\\u00e9trangers\", \"arbres\", \"m\\u00e9taux\", \"ais\", \"fran\", \"\\u00e9tat\", \"\\u00e9lectrique\", \"avant\", \"comment\", \"personnes\", \"france\", \"pays\", \"animaux\", \"exemple\", \"\\u00e9cologique\", \"transition\", \"entreprises\", \"solutions\", \"pourquoi\", \"gros\", \"produits\", \"donc\", \"co\", \"\\u00e9nergie\", \"transport\", \"ans\", \"depuis\", \"celui\", \"produit\", \"cas\", \"donner\", \"ann\\u00e9es\", \"armes\", \"engendre\", \"tels\", \"oublier\", \"pourrait\", \"services\", \"utilis\\u00e9s\", \"directe\", \"an\", \"national\", \"directement\", \"\\u00e9olien\", \"fabrication\", \"pendant\", \"forme\", \"provoqueraient\", \"catastrophiques\", \"outre\", \"constitue\", \"pr\\u00e9sident\", \"poser\", \"souhaite\", \"besoin\", \"aider\", \"milliards\", \"cyclones\", \"dont\", \"habitants\", \"nucl\\u00e9aires\", \"citoyens\", \"france\", \"cette\", \"vie\", \"place\", \"question\", \"durable\", \"environnement\", \"temps\"], \"Total\": [16781.0, 15908.0, 15598.0, 15140.0, 23188.0, 22980.0, 22103.0, 22044.0, 20959.0, 18587.0, 2344.0, 602.0, 1335.0, 1936.0, 476.0, 413.0, 291.0, 398.0, 404.0, 221.0, 1625.0, 1623.0, 568.0, 391.0, 440.0, 538.0, 338.0, 238.0, 298.0, 1334.0, 23188.07421875, 22980.896484375, 22044.4375, 22103.333984375, 2344.65576171875, 1936.73681640625, 1625.329345703125, 1623.78466796875, 1334.491943359375, 1331.3709716796875, 1312.1976318359375, 1165.54736328125, 1156.3388671875, 1150.65380859375, 1105.34228515625, 1099.2808837890625, 1029.259521484375, 973.1437377929688, 959.2471313476562, 866.3754272460938, 882.8826904296875, 806.39208984375, 763.3598022460938, 711.3753051757812, 20959.705078125, 631.30712890625, 18587.45703125, 606.6978759765625, 568.0692138671875, 513.1435546875, 1335.545654296875, 1109.333740234375, 15140.080078125, 15598.115234375, 15908.0126953125, 133.7682647705078, 120.06587219238281, 123.75196075439453, 105.7820816040039, 96.16744995117188, 90.12019348144531, 78.01457214355469, 72.794189453125, 70.6258316040039, 62.947898864746094, 16781.27734375, 54.692657470703125, 52.53912353515625, 51.10588836669922, 50.14210891723633, 42.55955505371094, 45.2474479675293, 40.59806442260742, 40.450538635253906, 41.25777053833008, 47.588130950927734, 38.98204803466797, 43.06428146362305, 36.55157470703125, 42.867950439453125, 40.9468879699707, 39.372802734375, 42.10067367553711, 230.04649353027344, 41.42242431640625, 150.3772430419922, 44.987518310546875, 124.87239074707031, 126.92323303222656, 114.75872802734375, 62.284873962402344, 72.55882263183594, 75.40552520751953, 93.15560150146484, 93.91939544677734, 80.75806427001953, 114.47244262695312, 106.87604522705078, 104.45561218261719, 94.55904388427734, 90.57949829101562, 85.4243392944336, 83.359619140625, 75.71588897705078, 90.80496978759766, 73.22661590576172, 67.40680694580078, 75.56888580322266, 64.28253936767578, 65.43934631347656, 71.95341491699219, 64.89669799804688, 72.50492095947266, 57.61518096923828, 54.5505256652832, 57.959136962890625, 54.598426818847656, 51.61826705932617, 51.9799919128418, 50.507484436035156, 55.72898483276367, 47.927738189697266, 45.80451583862305, 54.41170120239258, 47.69775390625, 45.62284851074219, 48.5075798034668, 49.877586364746094, 180.741455078125, 238.15235900878906, 182.7535400390625, 74.36868286132812, 174.68568420410156, 199.41542053222656, 125.1138916015625, 413.23565673828125, 398.09820556640625, 298.2062072753906, 187.3011932373047, 404.41937255859375, 338.8650817871094, 249.99024963378906, 186.3814239501953, 307.88177490234375, 105.87479400634766, 568.8198852539062, 538.1788330078125, 350.7873840332031, 451.654052734375, 182.57667541503906, 221.34266662597656, 116.90217590332031, 122.04920196533203, 107.5792007446289, 97.42530059814453, 99.50358581542969, 81.95109558105469, 78.79631805419922, 81.13017272949219, 74.0013656616211, 72.2314453125, 70.36705780029297, 60.8253059387207, 62.46827697753906, 59.96537399291992, 53.792877197265625, 51.29115676879883, 49.85934829711914, 51.26945495605469, 48.942813873291016, 44.69229507446289, 72.14749908447266, 41.03081130981445, 43.37626647949219, 41.3209342956543, 41.39116287231445, 41.382423400878906, 40.81663513183594, 35.89284896850586, 36.705387115478516, 37.440521240234375, 116.47956848144531, 40.506103515625, 291.8490295410156, 85.87564086914062, 215.2252960205078, 217.38897705078125, 413.23565673828125, 391.7597961425781, 602.7518310546875, 156.08828735351562, 476.85809326171875, 100.85118103027344, 1335.545654296875, 263.234619140625], \"loglift\": [30.0, 29.0, 28.0, 27.0, 26.0, 25.0, 24.0, 23.0, 22.0, 21.0, 20.0, 19.0, 18.0, 17.0, 16.0, 15.0, 14.0, 13.0, 12.0, 11.0, 10.0, 9.0, 8.0, 7.0, 6.0, 5.0, 4.0, 3.0, 2.0, 1.0, 0.4156000018119812, 0.4156000018119812, 0.4156000018119812, 0.4156000018119812, 0.4153999984264374, 0.41530001163482666, 0.41519999504089355, 0.41519999504089355, 0.41510000824928284, 0.41510000824928284, 0.41510000824928284, 0.41499999165534973, 0.41499999165534973, 0.41499999165534973, 0.41499999165534973, 0.41499999165534973, 0.414900004863739, 0.414900004863739, 0.414900004863739, 0.4147999882698059, 0.4147999882698059, 0.4147000014781952, 0.4147000014781952, 0.4146000146865845, 0.4146000146865845, 0.41449999809265137, 0.41440001130104065, 0.41440001130104065, 0.41440001130104065, 0.4142000079154968, 0.37529999017715454, 0.38260000944137573, 1.5672999620437622, 1.5671000480651855, 1.566499948501587, 1.5616999864578247, 1.5609999895095825, 1.5607000589370728, 1.5600999593734741, 1.559000015258789, 1.5587999820709229, 1.5573999881744385, 1.556399941444397, 1.5550999641418457, 1.5543999671936035, 1.5542999505996704, 1.5533000230789185, 1.5525000095367432, 1.5506000518798828, 1.5494999885559082, 1.5494999885559082, 1.549399971961975, 1.54830002784729, 1.5478999614715576, 1.5473999977111816, 1.5470999479293823, 1.5470999479293823, 1.5469000339508057, 1.5465999841690063, 1.5462000370025635, 1.5460000038146973, 1.5458999872207642, 1.544700026512146, 1.3206000328063965, 1.5384999513626099, 1.243299961090088, 1.5161000490188599, 1.1883000135421753, 1.1455999612808228, 1.1653000116348267, 1.3711999654769897, 1.2892999649047852, 1.260699987411499, 1.0044000148773193, 0.8981999754905701, 1.0151000022888184, 2.5102999210357666, 2.509999990463257, 2.5095999240875244, 2.509200096130371, 2.5088000297546387, 2.5083000659942627, 2.507999897003174, 2.506999969482422, 2.5069000720977783, 2.5062999725341797, 2.5058999061584473, 2.50570011138916, 2.5055999755859375, 2.5053000450134277, 2.505199909210205, 2.5048000812530518, 2.504699945449829, 2.5041000843048096, 2.503499984741211, 2.503200054168701, 2.5030999183654785, 2.502700090408325, 2.5025999546051025, 2.5023000240325928, 2.50219988822937, 2.5018999576568604, 2.5007998943328857, 2.500499963760376, 2.5004000663757324, 2.500200033187866, 2.5000998973846436, 2.498199939727783, 2.410099983215332, 2.376699924468994, 2.2125000953674316, 2.4012999534606934, 2.0808000564575195, 2.002700090408325, 2.160599946975708, 1.5542000532150269, 1.569700002670288, 1.6857999563217163, 1.9016000032424927, 1.4730000495910645, 1.5651999711990356, 1.6822999715805054, 1.7412999868392944, 1.3044999837875366, 2.1243999004364014, 0.7760999798774719, 0.7882000207901001, 1.0353000164031982, 0.7955999970436096, 1.5937999486923218, 2.9763998985290527, 2.973299980163574, 2.973099946975708, 2.9727001190185547, 2.9719998836517334, 2.971299886703491, 2.9707999229431152, 2.9707000255584717, 2.9702000617980957, 2.9691998958587646, 2.9691998958587646, 2.968400001525879, 2.9672000408172607, 2.9672000408172607, 2.9667999744415283, 2.9653000831604004, 2.9646999835968018, 2.964200019836426, 2.964200019836426, 2.9637999534606934, 2.9630000591278076, 2.9626998901367188, 2.962399959564209, 2.9623000621795654, 2.9618000984191895, 2.960400104522705, 2.960400104522705, 2.9602999687194824, 2.958699941635132, 2.957900047302246, 2.9556000232696533, 2.780900001525879, 2.9412999153137207, 2.037100076675415, 2.5838000774383545, 2.09089994430542, 1.8588999509811401, 1.4048000574111938, 1.4018000364303589, 1.0202000141143799, 1.9946999549865723, 0.9968000054359436, 2.329400062561035, -0.2603999972343445, 1.3417999744415283], \"logprob\": [30.0, 29.0, 28.0, 27.0, 26.0, 25.0, 24.0, 23.0, 22.0, 21.0, 20.0, 19.0, 18.0, 17.0, 16.0, 15.0, 14.0, 13.0, 12.0, 11.0, 10.0, 9.0, 8.0, 7.0, 6.0, 5.0, 4.0, 3.0, 2.0, 1.0, -2.3838999271392822, -2.392899990081787, -2.434499979019165, -2.4319000244140625, -4.6757001876831055, -4.8668999671936035, -5.042300224304199, -5.043300151824951, -5.23960018157959, -5.2418999671936035, -5.256400108337402, -5.375, -5.382900238037109, -5.387899875640869, -5.428100109100342, -5.433599948883057, -5.4994001388549805, -5.555500030517578, -5.569900035858154, -5.671800136566162, -5.6529998779296875, -5.74370002746582, -5.798600196838379, -5.869200229644775, -2.4860000610351562, -5.988699913024902, -2.606300115585327, -6.028500080108643, -6.094399929046631, -6.196199893951416, -5.278500080108643, -5.4567999839782715, -1.6585999727249146, -1.628999948501587, -1.6098999977111816, -6.393199920654297, -6.501999855041504, -6.4720001220703125, -6.629499912261963, -6.725900173187256, -6.791100025177002, -6.936699867248535, -7.006999969482422, -7.03849983215332, -7.154300212860107, -1.5686999559402466, -7.295899868011475, -7.336900234222412, -7.366499900817871, -7.386600017547607, -7.550600051879883, -7.4893999099731445, -7.598999977111816, -7.603000164031982, -7.583700180053711, -7.441299915313721, -7.6407999992370605, -7.541399955749512, -7.705699920654297, -7.5467000007629395, -7.592700004577637, -7.631999969482422, -7.566199779510498, -6.092100143432617, -7.588600158691406, -6.594600200653076, -7.528500080108643, -6.835400104522705, -6.861800193786621, -6.942800045013428, -7.3480000495910645, -7.277299880981445, -7.267399787902832, -7.312300205230713, -7.410299777984619, -7.444499969482422, -5.600399971008301, -5.669300079345703, -5.692599773406982, -5.792600154876709, -5.835999965667725, -5.895100116729736, -5.9197998046875, -6.017000198364258, -5.835299968719482, -6.05109977722168, -6.134300231933594, -6.020199775695801, -6.18209981918335, -6.164599895477295, -6.069699764251709, -6.173399925231934, -6.062600135803223, -6.293099880218506, -6.348400115966797, -6.288000106811523, -6.347899913787842, -6.404399871826172, -6.397500038146973, -6.426499843597412, -6.3282999992370605, -6.479400157928467, -6.5258002281188965, -6.353899955749512, -6.4857001304626465, -6.530300140380859, -6.469099998474121, -6.44320011138916, -5.243800163269043, -5.001299858093262, -5.430300235748291, -6.140600204467773, -5.6072001457214355, -5.552800178527832, -5.861199855804443, -5.272799968719482, -5.29449987411499, -5.467400074005127, -5.716700077056885, -5.3755998611450195, -5.460100173950195, -5.647200107574463, -5.881899833679199, -5.816699981689453, -6.064300060272217, -5.731299877166748, -5.774600028991699, -5.95550012588501, -5.942500114440918, -6.050000190734863, -4.474899768829346, -5.116300106048584, -5.073400020599365, -5.199999809265137, -5.299900054931641, -5.2795000076293945, -5.474100112915039, -5.513400077819824, -5.4847002029418945, -5.577700138092041, -5.601900100708008, -5.628799915313721, -5.7758002281188965, -5.749100208282471, -5.79040002822876, -5.9004998207092285, -5.948699951171875, -5.97760009765625, -5.949699878692627, -5.996500015258789, -6.088200092315674, -5.609499931335449, -6.174300193786621, -6.118800163269043, -6.167799949645996, -6.167500019073486, -6.167699813842773, -6.181600093841553, -6.311800003051758, -6.29010009765625, -6.272600173950195, -5.312399864196777, -6.208199977874756, -5.137599945068359, -5.814300060272217, -5.388400077819824, -5.610400199890137, -5.422100067138672, -5.478499889373779, -5.429299831390381, -5.8059000968933105, -5.6869001388549805, -5.9079999923706055, -5.914299964904785, -5.936100006103516]}, \"token.table\": {\"Topic\": [2, 2, 3, 3, 4, 3, 1, 2, 1, 3, 2, 4, 1, 2, 3, 4, 4, 3, 2, 4, 4, 1, 3, 1, 3, 4, 1, 2, 1, 2, 2, 3, 4, 2, 4, 3, 4, 2, 3, 1, 3, 4, 2, 3, 1, 1, 4, 1, 1, 1, 3, 2, 1, 3, 3, 3, 2, 3, 4, 2, 2, 3, 4, 1, 3, 4, 4, 1, 3, 4, 4, 2, 1, 2, 1, 3, 4, 1, 4, 2, 1, 4, 1, 1, 1, 3, 1, 2, 2, 4, 1, 1, 3, 1, 4, 2, 4, 1, 2, 1, 2, 1, 3, 4, 2, 3, 3, 2, 2, 4, 1, 3, 1, 3, 4, 2, 2, 4, 1, 3, 2, 4, 2, 1, 1, 2, 3, 3, 1, 1, 1, 3, 3, 2, 2, 4, 3, 3, 3, 4, 1, 4, 2, 3, 3, 4, 4, 3, 3, 1, 3, 4, 2, 4, 1, 3, 1, 2, 1, 4, 1, 2, 3, 1, 2, 4, 2, 3, 2, 2, 1, 3, 2, 4, 2, 1, 1, 4, 1, 3, 1, 4, 2, 4, 1, 4, 2, 1, 1, 1, 1, 4, 2, 4, 1, 1, 3, 4, 3, 2, 1, 3, 3, 4, 1, 4, 1, 1, 1, 3, 1, 3, 4, 1, 4, 3, 3, 3, 2, 3, 3, 1, 3, 1, 3, 3, 1, 3, 4, 4, 1, 1, 3, 3, 2], \"Freq\": [0.9783608317375183, 0.8188183903694153, 0.1766078919172287, 0.9939649105072021, 0.9882341027259827, 0.9806429743766785, 0.9987379908561707, 0.0012373935896903276, 0.0995897725224495, 0.8963079452514648, 0.9878602623939514, 0.985260546207428, 0.5499550104141235, 0.013413537293672562, 0.4359399676322937, 0.9883943796157837, 0.9984518885612488, 0.9895360469818115, 0.7293895483016968, 0.25197091698646545, 0.9898939728736877, 0.9672472476959229, 0.03245191276073456, 0.3491986095905304, 0.6468761563301086, 0.9807824492454529, 0.234292671084404, 0.758005678653717, 0.012931077741086483, 0.9870523810386658, 0.5110765695571899, 0.4791342616081238, 0.9956346154212952, 0.9768751859664917, 0.9913254976272583, 0.9924336075782776, 0.9914034605026245, 0.9999286532402039, 0.9811467528343201, 0.6202780604362488, 0.1735757440328598, 0.20675934851169586, 0.7824504971504211, 0.21734736859798431, 0.9988496899604797, 0.6716071963310242, 0.326603502035141, 0.9996195435523987, 0.9999536871910095, 0.772547721862793, 0.2280583679676056, 0.9905314445495605, 0.40117257833480835, 0.5967442393302917, 0.9930360317230225, 0.986749529838562, 0.5696025490760803, 0.4210105836391449, 0.990549623966217, 0.9888619780540466, 0.9558206796646118, 0.022228388115763664, 0.022228388115763664, 0.9999801516532898, 0.024687636643648148, 0.9628178477287292, 0.9922826290130615, 0.9981178045272827, 0.9956382513046265, 0.9839011430740356, 0.9827645421028137, 0.9738561511039734, 0.0007543368265032768, 0.9991819858551025, 0.8212883472442627, 0.1783793717622757, 0.9949390292167664, 0.6099043488502502, 0.3906129002571106, 0.9772225618362427, 0.4759488105773926, 0.5255268216133118, 0.9990873336791992, 0.9995666742324829, 0.9999610185623169, 0.9956047534942627, 0.9997973442077637, 0.9868524074554443, 0.9897386431694031, 0.9860696196556091, 0.9997478723526001, 0.5640220046043396, 0.4360170066356659, 0.9606560468673706, 0.03893539682030678, 0.5689405798912048, 0.429389089345932, 0.0002564412425272167, 0.9997361898422241, 0.02414151281118393, 0.9656605124473572, 0.45915350317955017, 0.5392383933067322, 0.9807364344596863, 0.9926066994667053, 0.9834514856338501, 0.9853713512420654, 0.9869951009750366, 0.013860493898391724, 0.9840950965881348, 0.13016876578330994, 0.8691914677619934, 0.41138753294944763, 0.3823484182357788, 0.20811370015144348, 0.9724305272102356, 0.6709729433059692, 0.3224155604839325, 0.3211340308189392, 0.6800485253334045, 0.32605287432670593, 0.6753952503204346, 0.9942567348480225, 0.9994317889213562, 0.9995303750038147, 0.98490971326828, 0.9940878748893738, 0.9893226027488708, 0.9997423887252808, 0.9996903538703918, 0.9996313452720642, 0.9832490682601929, 0.986919105052948, 0.9876412153244019, 0.1802891343832016, 0.8155936598777771, 0.9824358820915222, 0.9824051856994629, 0.9911351799964905, 0.9943234324455261, 0.5854330658912659, 0.40887388586997986, 0.9797529578208923, 0.9924719333648682, 0.986182689666748, 0.9829514026641846, 0.992233157157898, 0.9890394806861877, 0.9880223274230957, 0.6104021668434143, 0.38683921098709106, 0.9845097661018372, 0.7248437404632568, 0.2726476490497589, 0.2957305610179901, 0.7033591270446777, 0.9995135068893433, 0.9939236640930176, 0.6214431524276733, 0.37158456444740295, 0.9995137453079224, 0.6806948781013489, 0.3123188316822052, 0.9989644289016724, 0.0010019225301221013, 0.9799925684928894, 0.6539385914802551, 0.3387874662876129, 0.9875699877738953, 0.9752861857414246, 0.7015680074691772, 0.2988159954547882, 0.9695143103599548, 0.9947836995124817, 0.991138756275177, 0.999721348285675, 0.9997203350067139, 0.9946160316467285, 0.8245140910148621, 0.1758025735616684, 0.999472439289093, 0.974877119064331, 0.9852686524391174, 0.9907587766647339, 0.8618916273117065, 0.1384059488773346, 0.9890899062156677, 0.9988247156143188, 0.9995286464691162, 0.9977715015411377, 0.8852241635322571, 0.1134902760386467, 0.9748076796531677, 0.9864315390586853, 0.9997444748878479, 0.5365341305732727, 0.46141937375068665, 0.9751245975494385, 0.9936023354530334, 0.9911226034164429, 0.999984860420227, 0.9958728551864624, 0.9905450344085693, 0.9864682555198669, 0.8053652048110962, 0.1937435120344162, 0.9990001916885376, 0.9995167851448059, 0.6138136386871338, 0.3865845203399658, 0.6024866104125977, 0.39983201026916504, 0.9925037622451782, 0.8577327728271484, 0.14101989567279816, 0.9932861924171448, 0.9918031692504883, 0.995032548904419, 0.9873354434967041, 0.9899522662162781, 0.9956859350204468, 0.6478423476219177, 0.3511206805706024, 0.10757216066122055, 0.8874703645706177, 0.98990797996521, 0.7926420569419861, 0.17934079468250275, 0.02878309227526188, 0.9752395749092102, 0.9997069239616394, 0.2571769654750824, 0.7386997938156128, 0.9863478541374207, 0.9849415421485901], \"Term\": [\"abattage\", \"acc\\u00e8s\", \"acc\\u00e8s\", \"achat\", \"aider\", \"aides\", \"air\", \"air\", \"ais\", \"ais\", \"aliments\", \"an\", \"animaux\", \"animaux\", \"animaux\", \"ann\\u00e9es\", \"ans\", \"arbres\", \"argent\", \"argent\", \"armes\", \"autres\", \"autres\", \"avant\", \"avant\", \"besoin\", \"biodiversite\", \"biodiversite\", \"biodiversit\\u00e9\", \"biodiversit\\u00e9\", \"bon\", \"bon\", \"cas\", \"catastrophe\", \"catastrophiques\", \"celles\", \"celui\", \"certaines\", \"cet\", \"cette\", \"cette\", \"cette\", \"chasse\", \"chasse\", \"ci\", \"citoyens\", \"citoyens\", \"climatique\", \"climatiques\", \"co\", \"co\", \"collectif\", \"comment\", \"comment\", \"comportements\", \"compris\", \"concerne\", \"concerne\", \"constitue\", \"contribue\", \"corps\", \"corps\", \"corps\", \"crue\", \"cyclones\", \"cyclones\", \"depuis\", \"dessus\", \"diesel\", \"directe\", \"directement\", \"disant\", \"disparition\", \"disparition\", \"donc\", \"donc\", \"donner\", \"dont\", \"dont\", \"ds\", \"durable\", \"durable\", \"d\\u00e9chets\", \"d\\u00e9r\\u00e8glement\", \"d\\u00e9r\\u00e8glements\", \"d\\u00e9velopper\", \"eau\", \"ecologique\", \"energetique\", \"engendre\", \"ensemble\", \"entreprises\", \"entreprises\", \"environnement\", \"environnement\", \"environnementales\", \"environnementales\", \"esp\\u00e8ces\", \"esp\\u00e8ces\", \"etroitement\", \"etroitement\", \"exemple\", \"exemple\", \"fabrication\", \"faune\", \"favoriser\", \"fiscalit\\u00e9\", \"flore\", \"forme\", \"forme\", \"fran\", \"fran\", \"france\", \"france\", \"france\", \"glaciers\", \"grands\", \"grands\", \"gros\", \"gros\", \"habitants\", \"habitants\", \"hi\\u00e9rarchiser\", \"important\", \"importants\", \"individus\", \"interdire\", \"km\", \"littoral\", \"li\\u00e9\", \"li\\u00e9s\", \"loi\", \"mauvais\", \"menac\\u00e9e\", \"milliards\", \"milliards\", \"moteurs\", \"m\\u00e9taux\", \"m\\u00eames\", \"national\", \"nucl\\u00e9aires\", \"nucl\\u00e9aires\", \"nuisibles\", \"oiseaux\", \"ordures\", \"oublier\", \"outre\", \"passe\", \"payer\", \"pays\", \"pays\", \"pendant\", \"pense\", \"pense\", \"personnes\", \"personnes\", \"pesticides\", \"ph\\u00e9nom\\u00e8nes\", \"place\", \"place\", \"plan\\u00e8te\", \"polluants\", \"polluants\", \"pollution\", \"pollution\", \"poser\", \"possible\", \"possible\", \"potable\", \"poubelles\", \"pourquoi\", \"pourquoi\", \"pourra\", \"pourrait\", \"priorit\\u00e9s\", \"probl\\u00e8me\", \"probl\\u00e8mes\", \"produit\", \"produits\", \"produits\", \"propositions\", \"provoqueraient\", \"pr\\u00e9server\", \"pr\\u00e9sident\", \"question\", \"question\", \"questionnaire\", \"ressources\", \"r\\u00e9chauffement\", \"r\\u00e9ponses\", \"sant\\u00e9\", \"sant\\u00e9\", \"scientifique\", \"services\", \"sols\", \"solutions\", \"solutions\", \"souhaite\", \"supprimer\", \"surexploitation\", \"s\\u00e9cheresse\", \"taxe\", \"taxer\", \"tels\", \"temps\", \"temps\", \"terre\", \"toutes\", \"transition\", \"transition\", \"transport\", \"transport\", \"utilis\\u00e9s\", \"vie\", \"vie\", \"vis\", \"voiture\", \"voitures\", \"v\\u00e9g\\u00e9tales\", \"v\\u00e9hicule\", \"v\\u00e9hicules\", \"\\u00e9cologique\", \"\\u00e9cologique\", \"\\u00e9lectrique\", \"\\u00e9lectrique\", \"\\u00e9lectriques\", \"\\u00e9nergie\", \"\\u00e9nergie\", \"\\u00e9nergie\", \"\\u00e9olien\", \"\\u00e9rosion\", \"\\u00e9tat\", \"\\u00e9tat\", \"\\u00e9trangers\", \"\\u00e9troitement\"]}, \"R\": 30, \"lambda.step\": 0.01, \"plot.opts\": {\"xlab\": \"PC1\", \"ylab\": \"PC2\"}, \"topic.order\": [3, 2, 1, 4]};\n",
       "\n",
       "function LDAvis_load_lib(url, callback){\n",
       "  var s = document.createElement('script');\n",
       "  s.src = url;\n",
       "  s.async = true;\n",
       "  s.onreadystatechange = s.onload = callback;\n",
       "  s.onerror = function(){console.warn(\"failed to load library \" + url);};\n",
       "  document.getElementsByTagName(\"head\")[0].appendChild(s);\n",
       "}\n",
       "\n",
       "if(typeof(LDAvis) !== \"undefined\"){\n",
       "   // already loaded: just create the visualization\n",
       "   !function(LDAvis){\n",
       "       new LDAvis(\"#\" + \"ldavis_el45671123415963448385367138\", ldavis_el45671123415963448385367138_data);\n",
       "   }(LDAvis);\n",
       "}else if(typeof define === \"function\" && define.amd){\n",
       "   // require.js is available: use it to load d3/LDAvis\n",
       "   require.config({paths: {d3: \"https://cdnjs.cloudflare.com/ajax/libs/d3/3.5.5/d3.min\"}});\n",
       "   require([\"d3\"], function(d3){\n",
       "      window.d3 = d3;\n",
       "      LDAvis_load_lib(\"https://cdn.rawgit.com/bmabey/pyLDAvis/files/ldavis.v1.0.0.js\", function(){\n",
       "        new LDAvis(\"#\" + \"ldavis_el45671123415963448385367138\", ldavis_el45671123415963448385367138_data);\n",
       "      });\n",
       "    });\n",
       "}else{\n",
       "    // require.js not available: dynamically load d3 & LDAvis\n",
       "    LDAvis_load_lib(\"https://cdnjs.cloudflare.com/ajax/libs/d3/3.5.5/d3.min.js\", function(){\n",
       "         LDAvis_load_lib(\"https://cdn.rawgit.com/bmabey/pyLDAvis/files/ldavis.v1.0.0.js\", function(){\n",
       "                 new LDAvis(\"#\" + \"ldavis_el45671123415963448385367138\", ldavis_el45671123415963448385367138_data);\n",
       "            })\n",
       "         });\n",
       "}\n",
       "</script>"
      ],
      "text/plain": [
       "PreparedData(topic_coordinates=              x         y  topics  cluster       Freq\n",
       "topic                                                \n",
       "2     -0.274502  0.244972       1        1  65.989662\n",
       "1      0.356969  0.144745       2        1  20.859982\n",
       "0     -0.057883 -0.180044       3        1   8.070568\n",
       "3     -0.024584 -0.209673       4        1   5.079791, topic_info=     Category          Freq             Term         Total  loglift  logprob\n",
       "term                                                                        \n",
       "18    Default  16781.000000     biodiversité  16781.000000  30.0000  30.0000\n",
       "36    Default  15908.000000      disparition  15908.000000  29.0000  29.0000\n",
       "52    Default  15598.000000          espèces  15598.000000  28.0000  28.0000\n",
       "20    Default  15140.000000        certaines  15140.000000  27.0000  27.0000\n",
       "28    Default  23188.000000      climatiques  23188.000000  26.0000  26.0000\n",
       "44    Default  22980.000000     dérèglements  22980.000000  25.0000  25.0000\n",
       "138   Default  22103.000000       sécheresse  22103.000000  24.0000  24.0000\n",
       "34    Default  22044.000000             crue  22044.000000  23.0000  23.0000\n",
       "100   Default  20959.000000        pollution  20959.000000  22.0000  22.0000\n",
       "6     Default  18587.000000              air  18587.000000  21.0000  21.0000\n",
       "106   Default   2344.000000        problèmes   2344.000000  20.0000  20.0000\n",
       "244   Default    602.000000              vie    602.000000  19.0000  19.0000\n",
       "518   Default   1335.000000    environnement   1335.000000  18.0000  18.0000\n",
       "27    Default   1936.000000       climatique   1936.000000  17.0000  17.0000\n",
       "279   Default    476.000000         question    476.000000  16.0000  16.0000\n",
       "64    Default    413.000000           france    413.000000  15.0000  15.0000\n",
       "38    Default    291.000000             dont    291.000000  14.0000  14.0000\n",
       "546   Default    398.000000             pays    398.000000  13.0000  13.0000\n",
       "380   Default    404.000000       écologique    404.000000  12.0000  12.0000\n",
       "1026  Default    221.000000              ans    221.000000  11.0000  11.0000\n",
       "230   Default   1625.000000              eau   1625.000000  10.0000  10.0000\n",
       "140   Default   1623.000000           toutes   1623.000000   9.0000   9.0000\n",
       "108   Default    568.000000         produits    568.000000   8.0000   8.0000\n",
       "404   Default    391.000000            cette    391.000000   7.0000   7.0000\n",
       "569   Default    440.000000            santé    440.000000   6.0000   6.0000\n",
       "513   Default    538.000000             donc    538.000000   5.0000   5.0000\n",
       "439   Default    338.000000       transition    338.000000   4.0000   4.0000\n",
       "63    Default    238.000000             fran    238.000000   3.0000   3.0000\n",
       "704   Default    298.000000          animaux    298.000000   2.0000   2.0000\n",
       "86    Default   1334.000000             liés   1334.000000   1.0000   1.0000\n",
       "...       ...           ...              ...           ...      ...      ...\n",
       "1879   Topic4     53.013241               an     53.792877   2.9653  -5.9005\n",
       "2312   Topic4     50.517990         national     51.291157   2.9647  -5.9487\n",
       "1797   Topic4     49.081409      directement     49.859348   2.9642  -5.9776\n",
       "1139   Topic4     50.468742           éolien     51.269455   2.9642  -5.9497\n",
       "1803   Topic4     48.162758      fabrication     48.942814   2.9638  -5.9965\n",
       "1745   Topic4     43.941166          pendant     44.692295   2.9630  -6.0882\n",
       "1732   Topic4     70.919792            forme     72.147499   2.9627  -5.6095\n",
       "1815   Topic4     40.317059   provoqueraient     41.030811   2.9624  -6.1743\n",
       "1035   Topic4     42.620182  catastrophiques     43.376266   2.9623  -6.1188\n",
       "1810   Topic4     40.580311            outre     41.320934   2.9618  -6.1678\n",
       "1632   Topic4     40.592453        constitue     41.391163   2.9604  -6.1675\n",
       "2874   Topic4     40.583340        président     41.382423   2.9604  -6.1677\n",
       "2159   Topic4     40.023838            poser     40.816635   2.9603  -6.1816\n",
       "1816   Topic4     35.138985         souhaite     35.892849   2.9587  -6.3118\n",
       "2164   Topic4     35.907322           besoin     36.705387   2.9579  -6.2901\n",
       "3138   Topic4     36.542503            aider     37.440521   2.9556  -6.2726\n",
       "1089   Topic4     95.461983        milliards    116.479568   2.7809  -5.3124\n",
       "9900   Topic4     38.973877         cyclones     40.506104   2.9413  -6.2082\n",
       "38     Topic4    113.690956             dont    291.849030   2.0371  -5.1376\n",
       "1014   Topic4     57.787285        habitants     85.875641   2.5838  -5.8143\n",
       "1098   Topic4     88.472496       nucléaires    215.225296   2.0909  -5.3884\n",
       "188    Topic4     70.860596         citoyens    217.388977   1.8589  -5.6104\n",
       "64     Topic4     85.536057           france    413.235657   1.4048  -5.4221\n",
       "404    Topic4     80.847626            cette    391.759796   1.4018  -5.4785\n",
       "244    Topic4     84.925697              vie    602.751831   1.0202  -5.4293\n",
       "332    Topic4     58.276840            place    156.088287   1.9947  -5.8059\n",
       "279    Topic4     65.638161         question    476.858093   0.9968  -5.6869\n",
       "464    Topic4     52.620953          durable    100.851181   2.3294  -5.9080\n",
       "518    Topic4     52.290760    environnement   1335.545654  -0.2604  -5.9143\n",
       "436    Topic4     51.161732            temps    263.234619   1.3418  -5.9361\n",
       "\n",
       "[205 rows x 6 columns], token_table=      Topic      Freq          Term\n",
       "term                               \n",
       "703       2  0.978361      abattage\n",
       "1537      2  0.818818         accès\n",
       "1537      3  0.176608         accès\n",
       "3         3  0.993965         achat\n",
       "3138      4  0.988234         aider\n",
       "3176      3  0.980643         aides\n",
       "6         1  0.998738           air\n",
       "6         2  0.001237           air\n",
       "7         1  0.099590           ais\n",
       "7         3  0.896308           ais\n",
       "1604      2  0.987860      aliments\n",
       "1879      4  0.985261            an\n",
       "704       1  0.549955       animaux\n",
       "704       2  0.013414       animaux\n",
       "704       3  0.435940       animaux\n",
       "1720      4  0.988394        années\n",
       "1026      4  0.998452           ans\n",
       "1605      3  0.989536        arbres\n",
       "788       2  0.729390        argent\n",
       "788       4  0.251971        argent\n",
       "1792      4  0.989894         armes\n",
       "14        1  0.967247        autres\n",
       "14        3  0.032452        autres\n",
       "667       1  0.349199         avant\n",
       "667       3  0.646876         avant\n",
       "2164      4  0.980782        besoin\n",
       "1618      1  0.234293  biodiversite\n",
       "1618      2  0.758006  biodiversite\n",
       "18        1  0.012931  biodiversité\n",
       "18        2  0.987052  biodiversité\n",
       "...     ...       ...           ...\n",
       "436       4  0.193744         temps\n",
       "240       1  0.999000         terre\n",
       "140       1  0.999517        toutes\n",
       "439       1  0.613814    transition\n",
       "439       3  0.386585    transition\n",
       "144       1  0.602487     transport\n",
       "144       3  0.399832     transport\n",
       "923       4  0.992504      utilisés\n",
       "244       1  0.857733           vie\n",
       "244       4  0.141020           vie\n",
       "1576      3  0.993286           vis\n",
       "440       3  0.991803       voiture\n",
       "484       3  0.995033      voitures\n",
       "664       2  0.987335     végétales\n",
       "1323      3  0.989952      véhicule\n",
       "1690      3  0.995686     véhicules\n",
       "380       1  0.647842    écologique\n",
       "380       3  0.351121    écologique\n",
       "441       1  0.107572    électrique\n",
       "441       3  0.887470    électrique\n",
       "819       3  0.989908   électriques\n",
       "154       1  0.792642       énergie\n",
       "154       3  0.179341       énergie\n",
       "154       4  0.028783       énergie\n",
       "1139      4  0.975240        éolien\n",
       "157       1  0.999707       érosion\n",
       "856       1  0.257177          état\n",
       "856       3  0.738700          état\n",
       "2787      3  0.986348     étrangers\n",
       "1874      2  0.984942   étroitement\n",
       "\n",
       "[235 rows x 3 columns], R=30, lambda_step=0.01, plot_opts={'xlab': 'PC1', 'ylab': 'PC2'}, topic_order=[3, 2, 1, 4])"
      ]
     },
     "execution_count": 52,
     "metadata": {},
     "output_type": "execute_result"
    }
   ],
   "source": [
    "pyLDAvis.enable_notebook()\n",
    "vis = pyLDAvis.gensim.prepare(lda_model, corpus, id2word)\n",
    "vis"
   ]
  },
  {
   "cell_type": "markdown",
   "metadata": {},
   "source": [
    "## Topic modeling for grouped lemmatized problems :"
   ]
  },
  {
   "cell_type": "markdown",
   "metadata": {},
   "source": [
    "We will first compute the optimal number of topics "
   ]
  },
  {
   "cell_type": "code",
   "execution_count": 49,
   "metadata": {
    "colab": {},
    "colab_type": "code",
    "id": "CD0cT4pARSEV"
   },
   "outputs": [
    {
     "name": "stdout",
     "output_type": "stream",
     "text": [
      "[(0,\n",
      "  '0.158*\"dérèglement\" + 0.153*\"crue\" + 0.147*\"pollution\" + '\n",
      "  '0.113*\"biodiversité\" + 0.113*\"disparition\" + 0.112*\"espèce\" + 0.110*\"air\" + '\n",
      "  '0.007*\"problème\" + 0.007*\"érosion\" + 0.005*\"eau\"'),\n",
      " (1,\n",
      "  '0.038*\"problème\" + 0.025*\"environnement\" + 0.022*\"eau\" + 0.019*\"terre\" + '\n",
      "  '0.015*\"déchet\" + 0.015*\"ressource\" + 0.012*\"consommation\" + 0.012*\"vie\" + '\n",
      "  '0.012*\"question\" + 0.011*\"énergie\"'),\n",
      " (2,\n",
      "  '0.031*\"an\" + 0.015*\"milliard\" + 0.011*\"million\" + 0.010*\"france\" + '\n",
      "  '0.009*\"état\" + 0.009*\"place\" + 0.008*\"véhicule\" + 0.007*\"service\" + '\n",
      "  '0.007*\"mise\" + 0.007*\"voiture\"')]\n",
      "\n",
      "Perplexity:  -4.270032363713754\n",
      "\n",
      "Coherence Score:  0.408261405150927\n"
     ]
    }
   ],
   "source": [
    "\n",
    "grouped_lemm_problems = lemm_grouped_data['problems']\n",
    "grouped_lemm_problems.fillna('',inplace=True)\n",
    "lda_model, corpus, id2word = get_topics(grouped_lemm_problems, n_topics=3)"
   ]
  },
  {
   "cell_type": "code",
   "execution_count": 50,
   "metadata": {},
   "outputs": [
    {
     "name": "stderr",
     "output_type": "stream",
     "text": [
      "/Users/siwarabbes/anaconda3/lib/python3.7/site-packages/pyLDAvis/_prepare.py:257: FutureWarning: Sorting because non-concatenation axis is not aligned. A future version\n",
      "of pandas will change to not sort by default.\n",
      "\n",
      "To accept the future behavior, pass 'sort=False'.\n",
      "\n",
      "To retain the current behavior and silence the warning, pass 'sort=True'.\n",
      "\n",
      "  return pd.concat([default_term_info] + list(topic_dfs))\n"
     ]
    },
    {
     "data": {
      "text/html": [
       "\n",
       "<link rel=\"stylesheet\" type=\"text/css\" href=\"https://cdn.rawgit.com/bmabey/pyLDAvis/files/ldavis.v1.0.0.css\">\n",
       "\n",
       "\n",
       "<div id=\"ldavis_el45671122375615605952687724\"></div>\n",
       "<script type=\"text/javascript\">\n",
       "\n",
       "var ldavis_el45671122375615605952687724_data = {\"mdsDat\": {\"x\": [-0.37110725589714494, 0.14030809843166223, 0.23079915746548266], \"y\": [0.038660880681787246, -0.25715504136069384, 0.21849416067890656], \"topics\": [1, 2, 3], \"cluster\": [1, 1, 1], \"Freq\": [70.96458435058594, 24.993732452392578, 4.0416741371154785]}, \"tinfo\": {\"Category\": [\"Default\", \"Default\", \"Default\", \"Default\", \"Default\", \"Default\", \"Default\", \"Default\", \"Default\", \"Default\", \"Default\", \"Default\", \"Default\", \"Default\", \"Default\", \"Default\", \"Default\", \"Default\", \"Default\", \"Default\", \"Default\", \"Default\", \"Default\", \"Default\", \"Default\", \"Default\", \"Default\", \"Default\", \"Default\", \"Default\", \"Topic1\", \"Topic1\", \"Topic1\", \"Topic1\", \"Topic1\", \"Topic1\", \"Topic1\", \"Topic1\", \"Topic1\", \"Topic1\", \"Topic1\", \"Topic1\", \"Topic1\", \"Topic1\", \"Topic1\", \"Topic1\", \"Topic1\", \"Topic1\", \"Topic1\", \"Topic1\", \"Topic1\", \"Topic1\", \"Topic1\", \"Topic1\", \"Topic1\", \"Topic1\", \"Topic1\", \"Topic1\", \"Topic1\", \"Topic1\", \"Topic1\", \"Topic1\", \"Topic1\", \"Topic1\", \"Topic1\", \"Topic1\", \"Topic1\", \"Topic1\", \"Topic1\", \"Topic1\", \"Topic1\", \"Topic1\", \"Topic1\", \"Topic1\", \"Topic1\", \"Topic1\", \"Topic1\", \"Topic1\", \"Topic1\", \"Topic1\", \"Topic1\", \"Topic1\", \"Topic1\", \"Topic1\", \"Topic1\", \"Topic1\", \"Topic1\", \"Topic2\", \"Topic2\", \"Topic2\", \"Topic2\", \"Topic2\", \"Topic2\", \"Topic2\", \"Topic2\", \"Topic2\", \"Topic2\", \"Topic2\", \"Topic2\", \"Topic2\", \"Topic2\", \"Topic2\", \"Topic2\", \"Topic2\", \"Topic2\", \"Topic2\", \"Topic2\", \"Topic2\", \"Topic2\", \"Topic2\", \"Topic2\", \"Topic2\", \"Topic2\", \"Topic2\", \"Topic2\", \"Topic2\", \"Topic2\", \"Topic2\", \"Topic2\", \"Topic2\", \"Topic2\", \"Topic2\", \"Topic2\", \"Topic2\", \"Topic2\", \"Topic2\", \"Topic2\", \"Topic3\", \"Topic3\", \"Topic3\", \"Topic3\", \"Topic3\", \"Topic3\", \"Topic3\", \"Topic3\", \"Topic3\", \"Topic3\", \"Topic3\", \"Topic3\", \"Topic3\", \"Topic3\", \"Topic3\", \"Topic3\", \"Topic3\", \"Topic3\", \"Topic3\", \"Topic3\", \"Topic3\", \"Topic3\", \"Topic3\", \"Topic3\", \"Topic3\", \"Topic3\", \"Topic3\", \"Topic3\", \"Topic3\", \"Topic3\", \"Topic3\", \"Topic3\", \"Topic3\", \"Topic3\", \"Topic3\", \"Topic3\", \"Topic3\", \"Topic3\", \"Topic3\", \"Topic3\", \"Topic3\", \"Topic3\", \"Topic3\", \"Topic3\", \"Topic3\", \"Topic3\", \"Topic3\"], \"Freq\": [22656.0, 21971.0, 16242.0, 16212.0, 16070.0, 15789.0, 21331.0, 3011.0, 1243.0, 964.0, 1797.0, 762.0, 1292.0, 627.0, 603.0, 591.0, 251.0, 556.0, 539.0, 531.0, 388.0, 523.0, 488.0, 461.0, 430.0, 421.0, 395.0, 394.0, 392.0, 389.0, 22656.208984375, 21970.875, 16212.0693359375, 16241.3583984375, 16069.94140625, 15760.07421875, 61.696617126464844, 20995.53515625, 137.35073852539062, 36.1150016784668, 40.84525680541992, 25.177942276000977, 23.188507080078125, 23.287967681884766, 41.729896545410156, 22.17715835571289, 26.09067153930664, 17.155899047851562, 13.638635635375977, 19.451038360595703, 12.463676452636719, 15.73338508605957, 15.155952453613281, 13.35076904296875, 13.364194869995117, 11.099465370178223, 13.692185401916504, 10.408260345458984, 11.2595853805542, 11.011237144470215, 169.36312866210938, 17.844385147094727, 451.0777282714844, 938.2225341796875, 292.7635498046875, 48.988380432128906, 562.6549682617188, 240.27908325195312, 63.276084899902344, 37.29743957519531, 50.051536560058594, 228.96629333496094, 62.772560119628906, 260.7165832519531, 1069.7589111328125, 282.52764892578125, 691.6723022460938, 520.172119140625, 147.07723999023438, 57.78703689575195, 153.45631408691406, 119.20602416992188, 96.63591766357422, 70.39534759521484, 72.52218627929688, 87.63851928710938, 80.84788513183594, 1242.6763916015625, 964.189697265625, 626.3798828125, 602.757080078125, 590.365966796875, 556.0792236328125, 538.9740600585938, 530.5757446289062, 523.2122802734375, 487.5751647949219, 460.9291687011719, 430.0801086425781, 393.9457092285156, 420.6132507324219, 392.1508483886719, 388.52392578125, 394.640869140625, 334.1516418457031, 305.46295166015625, 314.4242858886719, 310.4761047363281, 300.98431396484375, 293.826416015625, 262.6072082519531, 258.8317565917969, 241.19410705566406, 243.53822326660156, 228.26309204101562, 243.53713989257812, 220.3675537109375, 234.7609100341797, 736.7412109375, 261.2978820800781, 326.40234375, 1941.4097900390625, 1105.579345703125, 771.9669189453125, 307.24981689453125, 272.9054260253906, 336.00714111328125, 250.19908142089844, 121.499755859375, 87.63617706298828, 55.634849548339844, 59.68385696411133, 39.61410903930664, 43.81086349487305, 47.558815002441406, 47.03646469116211, 44.346099853515625, 38.85100555419922, 38.1084098815918, 57.928279876708984, 29.690616607666016, 31.999914169311523, 25.508377075195312, 24.752233505249023, 40.513519287109375, 26.587162017822266, 32.908084869384766, 41.75667953491211, 30.32623863220215, 23.26993179321289, 25.208166122436523, 23.652536392211914, 20.76093292236328, 24.377592086791992, 22.061878204345703, 20.475067138671875, 21.303312301635742, 27.67109489440918, 25.13095474243164, 25.061500549316406, 28.315696716308594, 24.450300216674805, 36.742671966552734, 64.07194519042969, 57.67815399169922, 70.7847900390625, 74.96345520019531, 50.31440353393555, 32.41657257080078, 81.13658905029297, 37.43724060058594, 40.79608917236328, 37.976192474365234, 32.14466857910156], \"Term\": [\"d\\u00e9r\\u00e8glement\", \"crue\", \"biodiversit\\u00e9\", \"disparition\", \"esp\\u00e8ce\", \"air\", \"pollution\", \"probl\\u00e8me\", \"environnement\", \"terre\", \"eau\", \"ressource\", \"d\\u00e9chet\", \"consommation\", \"vie\", \"question\", \"an\", \"\\u00e9nergie\", \"cons\\u00e9quence\", \"produit\", \"france\", \"homme\", \"cause\", \"pesticide\", \"agriculture\", \"gestion\", \"sant\\u00e9\", \"production\", \"activit\\u00e9\", \"effet\", \"d\\u00e9r\\u00e8glement\", \"crue\", \"disparition\", \"biodiversit\\u00e9\", \"esp\\u00e8ce\", \"air\", \"hi\\u00e9rarchie\", \"pollution\", \"energie\", \"pression\", \"agro\", \"front\", \"d\\u00e9reglement\", \"prolif\\u00e9ration\", \"vue\", \"s\\u00e9cheresse\", \"invasion\", \"courage\", \"m\\u00e9pris\", \"pari\", \"d\\u00e9charge\", \"resource\", \"\\u00e9limination\", \"int\\u00e9gralit\\u00e9\", \"rubrique\", \"incidence\", \"\\u00e9v\\u00e9nement\", \"valorisation\", \"r\\u00e9unie\", \"tient\", \"dechet\", \"conflit\", \"r\\u00e9ponse\", \"\\u00e9rosion\", \"surpopulation\", \"aspect\", \"proposition\", \"surconsommation\", \"argent\", \"li\\u00e9\", \"cit\\u00e9\", \"ensemble\", \"aliment\", \"sujet\", \"probl\\u00e8me\", \"point\", \"eau\", \"d\\u00e9chet\", \"gaspillage\", \"th\\u00e8me\", \"fois\", \"importance\", \"\\u00e9l\\u00e9ment\", \"d\\u00e9forestation\", \"place\", \"\\u00e9cologie\", \"transition\", \"environnement\", \"terre\", \"consommation\", \"vie\", \"question\", \"\\u00e9nergie\", \"cons\\u00e9quence\", \"produit\", \"homme\", \"cause\", \"pesticide\", \"agriculture\", \"production\", \"gestion\", \"activit\\u00e9\", \"effet\", \"sant\\u00e9\", \"population\", \"utilisation\", \"destruction\", \"perte\", \"compte\", \"nature\", \"sol\", \"terme\", \"qualit\\u00e9\", \"alimentation\", \"domaine\", \"niveau\", \"augmentation\", \"croissance\", \"ressource\", \"transport\", \"pays\", \"probl\\u00e8me\", \"eau\", \"d\\u00e9chet\", \"france\", \"climat\", \"pollution\", \"an\", \"milliard\", \"million\", \"kilom\\u00e8tre\", \"service\", \"aide\", \"pr\\u00e9sident\", \"travail\", \"diesel\", \"s\\u00e9curit\\u00e9\", \"droit\", \"achat\", \"mise\", \"habitant\", \"chaleur\", \"mois\", \"conseil\", \"\\u00e9tude\", \"bois\", \"charge\", \"march\\u00e9\", \"distribution\", \"am\\u00e9lioration\", \"essence\", \"interdiction\", \"fonctionnaire\", \"d\\u00e9mocratie\", \"\\u00e9lection\", \"pratique\", \"hydrog\\u00e8ne\", \"association\", \"avantage\", \"fonds\", \"preuve\", \"acte\", \"obligation\", \"v\\u00e9hicule\", \"voiture\", \"place\", \"\\u00e9tat\", \"ann\\u00e9e\", \"groupe\", \"france\", \"jour\", \"personne\", \"loi\", \"transition\"], \"Total\": [22656.0, 21971.0, 16242.0, 16212.0, 16070.0, 15789.0, 21331.0, 3011.0, 1243.0, 964.0, 1797.0, 762.0, 1292.0, 627.0, 603.0, 591.0, 251.0, 556.0, 539.0, 531.0, 388.0, 523.0, 488.0, 461.0, 430.0, 421.0, 395.0, 394.0, 392.0, 389.0, 22656.921875, 21971.587890625, 16212.77734375, 16242.0712890625, 16070.6494140625, 15789.771484375, 62.443477630615234, 21331.876953125, 139.56942749023438, 36.93778610229492, 41.831871032714844, 25.89171600341797, 23.863676071166992, 24.07996368408203, 43.282379150390625, 23.100797653198242, 27.198471069335938, 17.984724044799805, 14.330389022827148, 20.464237213134766, 13.153409004211426, 16.625150680541992, 16.02637481689453, 14.118169784545898, 14.137652397155762, 11.747504234313965, 14.496813774108887, 11.097821235656738, 12.02075481414795, 11.758994102478027, 183.69357299804688, 19.15924072265625, 523.1881713867188, 1155.8177490234375, 362.7117614746094, 56.095680236816406, 755.3281860351562, 309.47052001953125, 75.43377685546875, 42.926334381103516, 59.74980926513672, 353.82171630859375, 83.29994201660156, 456.434326171875, 3011.48681640625, 563.0751342773438, 1797.58203125, 1292.46484375, 261.7476501464844, 80.0357666015625, 347.42962646484375, 250.25746154785156, 179.53102111816406, 112.2793960571289, 143.8475341796875, 285.8147277832031, 335.0833740234375, 1243.39501953125, 964.9532470703125, 627.1190795898438, 603.4725952148438, 591.1197509765625, 556.80712890625, 539.7042846679688, 531.29833984375, 523.9482421875, 488.3162536621094, 461.6572570800781, 430.807861328125, 394.66021728515625, 421.3892517089844, 392.875244140625, 389.2462463378906, 395.37725830078125, 334.9156188964844, 306.1659851074219, 315.15069580078125, 311.24114990234375, 301.7294616699219, 294.5648498535156, 263.3409423828125, 259.5596008300781, 241.9332733154297, 244.2957000732422, 228.9861297607422, 244.3179473876953, 221.1138458251953, 235.59750366210938, 762.0360107421875, 263.2044982910156, 339.5528564453125, 3011.48681640625, 1797.58203125, 1292.46484375, 388.7818298339844, 304.7801208496094, 21331.876953125, 251.13966369628906, 122.27754974365234, 88.35462951660156, 56.45060348510742, 60.596435546875, 40.274959564208984, 44.553157806396484, 48.3653450012207, 47.898136138916016, 45.18855285644531, 39.596500396728516, 38.915000915527344, 59.15827560424805, 30.389528274536133, 32.7873420715332, 26.18306541442871, 25.421112060546875, 41.61819076538086, 27.31890869140625, 33.831825256347656, 42.94356155395508, 31.203798294067383, 23.961395263671875, 25.9606876373291, 24.384654998779297, 21.408010482788086, 25.139841079711914, 22.763385772705078, 21.17815399169922, 22.04239273071289, 28.667320251464844, 26.016164779663086, 26.001283645629883, 29.59381675720215, 25.408151626586914, 45.306270599365234, 106.20771789550781, 99.65208435058594, 143.8475341796875, 212.9885711669922, 103.13082885742188, 43.26021957397461, 388.7818298339844, 87.93441772460938, 132.64892578125, 111.16891479492188, 335.0833740234375], \"loglift\": [30.0, 29.0, 28.0, 27.0, 26.0, 25.0, 24.0, 23.0, 22.0, 21.0, 20.0, 19.0, 18.0, 17.0, 16.0, 15.0, 14.0, 13.0, 12.0, 11.0, 10.0, 9.0, 8.0, 7.0, 6.0, 5.0, 4.0, 3.0, 2.0, 1.0, 0.34299999475479126, 0.34299999475479126, 0.34290000796318054, 0.34290000796318054, 0.34290000796318054, 0.3411000072956085, 0.3310000002384186, 0.32710000872612, 0.3269999921321869, 0.320499986410141, 0.3190999925136566, 0.3149999976158142, 0.314300000667572, 0.3095000088214874, 0.30649998784065247, 0.30219998955726624, 0.30140000581741333, 0.29580000042915344, 0.29350000619888306, 0.2921999990940094, 0.2890999913215637, 0.28790000081062317, 0.2870999872684479, 0.2870999872684479, 0.2867000102996826, 0.28619998693466187, 0.2858999967575073, 0.27880001068115234, 0.2775999903678894, 0.27730000019073486, 0.26179999113082886, 0.2718999981880188, 0.19470000267028809, 0.13439999520778656, 0.12870000302791595, 0.20749999582767487, 0.048500001430511475, 0.08990000188350677, 0.1671999990940094, 0.20239999890327454, 0.16590000689029694, -0.09220000356435776, 0.060100000351667404, -0.21699999272823334, -0.6919999718666077, -0.3465999960899353, -0.6121000051498413, -0.5672000050544739, -0.23340000212192535, 0.01730000041425228, -0.4742000102996826, -0.3986000120639801, -0.27639999985694885, -0.12389999628067017, -0.3418999910354614, -0.8391000032424927, -1.0787999629974365, 1.3860000371932983, 1.3858000040054321, 1.3854000568389893, 1.3854000568389893, 1.3853000402450562, 1.385200023651123, 1.385200023651123, 1.385200023651123, 1.38510000705719, 1.3849999904632568, 1.3849999904632568, 1.3848999738693237, 1.3846999406814575, 1.3846999406814575, 1.3846999406814575, 1.3846999406814575, 1.3846999406814575, 1.3842999935150146, 1.3841999769210815, 1.3841999769210815, 1.3840999603271484, 1.3840999603271484, 1.3839999437332153, 1.3838000297546387, 1.3837000131607056, 1.3834999799728394, 1.3833999633789062, 1.3833999633789062, 1.3832999467849731, 1.3832000494003296, 1.3830000162124634, 1.3528000116348267, 1.3792999982833862, 1.347000002861023, 0.9474999904632568, 0.9004999995231628, 0.8712000250816345, 1.1512000560760498, 1.2761000394821167, -2.7643001079559326, 3.2047998905181885, 3.2021000385284424, 3.2002999782562256, 3.194000005722046, 3.1933000087738037, 3.191999912261963, 3.191699981689453, 3.191699981689453, 3.1903998851776123, 3.18969988822937, 3.189500093460083, 3.1875998973846436, 3.1875, 3.1851999759674072, 3.1842000484466553, 3.1823999881744385, 3.18179988861084, 3.1816000938415527, 3.1814000606536865, 3.180799961090088, 3.180500030517578, 3.180000066757202, 3.1791999340057373, 3.1791000366210938, 3.177999973297119, 3.177799940109253, 3.1777000427246094, 3.1772000789642334, 3.1747000217437744, 3.1744000911712646, 3.173099994659424, 3.1738998889923096, 3.1717000007629395, 3.164400100708008, 3.170099973678589, 2.999000072479248, 2.7030999660491943, 2.6617000102996826, 2.4993999004364014, 2.164299964904785, 2.490799903869629, 2.9198999404907227, 1.6416000127792358, 2.354599952697754, 2.029400110244751, 2.134399890899658, 0.8644000291824341], \"logprob\": [30.0, 29.0, 28.0, 27.0, 26.0, 25.0, 24.0, 23.0, 22.0, 21.0, 20.0, 19.0, 18.0, 17.0, 16.0, 15.0, 14.0, 13.0, 12.0, 11.0, 10.0, 9.0, 8.0, 7.0, 6.0, 5.0, 4.0, 3.0, 2.0, 1.0, -1.8437999486923218, -1.8746000528335571, -2.178499937057495, -2.1767001152038574, -2.187299966812134, -2.2067999839782715, -7.749800205230713, -1.9199999570846558, -6.94950008392334, -8.285300254821777, -8.162199974060059, -8.646100044250488, -8.728400230407715, -8.724100112915039, -8.140800476074219, -8.77299976348877, -8.610400199890137, -9.02970027923584, -9.259099960327148, -8.90410041809082, -9.349200248718262, -9.11620044708252, -9.153599739074707, -9.280500411987305, -9.279399871826172, -9.465100288391113, -9.255200386047363, -9.529399871826172, -9.450799942016602, -9.473099708557129, -6.739999771118164, -8.990300178527832, -5.76039981842041, -5.0279998779296875, -6.192699909210205, -7.980400085449219, -5.539400100708008, -6.390200138092041, -7.7245001792907715, -8.253100395202637, -7.959000110626221, -6.438499927520752, -7.732500076293945, -6.308599948883057, -4.8968000411987305, -6.2281999588012695, -5.332900047302246, -5.6178998947143555, -6.881100177764893, -7.815299987792969, -6.838600158691406, -7.09119987487793, -7.30109977722168, -7.6178998947143555, -7.588099956512451, -7.398799896240234, -7.479499816894531, -3.703399896621704, -3.957200050354004, -4.388500213623047, -4.427000045776367, -4.447700023651123, -4.507599830627441, -4.53879976272583, -4.554500102996826, -4.56850004196167, -4.638999938964844, -4.695199966430664, -4.764500141143799, -4.85230016708374, -4.786799907684326, -4.856800079345703, -4.866099834442139, -4.850500106811523, -5.016900062561035, -5.106599807739258, -5.077700138092041, -5.090400218963623, -5.121399879455566, -5.145500183105469, -5.257800102233887, -5.272299766540527, -5.342899799346924, -5.333199977874756, -5.3979997634887695, -5.333199977874756, -5.433199882507324, -5.369900226593018, -4.226200103759766, -5.262800216674805, -5.040299892425537, -3.2572999000549316, -3.8203001022338867, -4.179500102996826, -5.100800037384033, -5.219299793243408, -5.011300086975098, -3.4842000007629395, -4.206600189208984, -4.533299922943115, -4.98769998550415, -4.917399883270264, -5.327300071716309, -5.226600170135498, -5.144499778747559, -5.155600070953369, -5.2144999504089355, -5.346799850463867, -5.366099834442139, -4.947299957275391, -5.615699768066406, -5.540800094604492, -5.767499923706055, -5.797599792480469, -5.304900169372559, -5.726099967956543, -5.512800216674805, -5.274600028991699, -5.5945000648498535, -5.859300136566162, -5.779300212860107, -5.8429999351501465, -5.973400115966797, -5.81279993057251, -5.912700176239014, -5.987299919128418, -5.9475998878479, -5.686100006103516, -5.782400131225586, -5.785200119018555, -5.663099765777588, -5.809899806976318, -5.402599811553955, -4.846499919891357, -4.951600074768066, -4.7469000816345215, -4.689499855041504, -5.088200092315674, -5.5278000831604, -4.610400199890137, -5.383800029754639, -5.297900199890137, -5.369500160217285, -5.536300182342529]}, \"token.table\": {\"Topic\": [3, 3, 2, 2, 1, 2, 3, 1, 2, 1, 2, 2, 3, 3, 2, 3, 1, 3, 1, 2, 2, 3, 2, 3, 1, 3, 2, 3, 3, 1, 2, 1, 2, 2, 1, 2, 3, 2, 2, 1, 2, 1, 1, 2, 2, 3, 1, 3, 2, 3, 1, 1, 2, 1, 2, 3, 1, 1, 1, 2, 2, 1, 3, 1, 2, 2, 1, 3, 1, 2, 3, 3, 2, 3, 1, 1, 2, 2, 1, 3, 3, 1, 2, 3, 1, 2, 1, 3, 1, 1, 2, 2, 3, 3, 1, 2, 2, 3, 1, 2, 3, 3, 3, 1, 2, 3, 3, 1, 2, 2, 1, 3, 1, 2, 2, 3, 2, 3, 2, 2, 1, 2, 3, 1, 2, 1, 2, 2, 3, 1, 1, 2, 3, 1, 2, 2, 2, 1, 1, 2, 3, 2, 2, 1, 2, 1, 2, 1, 1, 2, 1, 2, 3, 2, 1, 2, 1, 2, 1, 2, 1, 2, 3, 2, 2, 1, 2, 1, 1, 2, 3, 2, 3, 3, 2, 1, 2, 1, 3, 1, 2, 3, 1, 3, 1, 2, 3, 1, 2, 1, 2, 2, 1, 2, 2, 3, 2, 3, 1], \"Freq\": [0.9764872193336487, 0.9445787668228149, 0.997772216796875, 0.9981247782707214, 0.9801139235496521, 0.02390521764755249, 0.9931729435920715, 0.9981145262718201, 0.0018366320291534066, 0.756303071975708, 0.24009621143341064, 0.9987896084785461, 0.9598773121833801, 0.9954620599746704, 0.5042139291763306, 0.484821081161499, 0.8351696133613586, 0.1590799242258072, 0.873507559299469, 0.12478679418563843, 0.03488292545080185, 0.9767219424247742, 0.9949625730514526, 0.9609410166740417, 0.9999340176582336, 0.9883264303207397, 0.9993523359298706, 0.9759864211082458, 0.9754129648208618, 0.8368227481842041, 0.15062808990478516, 0.10499372333288193, 0.8957276940345764, 0.9975823760032654, 0.9394944310188293, 0.05219413340091705, 0.9834345579147339, 0.9982154965400696, 0.9986950755119324, 0.9452466368675232, 0.9974638819694519, 0.9999732375144958, 0.9200103878974915, 0.07621388137340546, 0.9963487386703491, 0.9812490344047546, 0.9999520778656006, 0.9614214301109314, 0.9956935048103333, 0.9849355220794678, 0.9123110175132751, 0.40233203768730164, 0.597308337688446, 0.6234447360038757, 0.37406685948371887, 0.9546599984169006, 0.9638079404830933, 0.9999592900276184, 0.3849615752696991, 0.6152709722518921, 0.999367356300354, 0.9815903306007385, 0.014329785481095314, 0.6472185850143433, 0.3532852828502655, 0.9996823072433472, 0.9999595880508423, 0.9629945158958435, 0.4403769373893738, 0.5583864450454712, 0.9809412360191345, 0.9614909887313843, 0.7896459698677063, 0.20834307372570038, 0.9655597805976868, 0.5616096258163452, 0.4355340003967285, 0.999076247215271, 0.2311592549085617, 0.7397096157073975, 0.9871821403503418, 0.9928979277610779, 0.9981902241706848, 0.9527096152305603, 0.47551029920578003, 0.5234609246253967, 0.9363691210746765, 0.9842255115509033, 0.9207992553710938, 0.955936074256897, 0.03676677122712135, 0.5686056017875671, 0.4207681119441986, 0.9920177459716797, 0.8619417548179626, 0.11647861450910568, 0.656658411026001, 0.34182217717170715, 0.023286378011107445, 0.023286378011107445, 0.978027880191803, 0.9895520210266113, 0.99598628282547, 0.01690380647778511, 0.01690380647778511, 0.980420708656311, 0.9930082559585571, 0.9769448637962341, 0.9980823993682861, 0.9986986517906189, 0.17657600343227386, 0.8166639804840088, 0.9284489750862122, 0.04886573553085327, 0.9600861668586731, 0.038285642862319946, 0.6860213875770569, 0.30908656120300293, 0.996012270450592, 0.998576283454895, 0.5074817538261414, 0.006951804738491774, 0.493578165769577, 0.5025972127914429, 0.49726933240890503, 0.9842547178268433, 0.015751074999570847, 0.9972661137580872, 0.944369375705719, 0.974611759185791, 0.033790841698646545, 0.033790841698646545, 0.9461435675621033, 0.3553062081336975, 0.6445321440696716, 0.9983271360397339, 0.999438464641571, 0.9551509618759155, 0.7453713417053223, 0.25419414043426514, 0.9875842928886414, 0.9961424469947815, 0.9981057047843933, 0.9623972773551941, 0.06014982983469963, 0.032806847244501114, 0.9671459197998047, 0.9195303320884705, 0.8620225191116333, 0.1376177966594696, 0.9150839447975159, 0.9990458488464355, 0.9901572465896606, 0.9987053275108337, 0.57182377576828, 0.42722466588020325, 0.7755181193351746, 0.22296147048473358, 0.8078039884567261, 0.19299070537090302, 0.9523480534553528, 0.04328854754567146, 0.9736979007720947, 0.9978440403938293, 0.9990121126174927, 0.7246760129928589, 0.2748771011829376, 0.9354541897773743, 0.24173088371753693, 0.6625216603279114, 0.09549862146377563, 0.9916244149208069, 0.007598654367029667, 0.9924461245536804, 0.996191680431366, 0.9010777473449707, 0.9992168545722961, 0.4214663505554199, 0.5820249319076538, 0.9703717827796936, 0.023104090243577957, 0.023104090243577957, 0.39545148611068726, 0.6025927662849426, 0.30789175629615784, 0.6927564740180969, 0.9664643406867981, 0.935957133769989, 0.06239714473485947, 0.5402966141700745, 0.4623156487941742, 0.9985504150390625, 0.8115466237068176, 0.1877458691596985, 0.6479220986366272, 0.35213157534599304, 0.024027954787015915, 0.985146164894104, 0.9657294750213623], \"Term\": [\"achat\", \"acte\", \"activit\\u00e9\", \"agriculture\", \"agro\", \"agro\", \"aide\", \"air\", \"air\", \"aliment\", \"aliment\", \"alimentation\", \"am\\u00e9lioration\", \"an\", \"ann\\u00e9e\", \"ann\\u00e9e\", \"argent\", \"argent\", \"aspect\", \"aspect\", \"association\", \"association\", \"augmentation\", \"avantage\", \"biodiversit\\u00e9\", \"bois\", \"cause\", \"chaleur\", \"charge\", \"cit\\u00e9\", \"cit\\u00e9\", \"climat\", \"climat\", \"compte\", \"conflit\", \"conflit\", \"conseil\", \"consommation\", \"cons\\u00e9quence\", \"courage\", \"croissance\", \"crue\", \"dechet\", \"dechet\", \"destruction\", \"diesel\", \"disparition\", \"distribution\", \"domaine\", \"droit\", \"d\\u00e9charge\", \"d\\u00e9chet\", \"d\\u00e9chet\", \"d\\u00e9forestation\", \"d\\u00e9forestation\", \"d\\u00e9mocratie\", \"d\\u00e9reglement\", \"d\\u00e9r\\u00e8glement\", \"eau\", \"eau\", \"effet\", \"energie\", \"energie\", \"ensemble\", \"ensemble\", \"environnement\", \"esp\\u00e8ce\", \"essence\", \"fois\", \"fois\", \"fonctionnaire\", \"fonds\", \"france\", \"france\", \"front\", \"gaspillage\", \"gaspillage\", \"gestion\", \"groupe\", \"groupe\", \"habitant\", \"hi\\u00e9rarchie\", \"homme\", \"hydrog\\u00e8ne\", \"importance\", \"importance\", \"incidence\", \"interdiction\", \"int\\u00e9gralit\\u00e9\", \"invasion\", \"invasion\", \"jour\", \"jour\", \"kilom\\u00e8tre\", \"li\\u00e9\", \"li\\u00e9\", \"loi\", \"loi\", \"march\\u00e9\", \"march\\u00e9\", \"march\\u00e9\", \"milliard\", \"million\", \"mise\", \"mise\", \"mise\", \"mois\", \"m\\u00e9pris\", \"nature\", \"niveau\", \"obligation\", \"obligation\", \"pari\", \"pari\", \"pays\", \"pays\", \"personne\", \"personne\", \"perte\", \"pesticide\", \"place\", \"place\", \"place\", \"point\", \"point\", \"pollution\", \"pollution\", \"population\", \"pratique\", \"pression\", \"preuve\", \"preuve\", \"preuve\", \"probl\\u00e8me\", \"probl\\u00e8me\", \"production\", \"produit\", \"prolif\\u00e9ration\", \"proposition\", \"proposition\", \"pr\\u00e9sident\", \"qualit\\u00e9\", \"question\", \"resource\", \"resource\", \"ressource\", \"ressource\", \"rubrique\", \"r\\u00e9ponse\", \"r\\u00e9ponse\", \"r\\u00e9unie\", \"sant\\u00e9\", \"service\", \"sol\", \"sujet\", \"sujet\", \"surconsommation\", \"surconsommation\", \"surpopulation\", \"surpopulation\", \"s\\u00e9cheresse\", \"s\\u00e9cheresse\", \"s\\u00e9curit\\u00e9\", \"terme\", \"terre\", \"th\\u00e8me\", \"th\\u00e8me\", \"tient\", \"transition\", \"transition\", \"transition\", \"transport\", \"transport\", \"travail\", \"utilisation\", \"valorisation\", \"vie\", \"voiture\", \"voiture\", \"vue\", \"vue\", \"vue\", \"v\\u00e9hicule\", \"v\\u00e9hicule\", \"\\u00e9cologie\", \"\\u00e9cologie\", \"\\u00e9lection\", \"\\u00e9limination\", \"\\u00e9limination\", \"\\u00e9l\\u00e9ment\", \"\\u00e9l\\u00e9ment\", \"\\u00e9nergie\", \"\\u00e9rosion\", \"\\u00e9rosion\", \"\\u00e9tat\", \"\\u00e9tat\", \"\\u00e9tude\", \"\\u00e9tude\", \"\\u00e9v\\u00e9nement\"]}, \"R\": 30, \"lambda.step\": 0.01, \"plot.opts\": {\"xlab\": \"PC1\", \"ylab\": \"PC2\"}, \"topic.order\": [1, 2, 3]};\n",
       "\n",
       "function LDAvis_load_lib(url, callback){\n",
       "  var s = document.createElement('script');\n",
       "  s.src = url;\n",
       "  s.async = true;\n",
       "  s.onreadystatechange = s.onload = callback;\n",
       "  s.onerror = function(){console.warn(\"failed to load library \" + url);};\n",
       "  document.getElementsByTagName(\"head\")[0].appendChild(s);\n",
       "}\n",
       "\n",
       "if(typeof(LDAvis) !== \"undefined\"){\n",
       "   // already loaded: just create the visualization\n",
       "   !function(LDAvis){\n",
       "       new LDAvis(\"#\" + \"ldavis_el45671122375615605952687724\", ldavis_el45671122375615605952687724_data);\n",
       "   }(LDAvis);\n",
       "}else if(typeof define === \"function\" && define.amd){\n",
       "   // require.js is available: use it to load d3/LDAvis\n",
       "   require.config({paths: {d3: \"https://cdnjs.cloudflare.com/ajax/libs/d3/3.5.5/d3.min\"}});\n",
       "   require([\"d3\"], function(d3){\n",
       "      window.d3 = d3;\n",
       "      LDAvis_load_lib(\"https://cdn.rawgit.com/bmabey/pyLDAvis/files/ldavis.v1.0.0.js\", function(){\n",
       "        new LDAvis(\"#\" + \"ldavis_el45671122375615605952687724\", ldavis_el45671122375615605952687724_data);\n",
       "      });\n",
       "    });\n",
       "}else{\n",
       "    // require.js not available: dynamically load d3 & LDAvis\n",
       "    LDAvis_load_lib(\"https://cdnjs.cloudflare.com/ajax/libs/d3/3.5.5/d3.min.js\", function(){\n",
       "         LDAvis_load_lib(\"https://cdn.rawgit.com/bmabey/pyLDAvis/files/ldavis.v1.0.0.js\", function(){\n",
       "                 new LDAvis(\"#\" + \"ldavis_el45671122375615605952687724\", ldavis_el45671122375615605952687724_data);\n",
       "            })\n",
       "         });\n",
       "}\n",
       "</script>"
      ],
      "text/plain": [
       "PreparedData(topic_coordinates=              x         y  topics  cluster       Freq\n",
       "topic                                                \n",
       "0     -0.371107  0.038661       1        1  70.964584\n",
       "1      0.140308 -0.257155       2        1  24.993732\n",
       "2      0.230799  0.218494       3        1   4.041674, topic_info=     Category          Freq           Term         Total  loglift  logprob\n",
       "term                                                                      \n",
       "17    Default  22656.000000    dérèglement  22656.000000  30.0000  30.0000\n",
       "13    Default  21971.000000           crue  21971.000000  29.0000  29.0000\n",
       "7     Default  16242.000000   biodiversité  16242.000000  28.0000  28.0000\n",
       "14    Default  16212.000000    disparition  16212.000000  27.0000  27.0000\n",
       "24    Default  16070.000000         espèce  16070.000000  26.0000  26.0000\n",
       "4     Default  15789.000000            air  15789.000000  25.0000  25.0000\n",
       "41    Default  21331.000000      pollution  21331.000000  24.0000  24.0000\n",
       "45    Default   3011.000000       problème   3011.000000  23.0000  23.0000\n",
       "191   Default   1243.000000  environnement   1243.000000  22.0000  22.0000\n",
       "91    Default    964.000000          terre    964.000000  21.0000  21.0000\n",
       "19    Default   1797.000000            eau   1797.000000  20.0000  20.0000\n",
       "123   Default    762.000000      ressource    762.000000  19.0000  19.0000\n",
       "15    Default   1292.000000         déchet   1292.000000  18.0000  18.0000\n",
       "68    Default    627.000000   consommation    627.000000  17.0000  17.0000\n",
       "93    Default    603.000000            vie    603.000000  16.0000  16.0000\n",
       "105   Default    591.000000       question    591.000000  15.0000  15.0000\n",
       "353   Default    251.000000             an    251.000000  14.0000  14.0000\n",
       "60    Default    556.000000        énergie    556.000000  13.0000  13.0000\n",
       "254   Default    539.000000    conséquence    539.000000  12.0000  12.0000\n",
       "46    Default    531.000000        produit    531.000000  11.0000  11.0000\n",
       "27    Default    388.000000         france    388.000000  10.0000  10.0000\n",
       "233   Default    523.000000          homme    523.000000   9.0000   9.0000\n",
       "8     Default    488.000000          cause    488.000000   8.0000   8.0000\n",
       "74    Default    461.000000      pesticide    461.000000   7.0000   7.0000\n",
       "67    Default    430.000000    agriculture    430.000000   6.0000   6.0000\n",
       "318   Default    421.000000        gestion    421.000000   5.0000   5.0000\n",
       "206   Default    395.000000          santé    395.000000   4.0000   4.0000\n",
       "65    Default    394.000000     production    394.000000   3.0000   3.0000\n",
       "125   Default    392.000000       activité    392.000000   2.0000   2.0000\n",
       "99    Default    389.000000          effet    389.000000   1.0000   1.0000\n",
       "...       ...           ...            ...           ...      ...      ...\n",
       "1567   Topic3     40.513519          étude     41.618191   3.1816  -5.3049\n",
       "1807   Topic3     26.587162           bois     27.318909   3.1814  -5.7261\n",
       "879    Topic3     32.908085         charge     33.831825   3.1808  -5.5128\n",
       "699    Topic3     41.756680         marché     42.943562   3.1805  -5.2746\n",
       "114    Topic3     30.326239   distribution     31.203798   3.1800  -5.5945\n",
       "145    Topic3     23.269932   amélioration     23.961395   3.1792  -5.8593\n",
       "299    Topic3     25.208166        essence     25.960688   3.1791  -5.7793\n",
       "373    Topic3     23.652536   interdiction     24.384655   3.1780  -5.8430\n",
       "2865   Topic3     20.760933  fonctionnaire     21.408010   3.1778  -5.9734\n",
       "954    Topic3     24.377592     démocratie     25.139841   3.1777  -5.8128\n",
       "563    Topic3     22.061878       élection     22.763386   3.1772  -5.9127\n",
       "704    Topic3     20.475067       pratique     21.178154   3.1747  -5.9873\n",
       "1187   Topic3     21.303312      hydrogène     22.042393   3.1744  -5.9476\n",
       "1507   Topic3     27.671095    association     28.667320   3.1731  -5.6861\n",
       "2498   Topic3     25.130955       avantage     26.016165   3.1739  -5.7824\n",
       "586    Topic3     25.061501          fonds     26.001284   3.1717  -5.7852\n",
       "1024   Topic3     28.315697         preuve     29.593817   3.1644  -5.6631\n",
       "1528   Topic3     24.450300           acte     25.408152   3.1701  -5.8099\n",
       "1349   Topic3     36.742672     obligation     45.306271   2.9990  -5.4026\n",
       "572    Topic3     64.071945       véhicule    106.207718   2.7031  -4.8465\n",
       "162    Topic3     57.678154        voiture     99.652084   2.6617  -4.9516\n",
       "120    Topic3     70.784790          place    143.847534   2.4994  -4.7469\n",
       "302    Topic3     74.963455           état    212.988571   2.1643  -4.6895\n",
       "489    Topic3     50.314404          année    103.130829   2.4908  -5.0882\n",
       "116    Topic3     32.416573         groupe     43.260220   2.9199  -5.5278\n",
       "27     Topic3     81.136589         france    388.781830   1.6416  -4.6104\n",
       "32     Topic3     37.437241           jour     87.934418   2.3546  -5.3838\n",
       "103    Topic3     40.796089       personne    132.648926   2.0294  -5.2979\n",
       "165    Topic3     37.976192            loi    111.168915   2.1344  -5.3695\n",
       "161    Topic3     32.144669     transition    335.083374   0.8644  -5.5363\n",
       "\n",
       "[174 rows x 6 columns], token_table=      Topic      Freq          Term\n",
       "term                               \n",
       "1         3  0.976487         achat\n",
       "1528      3  0.944579          acte\n",
       "125       2  0.997772      activité\n",
       "67        2  0.998125   agriculture\n",
       "549       1  0.980114          agro\n",
       "549       2  0.023905          agro\n",
       "3         3  0.993173          aide\n",
       "4         1  0.998115           air\n",
       "4         2  0.001837           air\n",
       "544       1  0.756303       aliment\n",
       "544       2  0.240096       aliment\n",
       "126       2  0.998790  alimentation\n",
       "145       3  0.959877  amélioration\n",
       "353       3  0.995462            an\n",
       "489       2  0.504214         année\n",
       "489       3  0.484821         année\n",
       "356       1  0.835170        argent\n",
       "356       3  0.159080        argent\n",
       "550       1  0.873508        aspect\n",
       "550       2  0.124787        aspect\n",
       "1507      2  0.034883   association\n",
       "1507      3  0.976722   association\n",
       "234       2  0.994963  augmentation\n",
       "2498      3  0.960941      avantage\n",
       "7         1  0.999934  biodiversité\n",
       "1807      3  0.988326          bois\n",
       "8         2  0.999352         cause\n",
       "494       3  0.975986       chaleur\n",
       "879       3  0.975413        charge\n",
       "413       1  0.836823          cité\n",
       "...     ...       ...           ...\n",
       "161       2  0.662522    transition\n",
       "161       3  0.095499    transition\n",
       "56        2  0.991624     transport\n",
       "56        3  0.007599     transport\n",
       "794       3  0.992446       travail\n",
       "58        2  0.996192   utilisation\n",
       "810       1  0.901078  valorisation\n",
       "93        2  0.999217           vie\n",
       "162       1  0.421466       voiture\n",
       "162       3  0.582025       voiture\n",
       "667       1  0.970372           vue\n",
       "667       2  0.023104           vue\n",
       "667       3  0.023104           vue\n",
       "572       1  0.395451      véhicule\n",
       "572       3  0.602593      véhicule\n",
       "249       1  0.307892      écologie\n",
       "249       2  0.692756      écologie\n",
       "563       3  0.966464      élection\n",
       "2044      1  0.935957   élimination\n",
       "2044      2  0.062397   élimination\n",
       "483       1  0.540297       élément\n",
       "483       2  0.462316       élément\n",
       "60        2  0.998550       énergie\n",
       "62        1  0.811547       érosion\n",
       "62        2  0.187746       érosion\n",
       "302       2  0.647922          état\n",
       "302       3  0.352132          état\n",
       "1567      2  0.024028         étude\n",
       "1567      3  0.985146         étude\n",
       "1757      1  0.965729     événement\n",
       "\n",
       "[199 rows x 3 columns], R=30, lambda_step=0.01, plot_opts={'xlab': 'PC1', 'ylab': 'PC2'}, topic_order=[1, 2, 3])"
      ]
     },
     "execution_count": 50,
     "metadata": {},
     "output_type": "execute_result"
    }
   ],
   "source": [
    "pyLDAvis.enable_notebook()\n",
    "vis = pyLDAvis.gensim.prepare(lda_model, corpus, id2word)\n",
    "vis"
   ]
  },
  {
   "cell_type": "markdown",
   "metadata": {},
   "source": [
    "After applying LDA with grouped data we had the best results with limmatization."
   ]
  },
  {
   "cell_type": "markdown",
   "metadata": {
    "colab_type": "text",
    "id": "WCs1C0GxJntG"
   },
   "source": [
    "### Find the optimal number of topics for LDA with the grouped and limmatized data"
   ]
  },
  {
   "cell_type": "code",
   "execution_count": 65,
   "metadata": {
    "colab": {},
    "colab_type": "code",
    "id": "4Ysryx7oJqeS"
   },
   "outputs": [],
   "source": [
    "def get_topics_without_output(culumn_data_selected, n_topics=10, passes=20, add_bigrams = False):\n",
    " \n",
    "  tokenized_data = tokenization(list(culumn_data_selected))\n",
    "  if(add_bigrams):\n",
    "    bigram = Phrases(tokenized_data, min_count=5, threshold=200)\n",
    "    trigram = Phrases(bigram[tokenized_data], threshold=200) \n",
    "    bigram_mod = Phraser(bigram)\n",
    "    trigram_mod = Phraser(trigram)\n",
    "    tokenized_data = make_bigrams(tokenized_data, bigram_mod)\n",
    "    \n",
    "  id2word = corpora.Dictionary(tokenized_data)\n",
    "  texts = tokenized_data\n",
    "  corpus = [id2word.doc2bow(text) for text in texts]\n",
    "  lda_model = gensim.models.ldamodel.LdaModel(corpus=corpus,\n",
    "                                           id2word=id2word,\n",
    "                                           num_topics=n_topics, \n",
    "                                           random_state=100,\n",
    "                                           update_every=1,\n",
    "                                           chunksize=100,\n",
    "                                           passes=passes,\n",
    "                                           alpha='auto',\n",
    "                                           per_word_topics=True)\n",
    "  \n",
    "#   pprint(lda_model.print_topics())\n",
    "  \n",
    "  perplexity = lda_model.log_perplexity(corpus)\n",
    "  print('\\nPerplexity: ', perplexity)  # a measure of how good the model is. lower the better.\n",
    "\n",
    "  # Compute Coherence Score\n",
    "  coherence_model_lda = CoherenceModel(model=lda_model, texts=tokenized_data, dictionary=id2word, coherence='c_v')\n",
    "  coherence_lda = coherence_model_lda.get_coherence()\n",
    "  print('\\nCoherence Score: ', coherence_lda)\n",
    "  \n",
    "  return lda_model, corpus, id2word, perplexity, coherence_lda"
   ]
  },
  {
   "cell_type": "code",
   "execution_count": 66,
   "metadata": {},
   "outputs": [],
   "source": [
    "def compute_coherence_values(data, start=3, limit= 14, step=3, passes = 20):\n",
    "    \"\"\"\n",
    "    Compute c_v coherence for various number of topics\n",
    "\n",
    "    Parameters:\n",
    "    ----------\n",
    "    dictionary : Gensim dictionary\n",
    "    corpus : Gensim corpus\n",
    "    texts : List of input texts\n",
    "    limit : Max num of topics\n",
    "\n",
    "    Returns:\n",
    "    -------\n",
    "    model_list : List of LDA topic models\n",
    "    coherence_values : Coherence values corresponding to the LDA model with respective number of topics\n",
    "    \"\"\"\n",
    "    coherence_values = []\n",
    "    model_list = []\n",
    "    for num_topics in range(start, limit, step):\n",
    "        print('Now computing lda with number of topics equal to {}'.format(num_topics))\n",
    "        lda_model, corpus, id2word, perplexity, coherence_lda = get_topics_without_output(data, n_topics=num_topics)\n",
    "        model_list.append(lda_model)\n",
    "        coherence_values.append(coherence_lda)\n",
    "\n",
    "    return model_list, coherence_values, corpus"
   ]
  },
  {
   "cell_type": "code",
   "execution_count": 86,
   "metadata": {},
   "outputs": [
    {
     "name": "stdout",
     "output_type": "stream",
     "text": [
      "Now computing lda with number of topics equal to 2\n",
      "\n",
      "Perplexity:  -4.25510942444131\n",
      "\n",
      "Coherence Score:  0.4246465833292471\n",
      "Now computing lda with number of topics equal to 4\n",
      "\n",
      "Perplexity:  -4.28569950721305\n",
      "\n",
      "Coherence Score:  0.4331701039736392\n",
      "Now computing lda with number of topics equal to 6\n",
      "\n",
      "Perplexity:  -4.327249797317726\n",
      "\n",
      "Coherence Score:  0.33549946265461955\n",
      "Now computing lda with number of topics equal to 8\n",
      "\n",
      "Perplexity:  -4.3871515542455946\n",
      "\n",
      "Coherence Score:  0.3580259380200982\n",
      "Now computing lda with number of topics equal to 10\n",
      "\n",
      "Perplexity:  -4.524684352742348\n",
      "\n",
      "Coherence Score:  0.4272590761098584\n"
     ]
    }
   ],
   "source": [
    "data = list(lemm_grouped_data['problems'])\n",
    "start=2\n",
    "limit=11\n",
    "step=2\n",
    "model_list, coherence_values, corpus = compute_coherence_values(data, start, limit, step, passes = 100)"
   ]
  },
  {
   "cell_type": "code",
   "execution_count": 87,
   "metadata": {},
   "outputs": [
    {
     "data": {
      "image/png": "[encoded data removed]",
      "text/plain": [
       "<Figure size 432x288 with 1 Axes>"
      ]
     },
     "metadata": {
      "needs_background": "light"
     },
     "output_type": "display_data"
    }
   ],
   "source": [
    "# Show graph\n",
    "x = range(start, limit, step)\n",
    "plt.plot(x, coherence_values)\n",
    "plt.xlabel(\"Num Topics\")\n",
    "plt.ylabel(\"Coherence score\")\n",
    "plt.legend((\"coherence_values\"), loc='best')\n",
    "plt.title('coherence variation with the number of topics')\n",
    "plt.show()"
   ]
  },
  {
   "cell_type": "markdown",
   "metadata": {},
   "source": [
    "Optimal number of topics is 4"
   ]
  },
  {
   "cell_type": "code",
   "execution_count": 88,
   "metadata": {
    "colab": {},
    "colab_type": "code",
    "id": "bRUZNLCSJ7J8"
   },
   "outputs": [
    {
     "name": "stdout",
     "output_type": "stream",
     "text": [
      "Num Topics = 2  has Coherence Value of 0.4246\n",
      "Num Topics = 4  has Coherence Value of 0.4332\n",
      "Num Topics = 6  has Coherence Value of 0.3355\n",
      "Num Topics = 8  has Coherence Value of 0.358\n",
      "Num Topics = 10  has Coherence Value of 0.4273\n"
     ]
    }
   ],
   "source": [
    "# Print the coherence scores\n",
    "for m, cv in zip(x, coherence_values):\n",
    "    print(\"Num Topics =\", m, \" has Coherence Value of\", round(cv, 4))"
   ]
  },
  {
   "cell_type": "markdown",
   "metadata": {},
   "source": [
    "We can see that we found the optimal results with 4 topics so we continue the coming work with its results."
   ]
  },
  {
   "cell_type": "code",
   "execution_count": 89,
   "metadata": {},
   "outputs": [
    {
     "name": "stdout",
     "output_type": "stream",
     "text": [
      "[(0,\n",
      "  '0.161*\"dérèglement\" + 0.156*\"crue\" + 0.147*\"pollution\" + '\n",
      "  '0.116*\"biodiversité\" + 0.115*\"disparition\" + 0.114*\"espèce\" + 0.111*\"air\" + '\n",
      "  '0.006*\"érosion\" + 0.004*\"proposition\" + 0.003*\"réponse\"'),\n",
      " (1,\n",
      "  '0.058*\"problème\" + 0.037*\"eau\" + 0.027*\"environnement\" + 0.025*\"déchet\" + '\n",
      "  '0.021*\"terre\" + 0.016*\"ressource\" + 0.016*\"pollution\" + '\n",
      "  '0.014*\"consommation\" + 0.013*\"vie\" + 0.013*\"question\"'),\n",
      " (2,\n",
      "  '0.024*\"an\" + 0.020*\"état\" + 0.018*\"france\" + 0.013*\"place\" + '\n",
      "  '0.012*\"personne\" + 0.012*\"milliard\" + 0.011*\"transition\" + 0.010*\"véhicule\" '\n",
      "  '+ 0.009*\"année\" + 0.009*\"voiture\"'),\n",
      " (3,\n",
      "  '0.021*\"besoin\" + 0.018*\"raison\" + 0.015*\"vis\" + 0.011*\"financement\" + '\n",
      "  '0.009*\"chaleur\" + 0.009*\"maison\" + 0.009*\"civilisation\" + 0.009*\"finance\" + '\n",
      "  '0.008*\"influence\" + 0.008*\"preuve\"')]\n"
     ]
    }
   ],
   "source": [
    "# Select the model and print the topics\n",
    "optimal_model = model_list[1]\n",
    "model_topics = optimal_model.show_topics(formatted=False)\n",
    "pprint(optimal_model.print_topics(num_words=10))"
   ]
  },
  {
   "cell_type": "markdown",
   "metadata": {
    "colab_type": "text",
    "id": "O-9p12G6KAOj"
   },
   "source": [
    "### Finding the dominant topic in each sentence"
   ]
  },
  {
   "cell_type": "markdown",
   "metadata": {
    "colab_type": "text",
    "id": "clpLNtcBKM7i"
   },
   "source": [
    "One of the practical application of topic modeling is to determine what topic a given document is about.\n",
    "\n",
    "To find that, we find the topic number that has the highest percentage contribution in that document.\n",
    "\n",
    "The format_topics_sentences() function below nicely aggregates this information in a presentable table"
   ]
  },
  {
   "cell_type": "code",
   "execution_count": 90,
   "metadata": {
    "colab": {},
    "colab_type": "code",
    "id": "6gZWGF-cKB_5",
    "scrolled": true
   },
   "outputs": [
    {
     "data": {
      "text/html": [
       "<div>\n",
       "<style scoped>\n",
       "    .dataframe tbody tr th:only-of-type {\n",
       "        vertical-align: middle;\n",
       "    }\n",
       "\n",
       "    .dataframe tbody tr th {\n",
       "        vertical-align: top;\n",
       "    }\n",
       "\n",
       "    .dataframe thead th {\n",
       "        text-align: right;\n",
       "    }\n",
       "</style>\n",
       "<table border=\"1\" class=\"dataframe\">\n",
       "  <thead>\n",
       "    <tr style=\"text-align: right;\">\n",
       "      <th></th>\n",
       "      <th>Document_No</th>\n",
       "      <th>Dominant_Topic</th>\n",
       "      <th>Topic_Perc_Contrib</th>\n",
       "      <th>Keywords</th>\n",
       "      <th>Text</th>\n",
       "    </tr>\n",
       "  </thead>\n",
       "  <tbody>\n",
       "    <tr>\n",
       "      <th>0</th>\n",
       "      <td>0</td>\n",
       "      <td>0</td>\n",
       "      <td>0.6749</td>\n",
       "      <td>dérèglement, crue, pollution, biodiversité, disparition, espèce, air, érosion, proposition, réponse</td>\n",
       "      <td>dérèglement crue biodiversité disparition espèce pollution air dérèglement crue dérèglement crue dérèglement crue biodiversité disparition espèce problème pollution découle dérèglement crue pollution air emballage dérèglement crue dérèglement crue dérèglement crue precedente dérèglement crue dérèglement crue biodiversité disparition espèce biodiversité disparition espèce biodiversité dispariti...</td>\n",
       "    </tr>\n",
       "    <tr>\n",
       "      <th>1</th>\n",
       "      <td>1</td>\n",
       "      <td>0</td>\n",
       "      <td>0.8418</td>\n",
       "      <td>dérèglement, crue, pollution, biodiversité, disparition, espèce, air, érosion, proposition, réponse</td>\n",
       "      <td>dérèglement crue pollution pollution air dérèglement crue dérèglement crue réponse production energie dérèglement crue</td>\n",
       "    </tr>\n",
       "    <tr>\n",
       "      <th>2</th>\n",
       "      <td>2</td>\n",
       "      <td>0</td>\n",
       "      <td>0.8039</td>\n",
       "      <td>dérèglement, crue, pollution, biodiversité, disparition, espèce, air, érosion, proposition, réponse</td>\n",
       "      <td>pollution air dérèglement crue consommation agriculture biodiversité disparition espèce biodiversité disparition espèce dérèglement crue biodiversité disparition espèce dérèglement crue dérèglement crue biodiversité disparition espèce problème ensemble puisqu biodiversité disparition espèce pollution acidifcation océan biodiversité problème problème pollution pollution air dérèglement crue</td>\n",
       "    </tr>\n",
       "    <tr>\n",
       "      <th>3</th>\n",
       "      <td>3</td>\n",
       "      <td>0</td>\n",
       "      <td>0.7919</td>\n",
       "      <td>dérèglement, crue, pollution, biodiversité, disparition, espèce, air, érosion, proposition, réponse</td>\n",
       "      <td>dérèglement crue problème pollution air dérèglement crue dérèglement crue biodiversité disparition espèce pollution air dérèglement crue citoyen anture mac pesticide</td>\n",
       "    </tr>\n",
       "    <tr>\n",
       "      <th>4</th>\n",
       "      <td>4</td>\n",
       "      <td>0</td>\n",
       "      <td>0.8009</td>\n",
       "      <td>dérèglement, crue, pollution, biodiversité, disparition, espèce, air, érosion, proposition, réponse</td>\n",
       "      <td>dérèglement crue pollution air dérèglement crue biodiversité disparition espèce dérèglement crue pollution air dérèglement crue dérèglement crue pollution air biodiversité pollution air point pollution jour nuit tête taxe carburant dérèglement crue dérèglement crue biodiversité disparition espèce biodiversité disparition espèce socle pollution climat biodiversité resoudre sens pièce salon déma...</td>\n",
       "    </tr>\n",
       "    <tr>\n",
       "      <th>5</th>\n",
       "      <td>5</td>\n",
       "      <td>1</td>\n",
       "      <td>0.5277</td>\n",
       "      <td>problème, eau, environnement, déchet, terre, ressource, pollution, consommation, vie, question</td>\n",
       "      <td>pollution air dérèglement crue urgence biodiversité forme pollution eau terre vie terre efficacité recyclage déchet urbanisation désertification espace problème</td>\n",
       "    </tr>\n",
       "    <tr>\n",
       "      <th>6</th>\n",
       "      <td>6</td>\n",
       "      <td>0</td>\n",
       "      <td>0.4442</td>\n",
       "      <td>dérèglement, crue, pollution, biodiversité, disparition, espèce, air, érosion, proposition, réponse</td>\n",
       "      <td>dérèglement crue dérèglement crue generalité disparition espèce date extinction espèce discuté voie croissance économiste effet population exemple critère personne demande richesse disparition espèce dérèglement crue biodiversité disparition espèce question problème biodiversité date extinction espèce discuté voie effet croissance économiste effet population exemple critère personne demande ri...</td>\n",
       "    </tr>\n",
       "    <tr>\n",
       "      <th>7</th>\n",
       "      <td>7</td>\n",
       "      <td>0</td>\n",
       "      <td>0.8068</td>\n",
       "      <td>dérèglement, crue, pollution, biodiversité, disparition, espèce, air, érosion, proposition, réponse</td>\n",
       "      <td>pollution air terre pollution eau dérèglement crue biodiversité disparition espèce stock énergie abimée combustion disparition espèce pollution air biodiversité disparition espèce biodiversité disparition espèce biodiversité disparition espèce biodiversité disparition espèce pollution pollueur crue biodiversité disparition espèce</td>\n",
       "    </tr>\n",
       "    <tr>\n",
       "      <th>8</th>\n",
       "      <td>8</td>\n",
       "      <td>1</td>\n",
       "      <td>0.4338</td>\n",
       "      <td>problème, eau, environnement, déchet, terre, ressource, pollution, consommation, vie, question</td>\n",
       "      <td>dérèglement crue émission effet agriculture pollution pesticide utilisation produit dangerosité ouverture déplacement pollution énergie ressource place croissance population perte agriculture profit agriculture polluante lien distribution groupe dérèglement crue</td>\n",
       "    </tr>\n",
       "    <tr>\n",
       "      <th>9</th>\n",
       "      <td>9</td>\n",
       "      <td>0</td>\n",
       "      <td>0.8374</td>\n",
       "      <td>dérèglement, crue, pollution, biodiversité, disparition, espèce, air, érosion, proposition, réponse</td>\n",
       "      <td>pollution air dérèglement crue alimentation école dérèglement crue pollution air déréglement eau biodiversité pollution air dérèglement biodiversité extinction masse espèce dérèglement crue eau interdépendance dérèglement crue pollution air pollution air nature partie espèce pollution concret biodiversité disparition espèce biodiversité disparition espèce élévation dérèglement crue biodiversit...</td>\n",
       "    </tr>\n",
       "  </tbody>\n",
       "</table>\n",
       "</div>"
      ],
      "text/plain": [
       "   Document_No  Dominant_Topic  Topic_Perc_Contrib  \\\n",
       "0            0               0              0.6749   \n",
       "1            1               0              0.8418   \n",
       "2            2               0              0.8039   \n",
       "3            3               0              0.7919   \n",
       "4            4               0              0.8009   \n",
       "5            5               1              0.5277   \n",
       "6            6               0              0.4442   \n",
       "7            7               0              0.8068   \n",
       "8            8               1              0.4338   \n",
       "9            9               0              0.8374   \n",
       "\n",
       "                                                                                              Keywords  \\\n",
       "0  dérèglement, crue, pollution, biodiversité, disparition, espèce, air, érosion, proposition, réponse   \n",
       "1  dérèglement, crue, pollution, biodiversité, disparition, espèce, air, érosion, proposition, réponse   \n",
       "2  dérèglement, crue, pollution, biodiversité, disparition, espèce, air, érosion, proposition, réponse   \n",
       "3  dérèglement, crue, pollution, biodiversité, disparition, espèce, air, érosion, proposition, réponse   \n",
       "4  dérèglement, crue, pollution, biodiversité, disparition, espèce, air, érosion, proposition, réponse   \n",
       "5       problème, eau, environnement, déchet, terre, ressource, pollution, consommation, vie, question   \n",
       "6  dérèglement, crue, pollution, biodiversité, disparition, espèce, air, érosion, proposition, réponse   \n",
       "7  dérèglement, crue, pollution, biodiversité, disparition, espèce, air, érosion, proposition, réponse   \n",
       "8       problème, eau, environnement, déchet, terre, ressource, pollution, consommation, vie, question   \n",
       "9  dérèglement, crue, pollution, biodiversité, disparition, espèce, air, érosion, proposition, réponse   \n",
       "\n",
       "                                                                                                                                                                                                                                                                                                                                                                                                              Text  \n",
       "0  dérèglement crue biodiversité disparition espèce pollution air dérèglement crue dérèglement crue dérèglement crue biodiversité disparition espèce problème pollution découle dérèglement crue pollution air emballage dérèglement crue dérèglement crue dérèglement crue precedente dérèglement crue dérèglement crue biodiversité disparition espèce biodiversité disparition espèce biodiversité dispariti...  \n",
       "1                                                                                                                                                                                                                                                                                           dérèglement crue pollution pollution air dérèglement crue dérèglement crue réponse production energie dérèglement crue  \n",
       "2         pollution air dérèglement crue consommation agriculture biodiversité disparition espèce biodiversité disparition espèce dérèglement crue biodiversité disparition espèce dérèglement crue dérèglement crue biodiversité disparition espèce problème ensemble puisqu biodiversité disparition espèce pollution acidifcation océan biodiversité problème problème pollution pollution air dérèglement crue  \n",
       "3                                                                                                                                                                                                                                            dérèglement crue problème pollution air dérèglement crue dérèglement crue biodiversité disparition espèce pollution air dérèglement crue citoyen anture mac pesticide  \n",
       "4  dérèglement crue pollution air dérèglement crue biodiversité disparition espèce dérèglement crue pollution air dérèglement crue dérèglement crue pollution air biodiversité pollution air point pollution jour nuit tête taxe carburant dérèglement crue dérèglement crue biodiversité disparition espèce biodiversité disparition espèce socle pollution climat biodiversité resoudre sens pièce salon déma...  \n",
       "5                                                                                                                                                                                                                                                 pollution air dérèglement crue urgence biodiversité forme pollution eau terre vie terre efficacité recyclage déchet urbanisation désertification espace problème  \n",
       "6  dérèglement crue dérèglement crue generalité disparition espèce date extinction espèce discuté voie croissance économiste effet population exemple critère personne demande richesse disparition espèce dérèglement crue biodiversité disparition espèce question problème biodiversité date extinction espèce discuté voie effet croissance économiste effet population exemple critère personne demande ri...  \n",
       "7                                                                      pollution air terre pollution eau dérèglement crue biodiversité disparition espèce stock énergie abimée combustion disparition espèce pollution air biodiversité disparition espèce biodiversité disparition espèce biodiversité disparition espèce biodiversité disparition espèce pollution pollueur crue biodiversité disparition espèce  \n",
       "8                                                                                                                                           dérèglement crue émission effet agriculture pollution pesticide utilisation produit dangerosité ouverture déplacement pollution énergie ressource place croissance population perte agriculture profit agriculture polluante lien distribution groupe dérèglement crue  \n",
       "9  pollution air dérèglement crue alimentation école dérèglement crue pollution air déréglement eau biodiversité pollution air dérèglement biodiversité extinction masse espèce dérèglement crue eau interdépendance dérèglement crue pollution air pollution air nature partie espèce pollution concret biodiversité disparition espèce biodiversité disparition espèce élévation dérèglement crue biodiversit...  "
      ]
     },
     "execution_count": 90,
     "metadata": {},
     "output_type": "execute_result"
    }
   ],
   "source": [
    "def format_topics_sentences(ldamodel, corpus=corpus, texts=data):\n",
    "    # Init output\n",
    "    sent_topics_df = pd.DataFrame()\n",
    "    # Get main topic in each document\n",
    "    for i, row in enumerate(ldamodel[corpus]):\n",
    "        row = sorted(row[0], key=lambda x: (x[1]), reverse=True)\n",
    "        # Get the Dominant topic, Perc Contribution and Keywords for each document\n",
    "        for j, (topic_num, prop_topic) in enumerate(row):\n",
    "            if j == 0:  # => dominant topic\n",
    "                wp = ldamodel.show_topic(topic_num)\n",
    "                topic_keywords = \", \".join([word for word, prop in wp])\n",
    "                sent_topics_df = sent_topics_df.append(pd.Series([int(topic_num), round(prop_topic,4), topic_keywords]), ignore_index=True)\n",
    "            else:\n",
    "                break\n",
    "    sent_topics_df.columns = ['Dominant_Topic', 'Perc_Contribution', 'Topic_Keywords']\n",
    "\n",
    "    # Add original text to the end of the output\n",
    "    contents = pd.Series(texts)\n",
    "    sent_topics_df = pd.concat([sent_topics_df, contents], axis=1)\n",
    "    return(sent_topics_df)\n",
    "\n",
    "\n",
    "df_topic_sents_keywords = format_topics_sentences(ldamodel=optimal_model, corpus=corpus, texts=data)\n",
    "\n",
    "# Format\n",
    "df_dominant_topic = df_topic_sents_keywords.reset_index()\n",
    "df_dominant_topic.columns = ['Document_No', 'Dominant_Topic', 'Topic_Perc_Contrib', 'Keywords', 'Text']\n",
    "df_dominant_topic[['Dominant_Topic']] = df_dominant_topic[['Dominant_Topic']].astype(int)\n",
    "# Show\n",
    "df_dominant_topic.head(10)"
   ]
  },
  {
   "cell_type": "code",
   "execution_count": 91,
   "metadata": {},
   "outputs": [],
   "source": [
    "topic_names = ['Déreglements et disparition de certaines espèces', 'pollution et déchets','usage excessif des véhicules','écologie et finance']"
   ]
  },
  {
   "cell_type": "code",
   "execution_count": 97,
   "metadata": {},
   "outputs": [
    {
     "data": {
      "text/html": [
       "<div>\n",
       "<style scoped>\n",
       "    .dataframe tbody tr th:only-of-type {\n",
       "        vertical-align: middle;\n",
       "    }\n",
       "\n",
       "    .dataframe tbody tr th {\n",
       "        vertical-align: top;\n",
       "    }\n",
       "\n",
       "    .dataframe thead th {\n",
       "        text-align: right;\n",
       "    }\n",
       "</style>\n",
       "<table border=\"1\" class=\"dataframe\">\n",
       "  <thead>\n",
       "    <tr style=\"text-align: right;\">\n",
       "      <th></th>\n",
       "      <th>zip_code</th>\n",
       "      <th>topic_number</th>\n",
       "    </tr>\n",
       "  </thead>\n",
       "  <tbody>\n",
       "    <tr>\n",
       "      <th>0</th>\n",
       "      <td>1000</td>\n",
       "      <td>0</td>\n",
       "    </tr>\n",
       "    <tr>\n",
       "      <th>1</th>\n",
       "      <td>1090</td>\n",
       "      <td>0</td>\n",
       "    </tr>\n",
       "    <tr>\n",
       "      <th>2</th>\n",
       "      <td>1100</td>\n",
       "      <td>0</td>\n",
       "    </tr>\n",
       "    <tr>\n",
       "      <th>3</th>\n",
       "      <td>1110</td>\n",
       "      <td>0</td>\n",
       "    </tr>\n",
       "    <tr>\n",
       "      <th>4</th>\n",
       "      <td>1120</td>\n",
       "      <td>0</td>\n",
       "    </tr>\n",
       "    <tr>\n",
       "      <th>5</th>\n",
       "      <td>1130</td>\n",
       "      <td>1</td>\n",
       "    </tr>\n",
       "    <tr>\n",
       "      <th>6</th>\n",
       "      <td>1140</td>\n",
       "      <td>0</td>\n",
       "    </tr>\n",
       "    <tr>\n",
       "      <th>7</th>\n",
       "      <td>1150</td>\n",
       "      <td>0</td>\n",
       "    </tr>\n",
       "    <tr>\n",
       "      <th>8</th>\n",
       "      <td>1160</td>\n",
       "      <td>1</td>\n",
       "    </tr>\n",
       "    <tr>\n",
       "      <th>9</th>\n",
       "      <td>1170</td>\n",
       "      <td>0</td>\n",
       "    </tr>\n",
       "  </tbody>\n",
       "</table>\n",
       "</div>"
      ],
      "text/plain": [
       "  zip_code  topic_number\n",
       "0     1000             0\n",
       "1     1090             0\n",
       "2     1100             0\n",
       "3     1110             0\n",
       "4     1120             0\n",
       "5     1130             1\n",
       "6     1140             0\n",
       "7     1150             0\n",
       "8     1160             1\n",
       "9     1170             0"
      ]
     },
     "execution_count": 97,
     "metadata": {},
     "output_type": "execute_result"
    }
   ],
   "source": [
    "zipcode_to_topic = pd.DataFrame()\n",
    "\n",
    "zipcode_to_topic['zip_code'] = lemm_grouped_data['authorZipCode']\n",
    "zipcode_to_topic['topic_number'] = df_dominant_topic['Dominant_Topic']\n",
    "zipcode_to_topic.head(10)"
   ]
  },
  {
   "cell_type": "markdown",
   "metadata": {},
   "source": [
    "zipcode_to_topic contains zipcodes and corresponding problem."
   ]
  },
  {
   "cell_type": "markdown",
   "metadata": {
    "colab_type": "text",
    "id": "4wAeE1AOKRG9"
   },
   "source": [
    "### Find the most representative document for each topic"
   ]
  },
  {
   "cell_type": "markdown",
   "metadata": {
    "colab_type": "text",
    "id": "BvkHIKa2KSjl"
   },
   "source": [
    "Sometimes just the topic keywords may not be enough to make sense of what a topic is about. So, to help with understanding the topic, you can find the documents a given topic has contributed to the most and infer the topic by reading that document. Whew!!\n",
    "\n"
   ]
  },
  {
   "cell_type": "code",
   "execution_count": 93,
   "metadata": {
    "colab": {},
    "colab_type": "code",
    "id": "ue_gDAq2KV_S"
   },
   "outputs": [
    {
     "data": {
      "text/html": [
       "<div>\n",
       "<style scoped>\n",
       "    .dataframe tbody tr th:only-of-type {\n",
       "        vertical-align: middle;\n",
       "    }\n",
       "\n",
       "    .dataframe tbody tr th {\n",
       "        vertical-align: top;\n",
       "    }\n",
       "\n",
       "    .dataframe thead th {\n",
       "        text-align: right;\n",
       "    }\n",
       "</style>\n",
       "<table border=\"1\" class=\"dataframe\">\n",
       "  <thead>\n",
       "    <tr style=\"text-align: right;\">\n",
       "      <th></th>\n",
       "      <th>Topic_Num</th>\n",
       "      <th>Topic_Perc_Contrib</th>\n",
       "      <th>Keywords</th>\n",
       "      <th>Text</th>\n",
       "    </tr>\n",
       "  </thead>\n",
       "  <tbody>\n",
       "    <tr>\n",
       "      <th>0</th>\n",
       "      <td>0.0</td>\n",
       "      <td>0.9577</td>\n",
       "      <td>dérèglement, crue, pollution, biodiversité, disparition, espèce, air, érosion, proposition, réponse</td>\n",
       "      <td>biodiversité disparition espèce pollution air dérèglement crue pollution air pollution air pollution air biodiversité disparition espèce biodiversité disparition espèce pollution air dérèglement crue pollution air biodiversité disparition espèce dérèglement érosion pollution air disparition biodiversité dérèglement crue biodiversité disparition espèce dérèglement crue dérèglement crue fois pol...</td>\n",
       "    </tr>\n",
       "    <tr>\n",
       "      <th>1</th>\n",
       "      <td>1.0</td>\n",
       "      <td>0.6470</td>\n",
       "      <td>problème, eau, environnement, déchet, terre, ressource, pollution, consommation, vie, question</td>\n",
       "      <td>problème conscience gravité situation négligence hiérarchie problème interdépendant agriculture industrie polluant agriculture responsable perte biodiversité pollution eau élevage effet résistance élevage aliment biodiversité qualité eau santé mena</td>\n",
       "    </tr>\n",
       "    <tr>\n",
       "      <th>2</th>\n",
       "      <td>2.0</td>\n",
       "      <td>0.6151</td>\n",
       "      <td>an, état, france, place, personne, milliard, transition, véhicule, année, voiture</td>\n",
       "      <td>finance transition priorité mesure vie service lutte corruption évasion imposition manière rémunération écart solution exemple chaudière voiture hauteur marshal etat compte solution manière nanti durée durée an solution supportable proportionnalité commence exception france solution plutot niveau fonction vie fonction ferroviaire découle redéfinition décentralisation état proposition transitio...</td>\n",
       "    </tr>\n",
       "    <tr>\n",
       "      <th>3</th>\n",
       "      <td>3.0</td>\n",
       "      <td>0.4103</td>\n",
       "      <td>besoin, raison, vis, financement, chaleur, maison, civilisation, finance, influence, preuve</td>\n",
       "      <td>dérèglement crue biodiversité disparition espèce augmentation co atmosphére pollution eau disparition espèce biodiversité globalité interdépendance égard comporton conscience vie conservation instinct question sujet éclat cours lente évolution doté système système cellule noyau pseudopode pseudopode cellule organisation système cours évolution patte ami système début cerveau son mot évolution ...</td>\n",
       "    </tr>\n",
       "  </tbody>\n",
       "</table>\n",
       "</div>"
      ],
      "text/plain": [
       "   Topic_Num  Topic_Perc_Contrib  \\\n",
       "0        0.0              0.9577   \n",
       "1        1.0              0.6470   \n",
       "2        2.0              0.6151   \n",
       "3        3.0              0.4103   \n",
       "\n",
       "                                                                                              Keywords  \\\n",
       "0  dérèglement, crue, pollution, biodiversité, disparition, espèce, air, érosion, proposition, réponse   \n",
       "1       problème, eau, environnement, déchet, terre, ressource, pollution, consommation, vie, question   \n",
       "2                    an, état, france, place, personne, milliard, transition, véhicule, année, voiture   \n",
       "3          besoin, raison, vis, financement, chaleur, maison, civilisation, finance, influence, preuve   \n",
       "\n",
       "                                                                                                                                                                                                                                                                                                                                                                                                              Text  \n",
       "0  biodiversité disparition espèce pollution air dérèglement crue pollution air pollution air pollution air biodiversité disparition espèce biodiversité disparition espèce pollution air dérèglement crue pollution air biodiversité disparition espèce dérèglement érosion pollution air disparition biodiversité dérèglement crue biodiversité disparition espèce dérèglement crue dérèglement crue fois pol...  \n",
       "1                                                                                                                                                         problème conscience gravité situation négligence hiérarchie problème interdépendant agriculture industrie polluant agriculture responsable perte biodiversité pollution eau élevage effet résistance élevage aliment biodiversité qualité eau santé mena  \n",
       "2  finance transition priorité mesure vie service lutte corruption évasion imposition manière rémunération écart solution exemple chaudière voiture hauteur marshal etat compte solution manière nanti durée durée an solution supportable proportionnalité commence exception france solution plutot niveau fonction vie fonction ferroviaire découle redéfinition décentralisation état proposition transitio...  \n",
       "3  dérèglement crue biodiversité disparition espèce augmentation co atmosphére pollution eau disparition espèce biodiversité globalité interdépendance égard comporton conscience vie conservation instinct question sujet éclat cours lente évolution doté système système cellule noyau pseudopode pseudopode cellule organisation système cours évolution patte ami système début cerveau son mot évolution ...  "
      ]
     },
     "execution_count": 93,
     "metadata": {},
     "output_type": "execute_result"
    }
   ],
   "source": [
    "# Group top 5 sentences under each topic\n",
    "sent_topics_sorted = pd.DataFrame()\n",
    "\n",
    "sent_topics_outdf_grpd = df_topic_sents_keywords.groupby('Dominant_Topic')\n",
    "\n",
    "for i, grp in sent_topics_outdf_grpd:\n",
    "    sent_topics_sorted = pd.concat([sent_topics_sorted, \n",
    "                                             grp.sort_values(['Perc_Contribution'], ascending=[0]).head(1)], \n",
    "                                            axis=0)\n",
    "\n",
    "# Reset Index    \n",
    "sent_topics_sorted.reset_index(drop=True, inplace=True)\n",
    "\n",
    "# Format\n",
    "sent_topics_sorted.columns = ['Topic_Num', \"Topic_Perc_Contrib\", \"Keywords\", \"Text\"]\n",
    "\n",
    "# Show\n",
    "sent_topics_sorted.head()"
   ]
  },
  {
   "cell_type": "markdown",
   "metadata": {
    "colab_type": "text",
    "id": "cgonkFr6KcVu"
   },
   "source": [
    "### Topic distribution across documents\n"
   ]
  },
  {
   "cell_type": "markdown",
   "metadata": {
    "colab_type": "text",
    "id": "gzkr2qK-Kdwr"
   },
   "source": [
    "Finally, we want to understand the volume and distribution of topics in order to judge how widely it was discussed. The below table exposes that information.\n",
    "\n"
   ]
  },
  {
   "cell_type": "code",
   "execution_count": 95,
   "metadata": {
    "colab": {},
    "colab_type": "code",
    "id": "vvWkdSn6Kf_8"
   },
   "outputs": [
    {
     "data": {
      "text/html": [
       "<div>\n",
       "<style scoped>\n",
       "    .dataframe tbody tr th:only-of-type {\n",
       "        vertical-align: middle;\n",
       "    }\n",
       "\n",
       "    .dataframe tbody tr th {\n",
       "        vertical-align: top;\n",
       "    }\n",
       "\n",
       "    .dataframe thead th {\n",
       "        text-align: right;\n",
       "    }\n",
       "</style>\n",
       "<table border=\"1\" class=\"dataframe\">\n",
       "  <thead>\n",
       "    <tr style=\"text-align: right;\">\n",
       "      <th></th>\n",
       "      <th>Dominant_Topic</th>\n",
       "      <th>Topic_Keywords</th>\n",
       "      <th>Num_Documents</th>\n",
       "      <th>Perc_Documents</th>\n",
       "    </tr>\n",
       "  </thead>\n",
       "  <tbody>\n",
       "    <tr>\n",
       "      <th>0</th>\n",
       "      <td>0.0</td>\n",
       "      <td>dérèglement, crue, pollution, biodiversité, disparition, espèce, air, érosion, proposition, réponse</td>\n",
       "      <td>5573.0</td>\n",
       "      <td>0.9746</td>\n",
       "    </tr>\n",
       "    <tr>\n",
       "      <th>1</th>\n",
       "      <td>0.0</td>\n",
       "      <td>dérèglement, crue, pollution, biodiversité, disparition, espèce, air, érosion, proposition, réponse</td>\n",
       "      <td>117.0</td>\n",
       "      <td>0.0205</td>\n",
       "    </tr>\n",
       "    <tr>\n",
       "      <th>2</th>\n",
       "      <td>0.0</td>\n",
       "      <td>dérèglement, crue, pollution, biodiversité, disparition, espèce, air, érosion, proposition, réponse</td>\n",
       "      <td>27.0</td>\n",
       "      <td>0.0047</td>\n",
       "    </tr>\n",
       "    <tr>\n",
       "      <th>3</th>\n",
       "      <td>0.0</td>\n",
       "      <td>dérèglement, crue, pollution, biodiversité, disparition, espèce, air, érosion, proposition, réponse</td>\n",
       "      <td>1.0</td>\n",
       "      <td>0.0002</td>\n",
       "    </tr>\n",
       "    <tr>\n",
       "      <th>4</th>\n",
       "      <td>0.0</td>\n",
       "      <td>dérèglement, crue, pollution, biodiversité, disparition, espèce, air, érosion, proposition, réponse</td>\n",
       "      <td>NaN</td>\n",
       "      <td>NaN</td>\n",
       "    </tr>\n",
       "  </tbody>\n",
       "</table>\n",
       "</div>"
      ],
      "text/plain": [
       "   Dominant_Topic  \\\n",
       "0             0.0   \n",
       "1             0.0   \n",
       "2             0.0   \n",
       "3             0.0   \n",
       "4             0.0   \n",
       "\n",
       "                                                                                        Topic_Keywords  \\\n",
       "0  dérèglement, crue, pollution, biodiversité, disparition, espèce, air, érosion, proposition, réponse   \n",
       "1  dérèglement, crue, pollution, biodiversité, disparition, espèce, air, érosion, proposition, réponse   \n",
       "2  dérèglement, crue, pollution, biodiversité, disparition, espèce, air, érosion, proposition, réponse   \n",
       "3  dérèglement, crue, pollution, biodiversité, disparition, espèce, air, érosion, proposition, réponse   \n",
       "4  dérèglement, crue, pollution, biodiversité, disparition, espèce, air, érosion, proposition, réponse   \n",
       "\n",
       "   Num_Documents  Perc_Documents  \n",
       "0         5573.0          0.9746  \n",
       "1          117.0          0.0205  \n",
       "2           27.0          0.0047  \n",
       "3            1.0          0.0002  \n",
       "4            NaN             NaN  "
      ]
     },
     "execution_count": 95,
     "metadata": {},
     "output_type": "execute_result"
    }
   ],
   "source": [
    "# Number of Documents for Each Topic\n",
    "topic_counts = df_topic_sents_keywords['Dominant_Topic'].value_counts()\n",
    "\n",
    "# Percentage of Documents for Each Topic\n",
    "topic_contribution = round(topic_counts/topic_counts.sum(), 4)\n",
    "\n",
    "# Topic Number and Keywords\n",
    "topic_num_keywords = df_topic_sents_keywords[['Dominant_Topic', 'Topic_Keywords']]\n",
    "\n",
    "# Concatenate Column wise\n",
    "df_dominant_topics = pd.concat([topic_num_keywords, topic_counts, topic_contribution], axis=1)\n",
    "\n",
    "# Change Column names\n",
    "df_dominant_topics.columns = ['Dominant_Topic', 'Topic_Keywords', 'Num_Documents', 'Perc_Documents']\n",
    "\n",
    "# Show\n",
    "df_dominant_topics.head()"
   ]
  },
  {
   "cell_type": "markdown",
   "metadata": {},
   "source": [
    "# Topic Coherence"
   ]
  },
  {
   "cell_type": "markdown",
   "metadata": {
    "colab_type": "text",
    "id": "hVjL4Knop6cX"
   },
   "source": [
    "Let's identify which topic model is 'better'. By returning a score, we can compare between different topic models of the same. "
   ]
  },
  {
   "cell_type": "markdown",
   "metadata": {
    "colab_type": "text",
    "id": "lHtAsOnNtHEd"
   },
   "source": [
    "# Using LSI"
   ]
  },
  {
   "cell_type": "markdown",
   "metadata": {
    "colab_type": "text",
    "id": "BXy0xedkrXeE"
   },
   "source": [
    "LSI stands for Latent Semantic Indeixing - it is a popular information retreival method which works by decomposing the original matrix of words to maintain key topics. Gensim's implementation uses an SVD."
   ]
  },
  {
   "cell_type": "code",
   "execution_count": null,
   "metadata": {
    "colab": {
     "base_uri": "https://localhost:8080/",
     "height": 214
    },
    "colab_type": "code",
    "id": "up9AVUqOsXPM",
    "outputId": "0b19ebce-aa59-4fd0-d917-9d4908d81d91"
   },
   "outputs": [],
   "source": [
    "\n",
    "lsimodel = LsiModel(corpus=corpus, num_topics=5, id2word=id2word)\n",
    "lsimodel.show_topics(num_topics=5)  # Showing only the top 5 topics\n"
   ]
  },
  {
   "cell_type": "markdown",
   "metadata": {
    "colab_type": "text",
    "id": "FFuaTbCfqy8u"
   },
   "source": [
    "# Using HDP"
   ]
  },
  {
   "cell_type": "markdown",
   "metadata": {
    "colab_type": "text",
    "id": "vXioSYQwqxdR"
   },
   "source": [
    "HDP, the Hierarchical Dirichlet process is an unsupervised topic model which figures out the number of topics on it's own"
   ]
  },
  {
   "cell_type": "code",
   "execution_count": null,
   "metadata": {
    "colab": {},
    "colab_type": "code",
    "id": "D1miEjq1qvZP"
   },
   "outputs": [],
   "source": [
    "hdpmodel = HdpModel(corpus=corpus, id2word=id2word)\n",
    "\n"
   ]
  },
  {
   "cell_type": "code",
   "execution_count": null,
   "metadata": {
    "colab": {
     "base_uri": "https://localhost:8080/",
     "height": 321
    },
    "colab_type": "code",
    "id": "AsO8PICyGI8z",
    "outputId": "1c9540dd-8b66-40ec-b0c6-1dad2128ee17"
   },
   "outputs": [],
   "source": [
    "hdpmodel.print_topics(num_topics=8, num_words=10)"
   ]
  },
  {
   "cell_type": "code",
   "execution_count": null,
   "metadata": {},
   "outputs": [],
   "source": [
    "lsitopics = [[word for word, prob in topic] for topicid, topic in lsimodel.show_topics(formatted=False)]\n",
    "\n",
    "hdptopics = [[word for word, prob in topic] for topicid, topic in hdpmodel.show_topics(formatted=False)]\n",
    "\n",
    "ldatopics = [[word for word, prob in topic] for topicid, topic in lda_model2.show_topics(formatted=False)]"
   ]
  },
  {
   "cell_type": "code",
   "execution_count": null,
   "metadata": {
    "colab": {},
    "colab_type": "code",
    "id": "HUFqe8lwrmsI"
   },
   "outputs": [],
   "source": [
    "tokenized_data = tokenization(list(lemm_data['title']))\n",
    "lsi_coherence = CoherenceModel(topics=lsitopics[:10], texts=tokenized_data, dictionary=id2word, window_size=10).get_coherence()\n",
    "\n",
    "hdp_coherence = CoherenceModel(topics=hdptopics[:10], texts=tokenized_data, dictionary=id2word, window_size=10).get_coherence()\n",
    "\n",
    "lda_coherence = CoherenceModel(topics=ldatopics, texts=tokenized_data, dictionary=id2word, window_size=10).get_coherence()"
   ]
  },
  {
   "cell_type": "code",
   "execution_count": null,
   "metadata": {
    "colab": {},
    "colab_type": "code",
    "id": "7yiDIeWQrndo"
   },
   "outputs": [],
   "source": [
    "def evaluate_bar_graph(coherences, indices):\n",
    "    \"\"\"\n",
    "    Function to plot bar graph.\n",
    "    \n",
    "    coherences: list of coherence values\n",
    "    indices: Indices to be used to mark bars. Length of this and coherences should be equal.\n",
    "    \"\"\"\n",
    "    assert len(coherences) == len(indices)\n",
    "    n = len(coherences)\n",
    "    x = np.arange(n)\n",
    "    plt.bar(x, coherences, width=0.2, tick_label=indices, align='center')\n",
    "    plt.xlabel('Models')\n",
    "    plt.ylabel('Coherence Value')"
   ]
  },
  {
   "cell_type": "code",
   "execution_count": null,
   "metadata": {
    "colab": {
     "base_uri": "https://localhost:8080/",
     "height": 282
    },
    "colab_type": "code",
    "id": "Z0WO4CPerpvg",
    "outputId": "90a93649-7948-41cc-eb8f-ad539d691de6"
   },
   "outputs": [],
   "source": [
    "evaluate_bar_graph([lsi_coherence, hdp_coherence, lda_coherence],\n",
    "                   ['LSI', 'HDP', 'LDA'])"
   ]
  },
  {
   "cell_type": "markdown",
   "metadata": {
    "colab": {},
    "colab_type": "code",
    "id": "0EWiQOQUzzPG"
   },
   "source": [
    "# CONCLUSION"
   ]
  },
  {
   "cell_type": "markdown",
   "metadata": {},
   "source": [
    "As a conclusion , these are the major topics that most frensh people talked about :'Déreglements et disparition de certaines espèces', 'pollution et déchets','usage excessif des véhicules','mode de chauffage'"
   ]
  },
  {
   "cell_type": "code",
   "execution_count": null,
   "metadata": {},
   "outputs": [],
   "source": []
  }
 ],
 "metadata": {
  "accelerator": "TPU",
  "colab": {
   "name": "TopicModeling_with_cleaned_data.ipynb",
   "provenance": [],
   "toc_visible": true,
   "version": "0.3.2"
  },
  "kernelspec": {
   "display_name": "Python 3",
   "language": "python",
   "name": "python3"
  },
  "language_info": {
   "codemirror_mode": {
    "name": "ipython",
    "version": 3
   },
   "file_extension": ".py",
   "mimetype": "text/x-python",
   "name": "python",
   "nbconvert_exporter": "python",
   "pygments_lexer": "ipython3",
   "version": "3.7.2"
  }
 },
 "nbformat": 4,
 "nbformat_minor": 1
}
